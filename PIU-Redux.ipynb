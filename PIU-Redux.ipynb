{
 "cells": [
  {
   "cell_type": "code",
   "execution_count": 1,
   "metadata": {},
   "outputs": [],
   "source": [
    "import numpy as np\n",
    "import pandas as pd\n",
    "import os\n",
    "import random\n",
    "from sklearn.base import clone\n",
    "from sklearn.metrics import cohen_kappa_score,  make_scorer\n",
    "from sklearn.model_selection import StratifiedKFold, cross_val_score, train_test_split\n",
    "from sklearn.feature_selection import SelectKBest, f_classif\n",
    "from sklearn.ensemble import VotingRegressor, RandomForestClassifier, VotingClassifier\n",
    "from sklearn.impute import SimpleImputer, KNNImputer\n",
    "from sklearn.compose import ColumnTransformer\n",
    "from sklearn.pipeline import Pipeline\n",
    "from sklearn.preprocessing import StandardScaler, MinMaxScaler, RobustScaler\n",
    "from sklearn.decomposition import PCA\n",
    "from scipy.optimize import minimize, minimize_scalar\n",
    "from scipy import stats\n",
    "from concurrent.futures import ThreadPoolExecutor\n",
    "from tqdm import tqdm\n",
    "from colorama import Fore, Style\n",
    "from IPython.display import clear_output\n",
    "from lightgbm import LGBMRegressor, LGBMClassifier\n",
    "from xgboost import XGBRegressor, XGBClassifier\n",
    "from catboost import CatBoostRegressor, CatBoostClassifier\n",
    "from imblearn.over_sampling import SMOTE\n",
    "import matplotlib.pyplot as plt\n",
    "import seaborn as sns\n",
    "import warnings\n",
    "import optuna\n",
    "import json\n",
    "import torch\n",
    "import torch.nn as nn\n",
    "import torch.optim as optim\n",
    "from torch.utils.data import DataLoader, TensorDataset\n",
    "import time\n",
    "\n",
    "torch.manual_seed(42)\n",
    "np.random.seed(42)\n",
    "random.seed(42)"
   ]
  },
  {
   "cell_type": "code",
   "execution_count": 2,
   "metadata": {},
   "outputs": [
    {
     "data": {
      "text/plain": [
       "False"
      ]
     },
     "execution_count": 2,
     "metadata": {},
     "output_type": "execute_result"
    }
   ],
   "source": [
    "# If using CUDA (GPU)\n",
    "torch.cuda.is_available()"
   ]
  },
  {
   "cell_type": "code",
   "execution_count": 3,
   "metadata": {},
   "outputs": [],
   "source": [
    "# Create output folders\n",
    "output_folder = 'output'\n",
    "if not os.path.exists(output_folder):\n",
    "    os.makedirs(output_folder)\n",
    "\n",
    "# Create separate analysis output folders\n",
    "analysis_output_folder = 'analysis_output'\n",
    "os.makedirs(analysis_output_folder, exist_ok=True)\n",
    "\n",
    "physical_analysis_output_folder = 'analysis_output/physical'\n",
    "os.makedirs(physical_analysis_output_folder, exist_ok=True)\n",
    "\n",
    "fitness_analysis_output_folder = 'analysis_output/fitness'\n",
    "os.makedirs(fitness_analysis_output_folder, exist_ok=True)\n",
    "\n",
    "bia_analysis_output_folder = 'analysis_output/bia'\n",
    "os.makedirs(bia_analysis_output_folder, exist_ok=True)\n",
    "\n",
    "child_info_analysis_output_folder = 'analysis_output/child_info'\n",
    "os.makedirs(child_info_analysis_output_folder, exist_ok=True)\n",
    "\n",
    "actigraphy_analysis_output_folder = 'analysis_output/actigraphy'\n",
    "os.makedirs(actigraphy_analysis_output_folder, exist_ok=True)\n",
    "\n",
    "# Set display all columns in dataframes property\n",
    "pd.options.display.max_columns = None\n",
    "\n",
    "# Supress warnings\n",
    "warnings.filterwarnings('ignore')"
   ]
  },
  {
   "cell_type": "code",
   "execution_count": 4,
   "metadata": {},
   "outputs": [],
   "source": [
    "# Model classes\n",
    "class ResidualBlock(nn.Module):\n",
    "    def __init__(self, in_features, out_features):\n",
    "        super(ResidualBlock, self).__init__()\n",
    "        \n",
    "        self.block = nn.Sequential(\n",
    "            nn.Linear(in_features, out_features),\n",
    "            nn.BatchNorm1d(out_features),\n",
    "            nn.LeakyReLU(0.2),\n",
    "            nn.Dropout(0.2),\n",
    "            nn.Linear(out_features, out_features),\n",
    "            nn.BatchNorm1d(out_features)\n",
    "        )\n",
    "        \n",
    "        self.skip = nn.Sequential(\n",
    "            nn.Linear(in_features, out_features),\n",
    "            nn.BatchNorm1d(out_features)\n",
    "        ) if in_features != out_features else nn.Identity()\n",
    "        \n",
    "        self.activation = nn.LeakyReLU(0.2)\n",
    "        \n",
    "    def forward(self, x):\n",
    "        return self.activation(self.block(x) + self.skip(x))\n",
    "\n",
    "class AdvancedAutoencoder(nn.Module):\n",
    "    def __init__(self, input_dim, latent_dim=32, dropout_rate=0.2):\n",
    "        super(AdvancedAutoencoder, self).__init__()\n",
    "        \n",
    "        # Encoder with residual connections and batch normalization\n",
    "        self.encoder = nn.Sequential(\n",
    "            # Input layer\n",
    "            nn.Linear(input_dim, 128),\n",
    "            nn.BatchNorm1d(128),\n",
    "            nn.LeakyReLU(0.2),\n",
    "            nn.Dropout(dropout_rate),\n",
    "            \n",
    "            # First residual block\n",
    "            ResidualBlock(128, 96),\n",
    "            \n",
    "            # Second residual block\n",
    "            ResidualBlock(96, 64),\n",
    "            \n",
    "            # Bottleneck layers with variational component\n",
    "            nn.Linear(64, 32),\n",
    "            nn.BatchNorm1d(32),\n",
    "            nn.LeakyReLU(0.2),\n",
    "            \n",
    "            # Mean and log variance for variational component\n",
    "            nn.Linear(32, latent_dim * 2)\n",
    "        )\n",
    "        \n",
    "        # Decoder with transpose of encoder architecture\n",
    "        self.decoder = nn.Sequential(\n",
    "            nn.Linear(latent_dim, 32),\n",
    "            nn.BatchNorm1d(32),\n",
    "            nn.LeakyReLU(0.2),\n",
    "            nn.Dropout(dropout_rate),\n",
    "            \n",
    "            # Expanding layers\n",
    "            ResidualBlock(32, 64),\n",
    "            ResidualBlock(64, 96),\n",
    "            \n",
    "            # Output layer\n",
    "            nn.Linear(96, input_dim),\n",
    "            nn.Sigmoid()\n",
    "        )\n",
    "    \n",
    "    def reparameterize(self, mu, log_var):\n",
    "        std = torch.exp(0.5 * log_var)\n",
    "        eps = torch.randn_like(std)\n",
    "        return mu + eps * std\n",
    "        \n",
    "    def forward(self, x):\n",
    "        # Encode\n",
    "        h = self.encoder(x)\n",
    "        mu, log_var = h.chunk(2, dim=1)\n",
    "        \n",
    "        # Reparameterize\n",
    "        z = self.reparameterize(mu, log_var)\n",
    "        \n",
    "        # Decode\n",
    "        reconstructed = self.decoder(z)\n",
    "        \n",
    "        return reconstructed, mu, log_var, z"
   ]
  },
  {
   "cell_type": "code",
   "execution_count": 5,
   "metadata": {},
   "outputs": [],
   "source": [
    "# Helper functions\n",
    "def train_model(model, train_loader, val_loader, epochs=150, learning_rate=0.001, beta=0.05, device='cuda'):\n",
    "    model = model.to(device)\n",
    "    optimizer = optim.AdamW(model.parameters(), lr=learning_rate, weight_decay=1e-4)\n",
    "    scheduler = optim.lr_scheduler.CosineAnnealingLR(optimizer, T_max=epochs)\n",
    "    \n",
    "    reconstruction_criterion = nn.MSELoss()\n",
    "    best_val_loss = float('inf')\n",
    "    best_model = None\n",
    "    \n",
    "    history = {'train_loss': [], 'val_loss': []}\n",
    "    \n",
    "    for epoch in tqdm(range(epochs), desc=\"Training\"):\n",
    "        # Training phase\n",
    "        model.train()\n",
    "        train_loss = 0\n",
    "        for batch in train_loader:\n",
    "            x = batch[0].to(device)\n",
    "            \n",
    "            # Forward pass\n",
    "            reconstructed, mu, log_var, z = model(x)\n",
    "            \n",
    "            # Calculate losses\n",
    "            recon_loss = reconstruction_criterion(reconstructed, x)\n",
    "            kl_loss = -0.5 * torch.sum(1 + log_var - mu.pow(2) - log_var.exp())\n",
    "            total_loss = recon_loss + beta * kl_loss\n",
    "            \n",
    "            # Backward pass\n",
    "            optimizer.zero_grad()\n",
    "            total_loss.backward()\n",
    "            optimizer.step()\n",
    "            \n",
    "            train_loss += total_loss.item()\n",
    "        \n",
    "        # Validation phase\n",
    "        model.eval()\n",
    "        val_loss = 0\n",
    "        with torch.no_grad():\n",
    "            for batch in val_loader:\n",
    "                x = batch[0].to(device)\n",
    "                reconstructed, mu, log_var, z = model(x)\n",
    "                \n",
    "                recon_loss = reconstruction_criterion(reconstructed, x)\n",
    "                kl_loss = -0.5 * torch.sum(1 + log_var - mu.pow(2) - log_var.exp())\n",
    "                total_loss = recon_loss + beta * kl_loss\n",
    "                val_loss += total_loss.item()\n",
    "        \n",
    "        # Update learning rate\n",
    "        scheduler.step()\n",
    "        \n",
    "        # Record losses\n",
    "        avg_train_loss = train_loss / len(train_loader)\n",
    "        avg_val_loss = val_loss / len(val_loader)\n",
    "        history['train_loss'].append(avg_train_loss)\n",
    "        history['val_loss'].append(avg_val_loss)\n",
    "        \n",
    "        # Save best model\n",
    "        if avg_val_loss < best_val_loss:\n",
    "            best_val_loss = avg_val_loss\n",
    "            best_model = model.state_dict().copy()\n",
    "        \n",
    "        if (epoch + 1) % 10 == 0:\n",
    "            print(f'Epoch [{epoch+1}/{epochs}], Train Loss: {avg_train_loss:.4f}, Val Loss: {avg_val_loss:.4f}')\n",
    "    \n",
    "    # Load best model\n",
    "    model.load_state_dict(best_model)\n",
    "    return model, history\n",
    "\n",
    "def encode_data(model, data, scaler, device='cuda'):\n",
    "    model.eval()\n",
    "    scaled_data = scaler.transform(data)\n",
    "    data_tensor = torch.FloatTensor(scaled_data).to(device)\n",
    "    \n",
    "    with torch.no_grad():\n",
    "        _, mu, _, z = model(data_tensor)\n",
    "    \n",
    "    return mu.cpu().numpy(), z.cpu().numpy()\n",
    "\n",
    "def decode_data(model, latent_vectors, scaler, device='cuda'):\n",
    "    model.eval()\n",
    "    latent_tensor = torch.FloatTensor(latent_vectors).to(device)\n",
    "    \n",
    "    with torch.no_grad():\n",
    "        reconstructed = model.decoder(latent_tensor)\n",
    "    \n",
    "    return scaler.inverse_transform(reconstructed.cpu().numpy())"
   ]
  },
  {
   "cell_type": "code",
   "execution_count": 6,
   "metadata": {},
   "outputs": [],
   "source": [
    "def process_file(filename, dirname):\n",
    "    df = pd.read_parquet(os.path.join(dirname, filename, 'part-0.parquet'))\n",
    "    df.drop('step', axis=1, inplace=True)\n",
    "    return df.describe().values.reshape(-1), filename.split('=')[1]\n",
    "\n",
    "def load_time_series(dirname) -> pd.DataFrame:\n",
    "    ids = os.listdir(dirname)\n",
    "    \n",
    "    with ThreadPoolExecutor() as executor:\n",
    "        results = list(tqdm(executor.map(lambda fname: process_file(fname, dirname), ids), total=len(ids)))\n",
    "    \n",
    "    stats, indexes = zip(*results)\n",
    "    \n",
    "    df = pd.DataFrame(stats, columns=[f\"stat_{i}\" for i in range(len(stats[0]))])\n",
    "    df['id'] = indexes\n",
    "    return df"
   ]
  },
  {
   "cell_type": "code",
   "execution_count": 7,
   "metadata": {},
   "outputs": [],
   "source": [
    "def train_timeseries_autoencoder(df_train, df_test, verbose=True):\n",
    "    \"\"\"Train autoencoder on time series statistics\"\"\"\n",
    "    # Set device\n",
    "    device = torch.device('cuda' if torch.cuda.is_available() else 'cpu')\n",
    "    if verbose:\n",
    "        print(f\"Using device: {device}\")\n",
    "\n",
    "    # Initialize model\n",
    "    input_dim = df_train.shape[1]\n",
    "    model = AdvancedAutoencoder(input_dim=input_dim, latent_dim=32, dropout_rate=0.2)\n",
    "    \n",
    "    # Prepare data\n",
    "    scaler = StandardScaler()\n",
    "    train_scaled = scaler.fit_transform(df_train)\n",
    "    test_scaled = scaler.transform(df_test)\n",
    "    \n",
    "    # Convert to tensors\n",
    "    train_tensor = torch.FloatTensor(train_scaled)\n",
    "    test_tensor = torch.FloatTensor(test_scaled)\n",
    "    \n",
    "    # Create data loaders\n",
    "    train_loader = DataLoader(TensorDataset(train_tensor), batch_size=64, shuffle=True)\n",
    "    val_loader = DataLoader(TensorDataset(test_tensor), batch_size=64)\n",
    "    \n",
    "    # Train model\n",
    "    model, history = train_model(\n",
    "        model=model,\n",
    "        train_loader=train_loader,\n",
    "        val_loader=val_loader,\n",
    "        epochs=150,\n",
    "        learning_rate=0.001,\n",
    "        beta=0.05,\n",
    "        device=device\n",
    "    )\n",
    "    \n",
    "    # Generate encodings\n",
    "    train_mu, train_z = encode_data(model, df_train, scaler, device)\n",
    "    test_mu, test_z = encode_data(model, df_test, scaler, device)\n",
    "    \n",
    "    # Create DataFrames with encoded features\n",
    "    train_encoded = pd.DataFrame(\n",
    "        train_z,\n",
    "        columns=[f'ae_feature_{i}' for i in range(train_z.shape[1])]\n",
    "    )\n",
    "    test_encoded = pd.DataFrame(\n",
    "        test_z,\n",
    "        columns=[f'ae_feature_{i}' for i in range(test_z.shape[1])]\n",
    "    )\n",
    "    \n",
    "    # Calculate reconstruction error\n",
    "    train_reconstructed = decode_data(model, train_z, scaler, device)\n",
    "    test_reconstructed = decode_data(model, test_z, scaler, device)\n",
    "    \n",
    "    train_mse = np.mean((df_train.values - train_reconstructed) ** 2, axis=1)\n",
    "    test_mse = np.mean((df_test.values - test_reconstructed) ** 2, axis=1)\n",
    "    \n",
    "    train_encoded['reconstruction_error'] = train_mse\n",
    "    test_encoded['reconstruction_error'] = test_mse\n",
    "    \n",
    "    if verbose:\n",
    "        # Plot training history\n",
    "        plt.figure(figsize=(12, 6))\n",
    "        plt.plot(history['train_loss'], label='Training Loss')\n",
    "        plt.plot(history['val_loss'], label='Validation Loss')\n",
    "        plt.xlabel('Epoch')\n",
    "        plt.ylabel('Loss')\n",
    "        plt.title('Autoencoder Training History')\n",
    "        plt.legend()\n",
    "        plt.show()\n",
    "        \n",
    "        # Plot reconstruction error distribution\n",
    "        plt.figure(figsize=(12, 6))\n",
    "        plt.hist(train_mse, bins=50, alpha=0.5, label='Train')\n",
    "        plt.hist(test_mse, bins=50, alpha=0.5, label='Test')\n",
    "        plt.xlabel('Reconstruction Error')\n",
    "        plt.ylabel('Count')\n",
    "        plt.title('Reconstruction Error Distribution')\n",
    "        plt.legend()\n",
    "        plt.show()\n",
    "        \n",
    "        # Plot feature importance\n",
    "        corr = np.corrcoef(train_z.T)[0]\n",
    "        plt.figure(figsize=(12, 6))\n",
    "        plt.bar(range(len(corr)), np.abs(corr))\n",
    "        plt.xlabel('Latent Dimension')\n",
    "        plt.ylabel('Absolute Correlation with First Component')\n",
    "        plt.title('Latent Space Feature Importance')\n",
    "        plt.show()\n",
    "    \n",
    "    return model, train_encoded, test_encoded, scaler"
   ]
  },
  {
   "cell_type": "code",
   "execution_count": 8,
   "metadata": {},
   "outputs": [
    {
     "name": "stdout",
     "output_type": "stream",
     "text": [
      "Loading data...\n",
      "Loading time series data...\n"
     ]
    },
    {
     "name": "stderr",
     "output_type": "stream",
     "text": [
      "100%|██████████| 996/996 [00:21<00:00, 45.71it/s]\n",
      "100%|██████████| 2/2 [00:00<00:00, 27.40it/s]"
     ]
    },
    {
     "name": "stdout",
     "output_type": "stream",
     "text": [
      "Preparing features...\n"
     ]
    },
    {
     "name": "stderr",
     "output_type": "stream",
     "text": [
      "\n"
     ]
    }
   ],
   "source": [
    "# Load data\n",
    "print(\"Loading data...\")\n",
    "train = pd.read_csv('input/train.csv')\n",
    "test = pd.read_csv('input/test.csv')\n",
    "\n",
    "print(\"Loading time series data...\")\n",
    "train_ts = load_time_series(\"input/series_train.parquet\")\n",
    "test_ts = load_time_series(\"input/series_test.parquet\")\n",
    "\n",
    "print(\"Preparing features...\")\n",
    "df_train = train_ts.drop('id', axis=1)\n",
    "df_test = test_ts.drop('id', axis=1)"
   ]
  },
  {
   "cell_type": "code",
   "execution_count": 9,
   "metadata": {},
   "outputs": [
    {
     "name": "stdout",
     "output_type": "stream",
     "text": [
      "Training autoencoder...\n",
      "Using device: cpu\n"
     ]
    },
    {
     "name": "stderr",
     "output_type": "stream",
     "text": [
      "Training:   7%|▋         | 10/150 [00:01<00:25,  5.45it/s]"
     ]
    },
    {
     "name": "stdout",
     "output_type": "stream",
     "text": [
      "Epoch [10/150], Train Loss: 1.0573, Val Loss: 0.9520\n"
     ]
    },
    {
     "name": "stderr",
     "output_type": "stream",
     "text": [
      "Training:  13%|█▎        | 20/150 [00:03<00:24,  5.40it/s]"
     ]
    },
    {
     "name": "stdout",
     "output_type": "stream",
     "text": [
      "Epoch [20/150], Train Loss: 1.0041, Val Loss: 0.9527\n"
     ]
    },
    {
     "name": "stderr",
     "output_type": "stream",
     "text": [
      "Training:  21%|██        | 31/150 [00:05<00:21,  5.58it/s]"
     ]
    },
    {
     "name": "stdout",
     "output_type": "stream",
     "text": [
      "Epoch [30/150], Train Loss: 0.9883, Val Loss: 0.9470\n"
     ]
    },
    {
     "name": "stderr",
     "output_type": "stream",
     "text": [
      "Training:  27%|██▋       | 41/150 [00:07<00:18,  5.76it/s]"
     ]
    },
    {
     "name": "stdout",
     "output_type": "stream",
     "text": [
      "Epoch [40/150], Train Loss: 0.9935, Val Loss: 0.9454\n"
     ]
    },
    {
     "name": "stderr",
     "output_type": "stream",
     "text": [
      "Training:  34%|███▍      | 51/150 [00:09<00:17,  5.62it/s]"
     ]
    },
    {
     "name": "stdout",
     "output_type": "stream",
     "text": [
      "Epoch [50/150], Train Loss: 0.9895, Val Loss: 0.9448\n"
     ]
    },
    {
     "name": "stderr",
     "output_type": "stream",
     "text": [
      "Training:  40%|████      | 60/150 [00:10<00:15,  5.70it/s]"
     ]
    },
    {
     "name": "stdout",
     "output_type": "stream",
     "text": [
      "Epoch [60/150], Train Loss: 0.9959, Val Loss: 0.9464\n"
     ]
    },
    {
     "name": "stderr",
     "output_type": "stream",
     "text": [
      "Training:  47%|████▋     | 70/150 [00:12<00:14,  5.65it/s]"
     ]
    },
    {
     "name": "stdout",
     "output_type": "stream",
     "text": [
      "Epoch [70/150], Train Loss: 0.9824, Val Loss: 0.9457\n"
     ]
    },
    {
     "name": "stderr",
     "output_type": "stream",
     "text": [
      "Training:  53%|█████▎    | 80/150 [00:14<00:12,  5.74it/s]"
     ]
    },
    {
     "name": "stdout",
     "output_type": "stream",
     "text": [
      "Epoch [80/150], Train Loss: 0.9838, Val Loss: 0.9455\n"
     ]
    },
    {
     "name": "stderr",
     "output_type": "stream",
     "text": [
      "Training:  61%|██████    | 91/150 [00:16<00:10,  5.70it/s]"
     ]
    },
    {
     "name": "stdout",
     "output_type": "stream",
     "text": [
      "Epoch [90/150], Train Loss: 0.9832, Val Loss: 0.9465\n"
     ]
    },
    {
     "name": "stderr",
     "output_type": "stream",
     "text": [
      "Training:  67%|██████▋   | 101/150 [00:17<00:08,  5.64it/s]"
     ]
    },
    {
     "name": "stdout",
     "output_type": "stream",
     "text": [
      "Epoch [100/150], Train Loss: 0.9857, Val Loss: 0.9446\n"
     ]
    },
    {
     "name": "stderr",
     "output_type": "stream",
     "text": [
      "Training:  73%|███████▎  | 110/150 [00:19<00:07,  5.70it/s]"
     ]
    },
    {
     "name": "stdout",
     "output_type": "stream",
     "text": [
      "Epoch [110/150], Train Loss: 0.9750, Val Loss: 0.9468\n"
     ]
    },
    {
     "name": "stderr",
     "output_type": "stream",
     "text": [
      "Training:  81%|████████  | 121/150 [00:21<00:04,  5.88it/s]"
     ]
    },
    {
     "name": "stdout",
     "output_type": "stream",
     "text": [
      "Epoch [120/150], Train Loss: 0.9759, Val Loss: 0.9464\n"
     ]
    },
    {
     "name": "stderr",
     "output_type": "stream",
     "text": [
      "Training:  87%|████████▋ | 131/150 [00:23<00:03,  5.86it/s]"
     ]
    },
    {
     "name": "stdout",
     "output_type": "stream",
     "text": [
      "Epoch [130/150], Train Loss: 0.9774, Val Loss: 0.9457\n"
     ]
    },
    {
     "name": "stderr",
     "output_type": "stream",
     "text": [
      "Training:  94%|█████████▍| 141/150 [00:24<00:01,  5.85it/s]"
     ]
    },
    {
     "name": "stdout",
     "output_type": "stream",
     "text": [
      "Epoch [140/150], Train Loss: 0.9836, Val Loss: 0.9452\n"
     ]
    },
    {
     "name": "stderr",
     "output_type": "stream",
     "text": [
      "Training: 100%|██████████| 150/150 [00:26<00:00,  5.68it/s]\n"
     ]
    },
    {
     "name": "stdout",
     "output_type": "stream",
     "text": [
      "Epoch [150/150], Train Loss: 0.9801, Val Loss: 0.9500\n"
     ]
    },
    {
     "data": {
      "image/png": "[encoded data removed]",
      "text/plain": [
       "<Figure size 1200x600 with 1 Axes>"
      ]
     },
     "metadata": {},
     "output_type": "display_data"
    },
    {
     "data": {
      "image/png": "[encoded data removed]",
      "text/plain": [
       "<Figure size 1200x600 with 1 Axes>"
      ]
     },
     "metadata": {},
     "output_type": "display_data"
    },
    {
     "data": {
      "image/png": "[encoded data removed]",
      "text/plain": [
       "<Figure size 1200x600 with 1 Axes>"
      ]
     },
     "metadata": {},
     "output_type": "display_data"
    },
    {
     "name": "stdout",
     "output_type": "stream",
     "text": [
      "Adding encoded features...\n",
      "\n",
      "Train shape after encoding: (996, 130)\n",
      "Test shape after encoding: (2, 130)\n",
      "Done!\n"
     ]
    }
   ],
   "source": [
    "# Train autoencoder\n",
    "print(\"Training autoencoder...\")\n",
    "model, train_encoded, test_encoded, scaler = train_timeseries_autoencoder(\n",
    "    df_train, \n",
    "    df_test,\n",
    "    verbose=True\n",
    ")\n",
    "\n",
    "# Add encoded features to original dataframes\n",
    "print(\"Adding encoded features...\")\n",
    "train_ts_with_features = pd.concat([train_ts, train_encoded], axis=1)\n",
    "test_ts_with_features = pd.concat([test_ts, test_encoded], axis=1)\n",
    "\n",
    "print(\"\\nTrain shape after encoding:\", train_ts_with_features.shape)\n",
    "print(\"Test shape after encoding:\", test_ts_with_features.shape)\n",
    "\n",
    "print(\"Done!\")"
   ]
  },
  {
   "cell_type": "code",
   "execution_count": 10,
   "metadata": {},
   "outputs": [
    {
     "name": "stdout",
     "output_type": "stream",
     "text": [
      "Applying Box-Cox transformations...\n",
      "Processing training data...\n"
     ]
    },
    {
     "name": "stderr",
     "output_type": "stream",
     "text": [
      "100%|██████████| 24/24 [00:00<00:00, 496.51it/s]\n"
     ]
    },
    {
     "name": "stdout",
     "output_type": "stream",
     "text": [
      "Optimal lambda for stat_23: 0.1644\n",
      "Rows before/after: 996/996\n",
      "Optimal lambda for stat_35: 0.2975\n",
      "Rows before/after: 996/996\n",
      "Optimal lambda for stat_38: 68.4053\n",
      "Rows before/after: 996/996\n",
      "Optimal lambda for stat_40: -2.6196\n",
      "Rows before/after: 996/996\n",
      "Optimal lambda for stat_47: 0.1592\n",
      "Rows before/after: 996/996\n",
      "Optimal lambda for stat_54: -0.3639\n",
      "Rows before/after: 996/996\n",
      "Optimal lambda for stat_66: 0.0516\n",
      "Rows before/after: 996/996\n",
      "Optimal lambda for stat_78: 0.0902\n",
      "Rows before/after: 996/996\n",
      "Optimal lambda for stat_80: 2.3224\n",
      "Rows before/after: 996/996\n",
      "Optimal lambda for stat_88: 53.2662\n",
      "Rows before/after: 996/996\n",
      "Optimal lambda for stat_90: 0.8219\n",
      "Rows before/after: 996/996\n",
      "\n",
      "Processing test data...\n"
     ]
    },
    {
     "name": "stderr",
     "output_type": "stream",
     "text": [
      "100%|██████████| 24/24 [00:00<00:00, 2999.95it/s]"
     ]
    },
    {
     "name": "stdout",
     "output_type": "stream",
     "text": [
      "Applied lambda 0.1644 to stat_23\n",
      "Rows before/after: 2/2\n",
      "Applied lambda 0.2975 to stat_35\n",
      "Rows before/after: 2/2\n",
      "Applied lambda 68.4053 to stat_38\n",
      "Rows before/after: 2/2\n",
      "Applied lambda -2.6196 to stat_40\n",
      "Rows before/after: 2/2\n",
      "Applied lambda 0.1592 to stat_47\n",
      "Rows before/after: 2/2\n",
      "Applied lambda -0.3639 to stat_54\n",
      "Rows before/after: 2/2\n",
      "Applied lambda 0.0516 to stat_66\n",
      "Rows before/after: 2/2\n",
      "Applied lambda 0.0902 to stat_78\n",
      "Rows before/after: 2/2\n",
      "Applied lambda 2.3224 to stat_80\n",
      "Rows before/after: 2/2\n",
      "Applied lambda 53.2662 to stat_88\n",
      "Rows before/after: 2/2\n",
      "Applied lambda 0.8219 to stat_90\n",
      "Rows before/after: 2/2\n",
      "\n",
      "Successfully transformed 11 columns\n",
      "\n",
      "Plotting transformations...\n"
     ]
    },
    {
     "name": "stderr",
     "output_type": "stream",
     "text": [
      "\n"
     ]
    },
    {
     "data": {
      "image/png": "[encoded data removed]",
      "text/plain": [
       "<Figure size 2400x1600 with 24 Axes>"
      ]
     },
     "metadata": {},
     "output_type": "display_data"
    },
    {
     "name": "stdout",
     "output_type": "stream",
     "text": [
      "\n",
      "Data preprocessing complete!\n"
     ]
    }
   ],
   "source": [
    "# Skew removal for specified columns\n",
    "skewed_columns = [\n",
    "    'BIA-BIA_BMC', 'BIA-BIA_BMR', 'BIA-BIA_DEE', 'BIA-BIA_ECW', 'BIA-BIA_Fat',\n",
    "    'BIA-BIA_FFM', 'BIA-BIA_FFMI', 'BIA-BIA_FMI', 'BIA-BIA_ICW', 'BIA-BIA_LDM', 'BIA-BIA_LST', \n",
    "    'BIA-BIA_TBW', 'CGAS-CGAS_Score', 'stat_23', 'stat_35', 'stat_38', 'stat_40', 'stat_47',\n",
    "    'stat_54', 'stat_66', 'stat_78', 'stat_80', 'stat_88', 'stat_90'\n",
    "]\n",
    "\n",
    "def box_cox_transform(df, column, lambda_param=None, verbose=True):\n",
    "    \"\"\"Apply Box-Cox transformation to a column\"\"\"\n",
    "    df_copy = df.copy()\n",
    "    df_copy = df_copy.dropna(subset=[column])\n",
    "    \n",
    "    # Ensure all values are positive\n",
    "    min_value = df_copy[column].min()\n",
    "    if min_value <= 0:\n",
    "        df_copy[column] = df_copy[column] - min_value + 1\n",
    "    \n",
    "    try:\n",
    "        if lambda_param is None:\n",
    "            transformed_values, lambda_param = stats.boxcox(df_copy[column])\n",
    "            if verbose:\n",
    "                print(f\"Optimal lambda for {column}: {lambda_param:.4f}\")\n",
    "        else:\n",
    "            transformed_values = stats.boxcox(df_copy[column], lmbda=lambda_param)\n",
    "            if verbose:\n",
    "                print(f\"Applied lambda {lambda_param:.4f} to {column}\")\n",
    "        \n",
    "        df_copy[f'{column}_boxcox'] = transformed_values\n",
    "        \n",
    "        if verbose:\n",
    "            print(f\"Rows before/after: {len(df)}/{len(df_copy)}\")\n",
    "            \n",
    "        return df_copy, lambda_param\n",
    "    \n",
    "    except Exception as e:\n",
    "        print(f\"Error transforming {column}: {str(e)}\")\n",
    "        return df_copy, None\n",
    "\n",
    "def replace_inf_with_max(df):\n",
    "    \"\"\"Replace infinite values with maximum non-infinite value\"\"\"\n",
    "    df_copy = df.copy()\n",
    "    for column in df_copy.columns:\n",
    "        if df_copy[column].dtype == 'float64':\n",
    "            mask = ~np.isinf(df_copy[column])\n",
    "            if mask.any():\n",
    "                max_value = df_copy.loc[mask, column].max()\n",
    "                df_copy[column] = df_copy[column].replace([np.inf, -np.inf], max_value)\n",
    "    return df_copy\n",
    "\n",
    "def process_skewed_columns(train_df, test_df, skewed_columns, verbose=True):\n",
    "    \"\"\"Process skewed columns in both train and test data\"\"\"\n",
    "    lambda_params = {}\n",
    "    train_processed = train_df.copy()\n",
    "    test_processed = test_df.copy()\n",
    "    \n",
    "    # Process training data and store lambda values\n",
    "    print(\"Processing training data...\")\n",
    "    for column in tqdm(skewed_columns):\n",
    "        if column in train_df.columns:\n",
    "            transformed_train, lambda_params[column] = box_cox_transform(\n",
    "                train_df, \n",
    "                column, \n",
    "                verbose=verbose\n",
    "            )\n",
    "            if lambda_params[column] is not None:\n",
    "                train_processed[f'{column}_boxcox'] = transformed_train[f'{column}_boxcox']\n",
    "    \n",
    "    # Process test data using stored lambda values\n",
    "    print(\"\\nProcessing test data...\")\n",
    "    for column in tqdm(skewed_columns):\n",
    "        if column in test_df.columns and column in lambda_params:\n",
    "            transformed_test, _ = box_cox_transform(\n",
    "                test_df, \n",
    "                column, \n",
    "                lambda_param=lambda_params[column],\n",
    "                verbose=verbose\n",
    "            )\n",
    "            if lambda_params[column] is not None:\n",
    "                test_processed[f'{column}_boxcox'] = transformed_test[f'{column}_boxcox']\n",
    "    \n",
    "    # Handle infinite values\n",
    "    train_processed = replace_inf_with_max(train_processed)\n",
    "    test_processed = replace_inf_with_max(test_processed)\n",
    "    \n",
    "    # Get list of successfully transformed columns\n",
    "    transformed_columns = [f'{col}_boxcox' for col in skewed_columns \n",
    "                         if f'{col}_boxcox' in train_processed.columns]\n",
    "    \n",
    "    if verbose:\n",
    "        print(f\"\\nSuccessfully transformed {len(transformed_columns)} columns\")\n",
    "        \n",
    "    return train_processed, test_processed, lambda_params, transformed_columns\n",
    "\n",
    "# Function to visualize transformations\n",
    "def plot_transformations(df_before, df_after, columns, n_cols=3, max_rows=5):\n",
    "    \"\"\"Plot histograms before and after transformation\"\"\"\n",
    "    n_cols = min(n_cols, len(columns))\n",
    "    n_rows = min(max_rows, (len(columns) + n_cols - 1) // n_cols)\n",
    "    \n",
    "    fig, axes = plt.subplots(n_rows, n_cols * 2, figsize=(n_cols * 8, n_rows * 4))\n",
    "    axes = axes.ravel()\n",
    "    \n",
    "    for i, column in enumerate(columns[:n_rows * n_cols]):\n",
    "        # Original distribution\n",
    "        sns.histplot(df_before[column], ax=axes[i*2], kde=True)\n",
    "        axes[i*2].set_title(f'Original: {column}')\n",
    "        axes[i*2].tick_params(axis='x', rotation=45)\n",
    "        \n",
    "        # Transformed distribution\n",
    "        sns.histplot(df_after[f'{column}_boxcox'], ax=axes[i*2+1], kde=True)\n",
    "        axes[i*2+1].set_title(f'Transformed: {column}')\n",
    "        axes[i*2+1].tick_params(axis='x', rotation=45)\n",
    "    \n",
    "    plt.tight_layout()\n",
    "    plt.show()\n",
    "\n",
    "# Apply transformations\n",
    "print(\"Applying Box-Cox transformations...\")\n",
    "train_processed, test_processed, lambda_params, transformed_cols = process_skewed_columns(\n",
    "    df_train, \n",
    "    df_test, \n",
    "    skewed_columns,\n",
    "    verbose=True\n",
    ")\n",
    "\n",
    "# Visualize some transformations\n",
    "print(\"\\nPlotting transformations...\")\n",
    "plot_transformations(df_train, train_processed, \n",
    "                    [col for col in skewed_columns if f'{col}_boxcox' in transformed_cols])\n",
    "\n",
    "# Update training data for autoencoder\n",
    "df_train = train_processed\n",
    "df_test = test_processed\n",
    "\n",
    "print(\"\\nData preprocessing complete!\")"
   ]
  },
  {
   "cell_type": "code",
   "execution_count": 11,
   "metadata": {},
   "outputs": [
    {
     "name": "stdout",
     "output_type": "stream",
     "text": [
      "Merging all features with original data...\n",
      "\n",
      "Shape Check:\n",
      "Original train shape: (3960, 82)\n",
      "Train with all features shape: (3960, 221)\n",
      "Original test shape: (20, 59)\n",
      "Test with all features shape: (20, 198)\n",
      "\n",
      "Feature Counts:\n",
      "Number of original stats: 96\n",
      "Number of encoded features: 32\n",
      "Number of box-cox transformed features: 11\n",
      "Total features: 139\n",
      "\n",
      "Sample of feature types in final training data:\n",
      "\n",
      "Original stats (first 3):\n",
      "    stat_0   stat_1   stat_2\n",
      "0      NaN      NaN      NaN\n",
      "1      NaN      NaN      NaN\n",
      "2      NaN      NaN      NaN\n",
      "3  43330.0  43330.0  43330.0\n",
      "4      NaN      NaN      NaN\n",
      "\n",
      "Encoded features (first 3):\n",
      "   ae_feature_0  ae_feature_1  ae_feature_2\n",
      "0           NaN           NaN           NaN\n",
      "1           NaN           NaN           NaN\n",
      "2           NaN           NaN           NaN\n",
      "3      0.587671     -1.036325      0.608426\n",
      "4           NaN           NaN           NaN\n",
      "\n",
      "Box-Cox transformed features (first 3):\n",
      "   stat_23_boxcox  stat_35_boxcox  stat_38_boxcox\n",
      "0             NaN             NaN             NaN\n",
      "1             NaN             NaN             NaN\n",
      "2             NaN             NaN             NaN\n",
      "3        8.272084        4.197842    8.161620e+59\n",
      "4             NaN             NaN             NaN\n",
      "\n",
      "Missing Values Check:\n",
      "Train missing values:\n",
      "CGAS-Season        1405\n",
      "CGAS-CGAS_Score    1539\n",
      "Physical-Season     650\n",
      "Physical-BMI        938\n",
      "Physical-Height     933\n",
      "                   ... \n",
      "stat_91            2964\n",
      "stat_92            2964\n",
      "stat_93            2964\n",
      "stat_94            2964\n",
      "stat_95            2964\n",
      "Length: 217, dtype: int64\n",
      "\n",
      "Test missing values:\n",
      "CGAS-Season        10\n",
      "CGAS-CGAS_Score    12\n",
      "Physical-Season     6\n",
      "Physical-BMI        7\n",
      "Physical-Height     7\n",
      "                   ..\n",
      "stat_91            18\n",
      "stat_92            18\n",
      "stat_93            18\n",
      "stat_94            18\n",
      "stat_95            18\n",
      "Length: 194, dtype: int64\n",
      "\n",
      "Merge complete!\n",
      "\n",
      "Summary of features:\n",
      "\n",
      "Original Stats (96):\n",
      "  - stat_0\n",
      "  - stat_1\n",
      "  - stat_2\n",
      "  - stat_3\n",
      "  - stat_4\n",
      "  ... and 91 more\n",
      "\n",
      "Encoded Features (32):\n",
      "  - ae_feature_0\n",
      "  - ae_feature_1\n",
      "  - ae_feature_2\n",
      "  - ae_feature_3\n",
      "  - ae_feature_4\n",
      "  ... and 27 more\n",
      "\n",
      "Box-Cox Transformed (11):\n",
      "  - stat_23_boxcox\n",
      "  - stat_35_boxcox\n",
      "  - stat_38_boxcox\n",
      "  - stat_40_boxcox\n",
      "  - stat_47_boxcox\n",
      "  ... and 6 more\n",
      "\n",
      "Feature Analysis:\n",
      "\n",
      "Memory usage by feature type:\n",
      "Original Stats: 2.90 MB\n",
      "Encoded Features: 0.48 MB\n",
      "Box-Cox Transformed: 0.33 MB\n",
      "\n",
      "Correlation between original and transformed features:\n",
      "BIA-BIA_BMC vs stat_23_boxcox: 0.018\n",
      "BIA-BIA_BMR vs stat_35_boxcox: 0.039\n",
      "BIA-BIA_DEE vs stat_38_boxcox: 0.078\n"
     ]
    }
   ],
   "source": [
    "# Ensure IDs are properly formatted\n",
    "train_ts_with_features['id'] = train_ts_with_features['id'].astype(str)\n",
    "test_ts_with_features['id'] = test_ts_with_features['id'].astype(str)\n",
    "train['id'] = train['id'].astype(str)\n",
    "test['id'] = test['id'].astype(str)\n",
    "\n",
    "# Get lists of our different feature types\n",
    "encoded_cols = [col for col in train_ts_with_features.columns if 'ae_feature_' in col]\n",
    "boxcox_cols = [col for col in train_processed.columns if '_boxcox' in col]\n",
    "stats_cols = [col for col in train_processed.columns if col not in boxcox_cols + ['id']]  # Keep original stats\n",
    "\n",
    "# Create DataFrame with all features: original stats, box-cox transformations, and encoded features\n",
    "train_all_features = pd.concat([\n",
    "    train_ts_with_features[['id'] + encoded_cols],  # Encoded features\n",
    "    train_processed[boxcox_cols],                   # Box-cox transformations\n",
    "    train_processed[stats_cols]                     # Original stats\n",
    "], axis=1)\n",
    "\n",
    "test_all_features = pd.concat([\n",
    "    test_ts_with_features[['id'] + encoded_cols],   # Encoded features\n",
    "    test_processed[boxcox_cols],                    # Box-cox transformations\n",
    "    test_processed[stats_cols]                      # Original stats\n",
    "], axis=1)\n",
    "\n",
    "# Merge everything with original dataframes\n",
    "print(\"Merging all features with original data...\")\n",
    "train_final = train.merge(\n",
    "    train_all_features,\n",
    "    on='id',\n",
    "    how='left',\n",
    "    validate='1:1'\n",
    ")\n",
    "\n",
    "test_final = test.merge(\n",
    "    test_all_features,\n",
    "    on='id',\n",
    "    how='left',\n",
    "    validate='1:1'\n",
    ")\n",
    "\n",
    "# Verify the merges and feature presence\n",
    "print(\"\\nShape Check:\")\n",
    "print(f\"Original train shape: {train.shape}\")\n",
    "print(f\"Train with all features shape: {train_final.shape}\")\n",
    "print(f\"Original test shape: {test.shape}\")\n",
    "print(f\"Test with all features shape: {test_final.shape}\")\n",
    "\n",
    "# Verify feature counts\n",
    "print(\"\\nFeature Counts:\")\n",
    "print(f\"Number of original stats: {len(stats_cols)}\")\n",
    "print(f\"Number of encoded features: {len(encoded_cols)}\")\n",
    "print(f\"Number of box-cox transformed features: {len(boxcox_cols)}\")\n",
    "print(f\"Total features: {len(stats_cols) + len(encoded_cols) + len(boxcox_cols)}\")\n",
    "\n",
    "# Check that all types of features are present\n",
    "print(\"\\nSample of feature types in final training data:\")\n",
    "print(\"\\nOriginal stats (first 3):\")\n",
    "print(train_final[stats_cols[:3]].head())\n",
    "print(\"\\nEncoded features (first 3):\")\n",
    "print(train_final[encoded_cols[:3]].head())\n",
    "print(\"\\nBox-Cox transformed features (first 3):\")\n",
    "print(train_final[boxcox_cols[:3]].head())\n",
    "\n",
    "# Check for any missing values after merge\n",
    "print(\"\\nMissing Values Check:\")\n",
    "print(\"Train missing values:\")\n",
    "print(train_final.isnull().sum()[train_final.isnull().sum() > 0])\n",
    "print(\"\\nTest missing values:\")\n",
    "print(test_final.isnull().sum()[test_final.isnull().sum() > 0])\n",
    "\n",
    "print(\"\\nMerge complete!\")\n",
    "\n",
    "# Print summary of all features\n",
    "print(\"\\nSummary of features:\")\n",
    "feature_types = {\n",
    "    'Original Stats': stats_cols,\n",
    "    'Encoded Features': encoded_cols,\n",
    "    'Box-Cox Transformed': boxcox_cols\n",
    "}\n",
    "for feature_type, features in feature_types.items():\n",
    "    print(f\"\\n{feature_type} ({len(features)}):\")\n",
    "    for feat in features[:5]:  # Show first 5 of each type\n",
    "        print(f\"  - {feat}\")\n",
    "    if len(features) > 5:\n",
    "        print(f\"  ... and {len(features)-5} more\")\n",
    "\n",
    "# Optional: Basic feature analysis\n",
    "print(\"\\nFeature Analysis:\")\n",
    "print(\"\\nMemory usage by feature type:\")\n",
    "for feature_type, features in feature_types.items():\n",
    "    memory = train_final[features].memory_usage(deep=True).sum() / 1024**2  # Convert to MB\n",
    "    print(f\"{feature_type}: {memory:.2f} MB\")\n",
    "\n",
    "print(\"\\nCorrelation between original and transformed features:\")\n",
    "for original, transformed in zip(skewed_columns[:3], [col for col in boxcox_cols[:3]]):\n",
    "    if original in train_final.columns:\n",
    "        corr = train_final[original].corr(train_final[transformed])\n",
    "        print(f\"{original} vs {transformed}: {corr:.3f}\")"
   ]
  },
  {
   "cell_type": "code",
   "execution_count": 12,
   "metadata": {},
   "outputs": [],
   "source": [
    "# Supplement missing data with data from WHO\n",
    "# Load who data and group\n",
    "def load_who_bmi_data(file_path):\n",
    "    who_data = pd.read_csv(file_path)\n",
    "    who_data = who_data.groupby(['age', 'sex']).agg({\n",
    "        'L': 'mean', 'mean_bmi': 'mean', 'S': 'mean'\n",
    "    }).reset_index()\n",
    "    who_data = who_data.set_index(['sex', 'age'])\n",
    "    return who_data\n",
    "\n",
    "def load_who_height_data(file_path):\n",
    "    who_data = pd.read_csv(file_path)\n",
    "    who_data = who_data.groupby(['age', 'sex']).agg({\n",
    "        'mean_height': 'mean'\n",
    "    }).reset_index()\n",
    "    who_data = who_data.set_index(['sex', 'age'])\n",
    "    return who_data\n",
    "\n",
    "who_bmi_data = load_who_bmi_data('supplemental_data/bmi_for_age_5_to_19.csv')\n",
    "who_height_data = load_who_height_data('supplemental_data/height_for_age_5_to_19.csv')"
   ]
  },
  {
   "cell_type": "code",
   "execution_count": 13,
   "metadata": {},
   "outputs": [],
   "source": [
    "# Defining functions to Impute with data from WHO\n",
    "def get_who_stats(age, sex, data_type='bmi'):\n",
    "    try:\n",
    "        if data_type == 'bmi':\n",
    "            stats = who_bmi_data.loc[(sex, age), ['mean_bmi', 'S']]\n",
    "            return stats['mean_bmi'], stats['S']\n",
    "        elif data_type == 'height':\n",
    "            stats = who_height_data.loc[(sex, age), 'mean_height']\n",
    "            return stats\n",
    "    except KeyError:\n",
    "        return None, None if data_type == 'bmi' else None\n",
    "    \n",
    "def impute_bmi(age, sex):\n",
    "    mean_bmi, sd = get_who_stats(age, sex, 'bmi')\n",
    "    if mean_bmi is not None and sd is not None:\n",
    "        imputed_bmi = np.random.normal(mean_bmi, sd)\n",
    "        return round(imputed_bmi, 8)\n",
    "    else:\n",
    "        return None\n",
    "\n",
    "def impute_height(age, sex):\n",
    "    mean_height_cm = get_who_stats(age, sex, 'height')\n",
    "    if mean_height_cm is not None:\n",
    "        mean_height_inches = mean_height_cm / 2.54  # Convert cm to inches\n",
    "        return round(mean_height_inches, 2)\n",
    "    else:\n",
    "        return None\n",
    "    \n",
    "def impute_weight(bmi, height_inches):\n",
    "    if bmi is not None and height_inches is not None:\n",
    "        height_meters = height_inches * 0.0254  # Convert inches to meters\n",
    "        weight_kg = bmi * (height_meters ** 2)\n",
    "        weight_lbs = weight_kg * 2.20462  # Convert kg to lbs\n",
    "        return round(weight_lbs, 2)\n",
    "    else:\n",
    "        return None\n",
    "\n",
    "def impute_waist_circumference(weight, height, age, sex):\n",
    "    if weight is not None and height is not None:\n",
    "        if sex == '0':\n",
    "            waist = (weight * 0.5) + (height * 0.2) - (age * 0.1)\n",
    "        else:\n",
    "            waist = (weight * 0.4) + (height * 0.3) - (age * 0.1)\n",
    "        return round(waist, 2)\n",
    "    else:\n",
    "        return None\n",
    "\n",
    "def impute_body_fat(bmi, age, sex):\n",
    "    if bmi is not None:\n",
    "        if sex == '0':\n",
    "            body_fat = (1.20 * bmi) + (0.23 * age) - 16.2\n",
    "        else:\n",
    "            body_fat = (1.20 * bmi) + (0.23 * age) - 5.4\n",
    "        return round(max(body_fat, 0), 2)  # Ensure body fat is not negative\n",
    "    else:\n",
    "        return None\n",
    "    \n",
    "def impute_sds_total_raw():\n",
    "    # Based on the distribution in Image 1\n",
    "    mu, sigma = 40, 12  # Estimated from the graph\n",
    "    imputed_value = np.random.normal(mu, sigma)\n",
    "    return round(max(min(imputed_value, 90), 20))  # Clip between 20 and 90\n",
    "\n",
    "def impute_sds_total_t(sds_total_raw):\n",
    "    if sds_total_raw is not None:\n",
    "        # Rough linear transformation based on the relationship between raw and T scores\n",
    "        t_score = 50 + (sds_total_raw - 40) * (10 / 12)\n",
    "        return round(max(min(t_score, 100), 40))  # Clip between 40 and 100\n",
    "    else:\n",
    "        # If raw score is not available, impute based on the distribution in Image 2\n",
    "        mu, sigma = 60, 15  # Estimated from the graph\n",
    "        imputed_value = np.random.normal(mu, sigma)\n",
    "        return round(max(min(imputed_value, 100), 40))  # Clip between 40 and 100\n",
    "\n",
    "def impute_sii_function(bmi, waist_circumference, body_fat, sds_total_raw, sds_total_t):\n",
    "    # Create a simple scoring system\n",
    "    score = 0\n",
    "    \n",
    "    # BMI-based score\n",
    "    if bmi is not None:\n",
    "        if bmi < 18.5:\n",
    "            score += 1\n",
    "        elif bmi >= 25:\n",
    "            score += 2\n",
    "        elif bmi >= 30:\n",
    "            score += 3\n",
    "    \n",
    "    # Waist circumference-based score (using general guidelines)\n",
    "    if waist_circumference is not None:\n",
    "        if waist_circumference > 60:  # This is a general threshold, might need adjustment\n",
    "            score += 1\n",
    "    \n",
    "    if sds_total_t is not None:\n",
    "        if sds_total_t > 80:\n",
    "            score += 1\n",
    "        if sds_total_t > 90:\n",
    "            score += 1\n",
    "    \n",
    "    # Map the score to sii values without forcing a 3\n",
    "    if score <= 2:\n",
    "        return 0\n",
    "    else:\n",
    "        return 1\n",
    "\n",
    "def apply_imputation(df, impute_sii=True):\n",
    "    def impute_if_missing(row):\n",
    "        age = row['Basic_Demos-Age']\n",
    "        sex = row['Basic_Demos-Sex']\n",
    "        \n",
    "        if pd.isna(row['Physical-BMI']) and 5 <= age <= 19:\n",
    "            row['Physical-BMI'] = impute_bmi(age, sex)\n",
    "        \n",
    "        if pd.isna(row['Physical-Height']) and 5 <= age <= 19:\n",
    "            row['Physical-Height'] = impute_height(age, sex)\n",
    "        \n",
    "        if pd.isna(row['Physical-Weight']) and row['Physical-BMI'] is not None and row['Physical-Height'] is not None:\n",
    "            row['Physical-Weight'] = impute_weight(row['Physical-BMI'], row['Physical-Height'])\n",
    "        \n",
    "        if pd.isna(row['Physical-Waist_Circumference']):\n",
    "            row['Physical-Waist_Circumference'] = impute_waist_circumference(\n",
    "                row['Physical-Weight'], row['Physical-Height'], age, sex\n",
    "            )\n",
    "        \n",
    "        if pd.isna(row['BIA-BIA_Fat']):\n",
    "            row['BIA-BIA_Fat'] = impute_body_fat(row['Physical-BMI'], age, sex)\n",
    "\n",
    "        if pd.isna(row['SDS-SDS_Total_Raw']):\n",
    "            row['SDS-SDS_Total_Raw'] = impute_sds_total_raw()\n",
    "        \n",
    "        if pd.isna(row['SDS-SDS_Total_T']):\n",
    "            row['SDS-SDS_Total_T'] = impute_sds_total_t(row['SDS-SDS_Total_Raw'])\n",
    "        \n",
    "        # Impute sii if it's missing and impute_sii is True\n",
    "        if impute_sii and pd.isna(row['sii']):\n",
    "            row['sii'] = impute_sii_function(\n",
    "                row['Physical-BMI'],\n",
    "                row['Physical-Waist_Circumference'],\n",
    "                row['BIA-BIA_Fat'],\n",
    "                row['SDS-SDS_Total_Raw'],\n",
    "                row['SDS-SDS_Total_T']\n",
    "            )\n",
    "        \n",
    "        return row\n",
    "    \n",
    "    return df.apply(impute_if_missing, axis=1)"
   ]
  },
  {
   "cell_type": "code",
   "execution_count": 14,
   "metadata": {},
   "outputs": [
    {
     "name": "stdout",
     "output_type": "stream",
     "text": [
      "Number of missing values after imputation:\n",
      "BMI: 21\n",
      "Height: 21\n",
      "Weight: 20\n",
      "Waist Circumference: 21\n",
      "Body Fat Percentage: 21\n",
      "SDS Total Raw: 0\n",
      "SDS Total T: 0\n",
      "\n",
      "Sample of imputed values:\n",
      "      Basic_Demos-Age  Basic_Demos-Sex  Physical-BMI  Physical-Height  \\\n",
      "1173               13                0     18.414558            62.74   \n",
      "1887               20                1           NaN              NaN   \n",
      "997                22                0           NaN              NaN   \n",
      "1172               21                1           NaN              NaN   \n",
      "2153               13                0     20.649384            64.50   \n",
      "\n",
      "      Physical-Weight  Physical-Waist_Circumference  BIA-BIA_Fat  \\\n",
      "1173            103.1                         58.76      19.6900   \n",
      "1887              NaN                           NaN          NaN   \n",
      "997               NaN                           NaN          NaN   \n",
      "1172              NaN                           NaN          NaN   \n",
      "2153            122.2                         66.93      34.8905   \n",
      "\n",
      "      SDS-SDS_Total_Raw  SDS-SDS_Total_T  \n",
      "1173               31.0             42.0  \n",
      "1887               38.0             48.0  \n",
      "997                34.0             45.0  \n",
      "1172               36.0             47.0  \n",
      "2153               46.0             64.0  \n"
     ]
    }
   ],
   "source": [
    "# Impute all values including 'sii' for train data\n",
    "train_final = apply_imputation(train_final, impute_sii=True)\n",
    "\n",
    "# Impute all values except 'sii' for test data\n",
    "test_final = apply_imputation(test_final, impute_sii=False)\n",
    "\n",
    "# Check the results\n",
    "print(\"Number of missing values after imputation:\")\n",
    "print(\"BMI:\", train_final['Physical-BMI'].isna().sum())\n",
    "print(\"Height:\", train_final['Physical-Height'].isna().sum())\n",
    "print(\"Weight:\", train_final['Physical-Weight'].isna().sum())\n",
    "print(\"Waist Circumference:\", train_final['Physical-Waist_Circumference'].isna().sum())\n",
    "print(\"Body Fat Percentage:\", train_final['BIA-BIA_Fat'].isna().sum())\n",
    "print(\"SDS Total Raw:\", train_final['SDS-SDS_Total_Raw'].isna().sum())\n",
    "print(\"SDS Total T:\", train_final['SDS-SDS_Total_T'].isna().sum())\n",
    "\n",
    "print(\"\\nSample of imputed values:\")\n",
    "imputed_sample = train_final[\n",
    "    (train_final['Physical-BMI'].notnull() | train_final['Physical-Height'].notnull() | \n",
    "     train_final['Physical-Weight'].notnull() | train_final['Physical-Waist_Circumference'].notnull() | \n",
    "     train_final['BIA-BIA_Fat'].notnull() | train_final['SDS-SDS_Total_Raw'].notnull() | \n",
    "     train_final['SDS-SDS_Total_T'].notnull()) &\n",
    "    ((train_final['Physical-BMI'].notnull() != train_final['Physical-BMI'].notnull().shift()) |\n",
    "     (train_final['Physical-Height'].notnull() != train_final['Physical-Height'].notnull().shift()) |\n",
    "     (train_final['Physical-Weight'].notnull() != train_final['Physical-Weight'].notnull().shift()) |\n",
    "     (train_final['Physical-Waist_Circumference'].notnull() != train_final['Physical-Waist_Circumference'].notnull().shift()) |\n",
    "     (train_final['BIA-BIA_Fat'].notnull() != train_final['BIA-BIA_Fat'].notnull().shift()) |\n",
    "     (train_final['SDS-SDS_Total_Raw'].notnull() != train_final['SDS-SDS_Total_Raw'].notnull().shift()) |\n",
    "     (train_final['SDS-SDS_Total_T'].notnull() != train_final['SDS-SDS_Total_T'].notnull().shift()))\n",
    "].sample(5)[['Basic_Demos-Age', 'Basic_Demos-Sex', 'Physical-BMI', 'Physical-Height', 'Physical-Weight',\n",
    "              'Physical-Waist_Circumference', 'BIA-BIA_Fat', 'SDS-SDS_Total_Raw', 'SDS-SDS_Total_T']]\n",
    "print(imputed_sample)"
   ]
  },
  {
   "cell_type": "code",
   "execution_count": 15,
   "metadata": {},
   "outputs": [
    {
     "name": "stdout",
     "output_type": "stream",
     "text": [
      "\n",
      "Imputation summary by age:\n",
      "                Physical-BMI                                             \\\n",
      "                       count       mean       std        min        max   \n",
      "Basic_Demos-Age                                                           \n",
      "5                        112  16.647833  2.712031  12.853139  26.512004   \n",
      "6                        369  16.232228  2.605239   0.000000  34.055363   \n",
      "7                        436  16.483782  2.855180   9.693766  43.468833   \n",
      "8                        490  17.305560  3.605419   0.000000  59.132048   \n",
      "9                        467  17.510848  3.137561  11.925153  33.729946   \n",
      "10                       420  18.389130  4.044671   0.000000  44.554097   \n",
      "11                       334  19.048208  3.976343  11.915254  37.484035   \n",
      "12                       291  20.115598  4.431546  14.223937  40.399621   \n",
      "13                       236  20.474761  4.766061   0.000000  39.494148   \n",
      "14                       200  21.748312  5.145871  13.740613  44.835548   \n",
      "15                       178  22.040846  5.168233   0.000000  43.188304   \n",
      "16                       151  23.486358  5.988783  15.969862  53.918413   \n",
      "17                       114  22.803495  4.182244  17.453891  37.491245   \n",
      "18                        74  23.665154  4.934095  17.320492  40.328720   \n",
      "19                        27  24.564312  5.133227  16.519554  37.015102   \n",
      "20                        16  27.655478  6.636444  19.669299  43.337699   \n",
      "21                        18  25.980781  6.768879  18.765155  47.603772   \n",
      "22                         6  28.777482  7.290927  22.707130  40.898793   \n",
      "\n",
      "                Physical-Height                                     \\\n",
      "                          count       mean       std    min    max   \n",
      "Basic_Demos-Age                                                      \n",
      "5                           112  44.784286  1.858858  39.50  49.00   \n",
      "6                           369  46.545312  2.422397  36.00  60.00   \n",
      "7                           436  49.049954  2.681724  40.00  68.50   \n",
      "8                           490  51.339327  2.581587  33.00  60.00   \n",
      "9                           467  53.396338  2.422555  41.50  63.50   \n",
      "10                          420  55.550976  2.665949  47.00  65.75   \n",
      "11                          334  58.059371  2.778547  47.50  67.25   \n",
      "12                          291  60.431581  2.997524  51.00  70.00   \n",
      "13                          236  63.040297  3.144291  49.50  71.00   \n",
      "14                          200  64.802700  3.053319  51.75  73.50   \n",
      "15                          178  65.809831  3.093199  57.00  76.00   \n",
      "16                          151  66.398742  3.425128  58.86  74.50   \n",
      "17                          114  66.770263  3.625770  59.00  77.00   \n",
      "18                           74  67.353649  3.761791  59.00  76.00   \n",
      "19                           27  66.861111  3.615706  60.75  77.50   \n",
      "20                           16  67.312500  4.260771  61.25  78.50   \n",
      "21                           18  66.177222  4.327068  60.00  78.00   \n",
      "22                            6  64.166667  1.125463  62.50  65.00   \n",
      "\n",
      "                Physical-Weight                                       \\\n",
      "                          count        mean        std    min    max   \n",
      "Basic_Demos-Age                                                        \n",
      "5                           112   47.824286  10.272384   31.8   85.4   \n",
      "6                           369   49.181463  12.725480    0.0  126.0   \n",
      "7                           436   55.647408  16.796264    0.0  222.6   \n",
      "8                           490   64.284204  16.869418    0.0  146.4   \n",
      "9                           467   70.394582  17.835840    0.0  144.2   \n",
      "10                          420   80.677619  23.241348    0.0  183.8   \n",
      "11                          334   90.815359  28.140870    0.0  215.0   \n",
      "12                          291  104.526495  31.363625    0.0  242.8   \n",
      "13                          236  115.927712  31.939302    0.0  241.6   \n",
      "14                          200  129.866500  35.202890    0.0  282.0   \n",
      "15                          178  133.241798  40.080447    0.0  253.0   \n",
      "16                          151  146.851391  43.048571    0.0  315.0   \n",
      "17                          114  145.036667  31.066950   94.4  257.0   \n",
      "18                           74  153.275541  36.315844   99.0  251.8   \n",
      "19                           27  151.646667  50.573944    0.0  258.0   \n",
      "20                           16  181.087500  57.839962  116.4  306.4   \n",
      "21                           19  152.652632  53.921789    0.0  289.6   \n",
      "22                            6  169.333333  46.888236  128.2  245.8   \n",
      "\n",
      "                Basic_Demos-Sex  \n",
      "                          count  \n",
      "Basic_Demos-Age                  \n",
      "5                           112  \n",
      "6                           369  \n",
      "7                           436  \n",
      "8                           490  \n",
      "9                           467  \n",
      "10                          420  \n",
      "11                          334  \n",
      "12                          291  \n",
      "13                          236  \n",
      "14                          200  \n",
      "15                          178  \n",
      "16                          151  \n",
      "17                          114  \n",
      "18                           74  \n",
      "19                           27  \n",
      "20                           24  \n",
      "21                           29  \n",
      "22                            8  \n"
     ]
    }
   ],
   "source": [
    "# Additional analysis of imputation results\n",
    "print(\"\\nImputation summary by age:\")\n",
    "age_summary = train_final.groupby('Basic_Demos-Age').agg({\n",
    "    'Physical-BMI': ['count', 'mean', 'std', 'min', 'max'],\n",
    "    'Physical-Height': ['count', 'mean', 'std', 'min', 'max'],\n",
    "    'Physical-Weight': ['count', 'mean', 'std', 'min', 'max'],\n",
    "    'Basic_Demos-Sex': 'count'\n",
    "})\n",
    "print(age_summary)"
   ]
  },
  {
   "cell_type": "code",
   "execution_count": 16,
   "metadata": {},
   "outputs": [
    {
     "name": "stdout",
     "output_type": "stream",
     "text": [
      "Imputation analysis plots saved in the 'analysis_output' folder.\n"
     ]
    }
   ],
   "source": [
    "# Plot of imputed vs. original data\n",
    "plt.figure(figsize=(12, 6))\n",
    "sns.scatterplot(data=train_final, x='Basic_Demos-Age', y='Physical-BMI', hue='Basic_Demos-Sex', alpha=0.5)\n",
    "plt.title('BMI vs Age (After Imputation)')\n",
    "plt.savefig('analysis_output/bmi_vs_age_imputed.png')\n",
    "plt.close()\n",
    "\n",
    "plt.figure(figsize=(12, 6))\n",
    "sns.scatterplot(data=train_final, x='Basic_Demos-Age', y='Physical-Height', hue='Basic_Demos-Sex', alpha=0.5)\n",
    "plt.title('Height vs Age (After Imputation)')\n",
    "plt.savefig('analysis_output/height_vs_age_imputed.png')\n",
    "plt.close()\n",
    "\n",
    "plt.figure(figsize=(12, 6))\n",
    "sns.scatterplot(data=train_final, x='Basic_Demos-Age', y='Physical-Weight', hue='Basic_Demos-Sex', alpha=0.5)\n",
    "plt.title('Weight vs Age (After Imputation)')\n",
    "plt.savefig('analysis_output/weight_vs_age_imputed.png')\n",
    "plt.close()\n",
    "\n",
    "print(\"Imputation analysis plots saved in the 'analysis_output' folder.\")"
   ]
  },
  {
   "cell_type": "code",
   "execution_count": 17,
   "metadata": {},
   "outputs": [
    {
     "name": "stdout",
     "output_type": "stream",
     "text": [
      "Feature engineering completed for both train and test data.\n"
     ]
    }
   ],
   "source": [
    "# Feature engineering\n",
    "def engineer_features(df, is_train=True):\n",
    "    # Combine all grip strength\n",
    "    df['FGC-FGC_GS'] = df['FGC-FGC_GSD_Zone'] + df['FGC-FGC_GSND_Zone']\n",
    "    \n",
    "    # Combine all sit and reach\n",
    "    df['FGC-FGC_SR'] = df['FGC-FGC_SRL_Zone'] + df['FGC-FGC_SRR_Zone']\n",
    "    \n",
    "    # Create a fitness score by adding the zone fitness data\n",
    "    df['fitness_score'] = df['FGC-FGC_GS'] + df['FGC-FGC_SR'] + df['FGC-FGC_CU_Zone'] + df['FGC-FGC_PU_Zone'] + df['FGC-FGC_TL_Zone']\n",
    "    \n",
    "    # Combine PAQ_A-PAQ_A_Total and PAQ_C-PAQ_C_Total into one column\n",
    "    df['PAQ_Total'] = df['PAQ_A-PAQ_A_Total'].combine_first(df['PAQ_C-PAQ_C_Total'])\n",
    "    \n",
    "    # Reworking of features from other notebook\n",
    "    df['BMI_Age'] = df['Physical-BMI'] * df['Basic_Demos-Age']\n",
    "    \n",
    "    df['Internet_Hours_Age'] = df['PreInt_EduHx-computerinternet_hoursday'] * df['Basic_Demos-Age']\n",
    "    df['Age_Internet_Hours'] = df['PreInt_EduHx-computerinternet_hoursday'] / df['Basic_Demos-Age']\n",
    "    df['BMI_Internet_Hours'] = df['Physical-BMI'] * df['PreInt_EduHx-computerinternet_hoursday']\n",
    "    df['BIA_BMI_Internet_Hours_Age'] = (df['BIA-BIA_BMI'] * df['PreInt_EduHx-computerinternet_hoursday']) / df['Basic_Demos-Age']\n",
    "    \n",
    "    # df['BFP_BMI'] = df['BIA-BIA_Fat'] / df['BIA-BIA_BMI']\n",
    "    # df['BFP_BMI_Age'] = df['BIA-BIA_Fat'] / (df['BIA-BIA_BMI']*df['BMI_Age'])\n",
    "    \n",
    "    df['FFMI_BFP'] = df['BIA-BIA_FFMI'] / df['BIA-BIA_Fat']\n",
    "    df['FMI_BFP'] = df['BIA-BIA_FMI'] / df['BIA-BIA_Fat']\n",
    "    df['LST_TBW'] = df['BIA-BIA_LST'] / df['BIA-BIA_TBW']\n",
    "    # df['BFP_BMR'] = df['BIA-BIA_Fat'] * df['BIA-BIA_BMR']\n",
    "    df['BFP_DEE'] = df['BIA-BIA_Fat'] * df['BIA-BIA_DEE']\n",
    "   \n",
    "    df['BMR_Weight'] = df['BIA-BIA_BMR'] / df['Physical-Weight']\n",
    "    df['DEE_Weight'] = df['BIA-BIA_DEE'] / df['Physical-Weight']\n",
    "    df['SMM_Height'] = df['BIA-BIA_SMM'] / df['Physical-Height']\n",
    "    df['BMR_BMI'] = df['BIA-BIA_BMR'] / df['Physical-BMI']\n",
    "    df['DEE_BMI'] = df['BIA-BIA_DEE'] / df['Physical-BMI']\n",
    "    df['SMM_BMI'] = df['BIA-BIA_SMM'] / df['Physical-BMI']\n",
    "    \n",
    "    df['Muscle_to_Fat'] = df['BIA-BIA_SMM'] / df['BIA-BIA_FMI']\n",
    "    df['Hydration_Status'] = df['Physical-Weight'] / df['BIA-BIA_TBW']\n",
    "    df['ICW_TBW'] = df['BIA-BIA_ICW'] / df['BIA-BIA_TBW']\n",
    "    \n",
    "    df['Age_Weight'] = df['Basic_Demos-Age'] * df['Physical-Weight']\n",
    "    df['Age_Weight_BMI'] = (df['Basic_Demos-Age'] * df['Physical-Weight']) / df['Physical-BMI']\n",
    "    df['Sex_BMI'] = df['Basic_Demos-Sex'] * df['Physical-BMI']\n",
    "    df['Sex_HeartRate'] = df['Basic_Demos-Sex'] * df['Physical-HeartRate']\n",
    "    \n",
    "    df['Age_WaistCirc'] = df['Basic_Demos-Age'] * df['Physical-Waist_Circumference']\n",
    "    df['Age_WaistCirc_BMI'] = np.log10((df['Basic_Demos-Age'] * df['Physical-Waist_Circumference']) / df['Physical-BMI'])\n",
    "    \n",
    "    df['BMI_FitnessMaxStage'] = df['Physical-BMI'] * df['Fitness_Endurance-Max_Stage']\n",
    "    df['Weight_GripStrengthDominant'] = df['Physical-Weight'] * df['FGC-FGC_GSD']\n",
    "    df['Weight_GripStrengthNonDominant'] = df['Physical-Weight'] * df['FGC-FGC_GSND']\n",
    "    df['HeartRate_FitnessTime'] = df['Physical-HeartRate'] * (df['Fitness_Endurance-Time_Mins'] + df['Fitness_Endurance-Time_Sec'])\n",
    "    df['Age_PushUp'] = df['Basic_Demos-Age'] * df['FGC-FGC_PU']\n",
    "    df['FFMI_Age'] = df['BIA-BIA_FFMI'] * df['Basic_Demos-Age']\n",
    "    df['InternetUse_SleepDisturbance'] = df['PreInt_EduHx-computerinternet_hoursday'] * df['SDS-SDS_Total_Raw']\n",
    "    df['InternetUse_SleepDisturbance_BMI'] = (df['PreInt_EduHx-computerinternet_hoursday'] * df['SDS-SDS_Total_Raw']) / df['Physical-BMI']\n",
    "    df['CGAS_BMI'] = df['CGAS-CGAS_Score'] * df['Physical-BMI']\n",
    "    df['CGAS_FitnessMaxStage'] = df['CGAS-CGAS_Score'] * df['Fitness_Endurance-Max_Stage']\n",
    "\n",
    "    return df\n",
    "\n",
    "# Apply feature engineering to train data\n",
    "train_final = engineer_features(train_final, is_train=True)\n",
    "\n",
    "# Apply feature engineering to test data\n",
    "test_final = engineer_features(test_final, is_train=False)\n",
    "\n",
    "print(\"Feature engineering completed for both train and test data.\")"
   ]
  },
  {
   "cell_type": "code",
   "execution_count": 18,
   "metadata": {},
   "outputs": [
    {
     "data": {
      "text/html": [
       "<div>\n",
       "<style scoped>\n",
       "    .dataframe tbody tr th:only-of-type {\n",
       "        vertical-align: middle;\n",
       "    }\n",
       "\n",
       "    .dataframe tbody tr th {\n",
       "        vertical-align: top;\n",
       "    }\n",
       "\n",
       "    .dataframe thead th {\n",
       "        text-align: right;\n",
       "    }\n",
       "</style>\n",
       "<table border=\"1\" class=\"dataframe\">\n",
       "  <thead>\n",
       "    <tr style=\"text-align: right;\">\n",
       "      <th></th>\n",
       "      <th>id</th>\n",
       "      <th>Basic_Demos-Enroll_Season</th>\n",
       "      <th>Basic_Demos-Age</th>\n",
       "      <th>Basic_Demos-Sex</th>\n",
       "      <th>CGAS-Season</th>\n",
       "      <th>CGAS-CGAS_Score</th>\n",
       "      <th>Physical-Season</th>\n",
       "      <th>Physical-BMI</th>\n",
       "      <th>Physical-Height</th>\n",
       "      <th>Physical-Weight</th>\n",
       "      <th>Physical-Waist_Circumference</th>\n",
       "      <th>Physical-Diastolic_BP</th>\n",
       "      <th>Physical-HeartRate</th>\n",
       "      <th>Physical-Systolic_BP</th>\n",
       "      <th>Fitness_Endurance-Season</th>\n",
       "      <th>Fitness_Endurance-Max_Stage</th>\n",
       "      <th>Fitness_Endurance-Time_Mins</th>\n",
       "      <th>Fitness_Endurance-Time_Sec</th>\n",
       "      <th>FGC-Season</th>\n",
       "      <th>FGC-FGC_CU</th>\n",
       "      <th>FGC-FGC_CU_Zone</th>\n",
       "      <th>FGC-FGC_GSND</th>\n",
       "      <th>FGC-FGC_GSND_Zone</th>\n",
       "      <th>FGC-FGC_GSD</th>\n",
       "      <th>FGC-FGC_GSD_Zone</th>\n",
       "      <th>FGC-FGC_PU</th>\n",
       "      <th>FGC-FGC_PU_Zone</th>\n",
       "      <th>FGC-FGC_SRL</th>\n",
       "      <th>FGC-FGC_SRL_Zone</th>\n",
       "      <th>FGC-FGC_SRR</th>\n",
       "      <th>FGC-FGC_SRR_Zone</th>\n",
       "      <th>FGC-FGC_TL</th>\n",
       "      <th>FGC-FGC_TL_Zone</th>\n",
       "      <th>BIA-Season</th>\n",
       "      <th>BIA-BIA_Activity_Level_num</th>\n",
       "      <th>BIA-BIA_BMC</th>\n",
       "      <th>BIA-BIA_BMI</th>\n",
       "      <th>BIA-BIA_BMR</th>\n",
       "      <th>BIA-BIA_DEE</th>\n",
       "      <th>BIA-BIA_ECW</th>\n",
       "      <th>BIA-BIA_FFM</th>\n",
       "      <th>BIA-BIA_FFMI</th>\n",
       "      <th>BIA-BIA_FMI</th>\n",
       "      <th>BIA-BIA_Fat</th>\n",
       "      <th>BIA-BIA_Frame_num</th>\n",
       "      <th>BIA-BIA_ICW</th>\n",
       "      <th>BIA-BIA_LDM</th>\n",
       "      <th>BIA-BIA_LST</th>\n",
       "      <th>BIA-BIA_SMM</th>\n",
       "      <th>BIA-BIA_TBW</th>\n",
       "      <th>PAQ_A-Season</th>\n",
       "      <th>PAQ_A-PAQ_A_Total</th>\n",
       "      <th>PAQ_C-Season</th>\n",
       "      <th>PAQ_C-PAQ_C_Total</th>\n",
       "      <th>PCIAT-Season</th>\n",
       "      <th>PCIAT-PCIAT_01</th>\n",
       "      <th>PCIAT-PCIAT_02</th>\n",
       "      <th>PCIAT-PCIAT_03</th>\n",
       "      <th>PCIAT-PCIAT_04</th>\n",
       "      <th>PCIAT-PCIAT_05</th>\n",
       "      <th>PCIAT-PCIAT_06</th>\n",
       "      <th>PCIAT-PCIAT_07</th>\n",
       "      <th>PCIAT-PCIAT_08</th>\n",
       "      <th>PCIAT-PCIAT_09</th>\n",
       "      <th>PCIAT-PCIAT_10</th>\n",
       "      <th>PCIAT-PCIAT_11</th>\n",
       "      <th>PCIAT-PCIAT_12</th>\n",
       "      <th>PCIAT-PCIAT_13</th>\n",
       "      <th>PCIAT-PCIAT_14</th>\n",
       "      <th>PCIAT-PCIAT_15</th>\n",
       "      <th>PCIAT-PCIAT_16</th>\n",
       "      <th>PCIAT-PCIAT_17</th>\n",
       "      <th>PCIAT-PCIAT_18</th>\n",
       "      <th>PCIAT-PCIAT_19</th>\n",
       "      <th>PCIAT-PCIAT_20</th>\n",
       "      <th>PCIAT-PCIAT_Total</th>\n",
       "      <th>SDS-Season</th>\n",
       "      <th>SDS-SDS_Total_Raw</th>\n",
       "      <th>SDS-SDS_Total_T</th>\n",
       "      <th>PreInt_EduHx-Season</th>\n",
       "      <th>PreInt_EduHx-computerinternet_hoursday</th>\n",
       "      <th>sii</th>\n",
       "      <th>ae_feature_0</th>\n",
       "      <th>ae_feature_1</th>\n",
       "      <th>ae_feature_2</th>\n",
       "      <th>ae_feature_3</th>\n",
       "      <th>ae_feature_4</th>\n",
       "      <th>ae_feature_5</th>\n",
       "      <th>ae_feature_6</th>\n",
       "      <th>ae_feature_7</th>\n",
       "      <th>ae_feature_8</th>\n",
       "      <th>ae_feature_9</th>\n",
       "      <th>ae_feature_10</th>\n",
       "      <th>ae_feature_11</th>\n",
       "      <th>ae_feature_12</th>\n",
       "      <th>ae_feature_13</th>\n",
       "      <th>ae_feature_14</th>\n",
       "      <th>ae_feature_15</th>\n",
       "      <th>ae_feature_16</th>\n",
       "      <th>ae_feature_17</th>\n",
       "      <th>ae_feature_18</th>\n",
       "      <th>ae_feature_19</th>\n",
       "      <th>ae_feature_20</th>\n",
       "      <th>ae_feature_21</th>\n",
       "      <th>ae_feature_22</th>\n",
       "      <th>ae_feature_23</th>\n",
       "      <th>ae_feature_24</th>\n",
       "      <th>ae_feature_25</th>\n",
       "      <th>ae_feature_26</th>\n",
       "      <th>ae_feature_27</th>\n",
       "      <th>ae_feature_28</th>\n",
       "      <th>ae_feature_29</th>\n",
       "      <th>ae_feature_30</th>\n",
       "      <th>ae_feature_31</th>\n",
       "      <th>stat_23_boxcox</th>\n",
       "      <th>stat_35_boxcox</th>\n",
       "      <th>stat_38_boxcox</th>\n",
       "      <th>stat_40_boxcox</th>\n",
       "      <th>stat_47_boxcox</th>\n",
       "      <th>stat_54_boxcox</th>\n",
       "      <th>stat_66_boxcox</th>\n",
       "      <th>stat_78_boxcox</th>\n",
       "      <th>stat_80_boxcox</th>\n",
       "      <th>stat_88_boxcox</th>\n",
       "      <th>stat_90_boxcox</th>\n",
       "      <th>stat_0</th>\n",
       "      <th>stat_1</th>\n",
       "      <th>stat_2</th>\n",
       "      <th>stat_3</th>\n",
       "      <th>stat_4</th>\n",
       "      <th>stat_5</th>\n",
       "      <th>stat_6</th>\n",
       "      <th>stat_7</th>\n",
       "      <th>stat_8</th>\n",
       "      <th>stat_9</th>\n",
       "      <th>stat_10</th>\n",
       "      <th>stat_11</th>\n",
       "      <th>stat_12</th>\n",
       "      <th>stat_13</th>\n",
       "      <th>stat_14</th>\n",
       "      <th>stat_15</th>\n",
       "      <th>stat_16</th>\n",
       "      <th>stat_17</th>\n",
       "      <th>stat_18</th>\n",
       "      <th>stat_19</th>\n",
       "      <th>stat_20</th>\n",
       "      <th>stat_21</th>\n",
       "      <th>stat_22</th>\n",
       "      <th>stat_23</th>\n",
       "      <th>stat_24</th>\n",
       "      <th>stat_25</th>\n",
       "      <th>stat_26</th>\n",
       "      <th>stat_27</th>\n",
       "      <th>stat_28</th>\n",
       "      <th>stat_29</th>\n",
       "      <th>stat_30</th>\n",
       "      <th>stat_31</th>\n",
       "      <th>stat_32</th>\n",
       "      <th>stat_33</th>\n",
       "      <th>stat_34</th>\n",
       "      <th>stat_35</th>\n",
       "      <th>stat_36</th>\n",
       "      <th>stat_37</th>\n",
       "      <th>stat_38</th>\n",
       "      <th>stat_39</th>\n",
       "      <th>stat_40</th>\n",
       "      <th>stat_41</th>\n",
       "      <th>stat_42</th>\n",
       "      <th>stat_43</th>\n",
       "      <th>stat_44</th>\n",
       "      <th>stat_45</th>\n",
       "      <th>stat_46</th>\n",
       "      <th>stat_47</th>\n",
       "      <th>stat_48</th>\n",
       "      <th>stat_49</th>\n",
       "      <th>stat_50</th>\n",
       "      <th>stat_51</th>\n",
       "      <th>stat_52</th>\n",
       "      <th>stat_53</th>\n",
       "      <th>stat_54</th>\n",
       "      <th>stat_55</th>\n",
       "      <th>stat_56</th>\n",
       "      <th>stat_57</th>\n",
       "      <th>stat_58</th>\n",
       "      <th>stat_59</th>\n",
       "      <th>stat_60</th>\n",
       "      <th>stat_61</th>\n",
       "      <th>stat_62</th>\n",
       "      <th>stat_63</th>\n",
       "      <th>stat_64</th>\n",
       "      <th>stat_65</th>\n",
       "      <th>stat_66</th>\n",
       "      <th>stat_67</th>\n",
       "      <th>stat_68</th>\n",
       "      <th>stat_69</th>\n",
       "      <th>stat_70</th>\n",
       "      <th>stat_71</th>\n",
       "      <th>stat_72</th>\n",
       "      <th>stat_73</th>\n",
       "      <th>stat_74</th>\n",
       "      <th>stat_75</th>\n",
       "      <th>stat_76</th>\n",
       "      <th>stat_77</th>\n",
       "      <th>stat_78</th>\n",
       "      <th>stat_79</th>\n",
       "      <th>stat_80</th>\n",
       "      <th>stat_81</th>\n",
       "      <th>stat_82</th>\n",
       "      <th>stat_83</th>\n",
       "      <th>stat_84</th>\n",
       "      <th>stat_85</th>\n",
       "      <th>stat_86</th>\n",
       "      <th>stat_87</th>\n",
       "      <th>stat_88</th>\n",
       "      <th>stat_89</th>\n",
       "      <th>stat_90</th>\n",
       "      <th>stat_91</th>\n",
       "      <th>stat_92</th>\n",
       "      <th>stat_93</th>\n",
       "      <th>stat_94</th>\n",
       "      <th>stat_95</th>\n",
       "      <th>FGC-FGC_GS</th>\n",
       "      <th>FGC-FGC_SR</th>\n",
       "      <th>fitness_score</th>\n",
       "      <th>PAQ_Total</th>\n",
       "      <th>BMI_Age</th>\n",
       "      <th>Internet_Hours_Age</th>\n",
       "      <th>Age_Internet_Hours</th>\n",
       "      <th>BMI_Internet_Hours</th>\n",
       "      <th>BIA_BMI_Internet_Hours_Age</th>\n",
       "      <th>FFMI_BFP</th>\n",
       "      <th>FMI_BFP</th>\n",
       "      <th>LST_TBW</th>\n",
       "      <th>BFP_DEE</th>\n",
       "      <th>BMR_Weight</th>\n",
       "      <th>DEE_Weight</th>\n",
       "      <th>SMM_Height</th>\n",
       "      <th>BMR_BMI</th>\n",
       "      <th>DEE_BMI</th>\n",
       "      <th>SMM_BMI</th>\n",
       "      <th>Muscle_to_Fat</th>\n",
       "      <th>Hydration_Status</th>\n",
       "      <th>ICW_TBW</th>\n",
       "      <th>Age_Weight</th>\n",
       "      <th>Age_Weight_BMI</th>\n",
       "      <th>Sex_BMI</th>\n",
       "      <th>Sex_HeartRate</th>\n",
       "      <th>Age_WaistCirc</th>\n",
       "      <th>Age_WaistCirc_BMI</th>\n",
       "      <th>BMI_FitnessMaxStage</th>\n",
       "      <th>Weight_GripStrengthDominant</th>\n",
       "      <th>Weight_GripStrengthNonDominant</th>\n",
       "      <th>HeartRate_FitnessTime</th>\n",
       "      <th>Age_PushUp</th>\n",
       "      <th>FFMI_Age</th>\n",
       "      <th>InternetUse_SleepDisturbance</th>\n",
       "      <th>InternetUse_SleepDisturbance_BMI</th>\n",
       "      <th>CGAS_BMI</th>\n",
       "      <th>CGAS_FitnessMaxStage</th>\n",
       "    </tr>\n",
       "  </thead>\n",
       "  <tbody>\n",
       "    <tr>\n",
       "      <th>0</th>\n",
       "      <td>00008ff9</td>\n",
       "      <td>Fall</td>\n",
       "      <td>5</td>\n",
       "      <td>0</td>\n",
       "      <td>Winter</td>\n",
       "      <td>51.0</td>\n",
       "      <td>Fall</td>\n",
       "      <td>16.877316</td>\n",
       "      <td>46.00</td>\n",
       "      <td>50.80</td>\n",
       "      <td>33.62</td>\n",
       "      <td>NaN</td>\n",
       "      <td>NaN</td>\n",
       "      <td>NaN</td>\n",
       "      <td>NaN</td>\n",
       "      <td>NaN</td>\n",
       "      <td>NaN</td>\n",
       "      <td>NaN</td>\n",
       "      <td>Fall</td>\n",
       "      <td>0.0</td>\n",
       "      <td>0.0</td>\n",
       "      <td>NaN</td>\n",
       "      <td>NaN</td>\n",
       "      <td>NaN</td>\n",
       "      <td>NaN</td>\n",
       "      <td>0.0</td>\n",
       "      <td>0.0</td>\n",
       "      <td>7.0</td>\n",
       "      <td>0.0</td>\n",
       "      <td>6.0</td>\n",
       "      <td>0.0</td>\n",
       "      <td>6.0</td>\n",
       "      <td>1.0</td>\n",
       "      <td>Fall</td>\n",
       "      <td>2.0</td>\n",
       "      <td>2.66855</td>\n",
       "      <td>16.8792</td>\n",
       "      <td>932.498</td>\n",
       "      <td>1492.00</td>\n",
       "      <td>8.25598</td>\n",
       "      <td>41.5862</td>\n",
       "      <td>13.8177</td>\n",
       "      <td>3.06143</td>\n",
       "      <td>9.21377</td>\n",
       "      <td>1.0</td>\n",
       "      <td>24.4349</td>\n",
       "      <td>8.89536</td>\n",
       "      <td>38.9177</td>\n",
       "      <td>19.5413</td>\n",
       "      <td>32.6909</td>\n",
       "      <td>NaN</td>\n",
       "      <td>NaN</td>\n",
       "      <td>NaN</td>\n",
       "      <td>NaN</td>\n",
       "      <td>Fall</td>\n",
       "      <td>5.0</td>\n",
       "      <td>4.0</td>\n",
       "      <td>4.0</td>\n",
       "      <td>0.0</td>\n",
       "      <td>4.0</td>\n",
       "      <td>0.0</td>\n",
       "      <td>0.0</td>\n",
       "      <td>4.0</td>\n",
       "      <td>0.0</td>\n",
       "      <td>0.0</td>\n",
       "      <td>4.0</td>\n",
       "      <td>0.0</td>\n",
       "      <td>4.0</td>\n",
       "      <td>4.0</td>\n",
       "      <td>4.0</td>\n",
       "      <td>4.0</td>\n",
       "      <td>4.0</td>\n",
       "      <td>4.0</td>\n",
       "      <td>2.0</td>\n",
       "      <td>4.0</td>\n",
       "      <td>55.0</td>\n",
       "      <td>NaN</td>\n",
       "      <td>46.0</td>\n",
       "      <td>55.0</td>\n",
       "      <td>Fall</td>\n",
       "      <td>3.0</td>\n",
       "      <td>2.0</td>\n",
       "      <td>NaN</td>\n",
       "      <td>NaN</td>\n",
       "      <td>NaN</td>\n",
       "      <td>NaN</td>\n",
       "      <td>NaN</td>\n",
       "      <td>NaN</td>\n",
       "      <td>NaN</td>\n",
       "      <td>NaN</td>\n",
       "      <td>NaN</td>\n",
       "      <td>NaN</td>\n",
       "      <td>NaN</td>\n",
       "      <td>NaN</td>\n",
       "      <td>NaN</td>\n",
       "      <td>NaN</td>\n",
       "      <td>NaN</td>\n",
       "      <td>NaN</td>\n",
       "      <td>NaN</td>\n",
       "      <td>NaN</td>\n",
       "      <td>NaN</td>\n",
       "      <td>NaN</td>\n",
       "      <td>NaN</td>\n",
       "      <td>NaN</td>\n",
       "      <td>NaN</td>\n",
       "      <td>NaN</td>\n",
       "      <td>NaN</td>\n",
       "      <td>NaN</td>\n",
       "      <td>NaN</td>\n",
       "      <td>NaN</td>\n",
       "      <td>NaN</td>\n",
       "      <td>NaN</td>\n",
       "      <td>NaN</td>\n",
       "      <td>NaN</td>\n",
       "      <td>NaN</td>\n",
       "      <td>NaN</td>\n",
       "      <td>NaN</td>\n",
       "      <td>NaN</td>\n",
       "      <td>NaN</td>\n",
       "      <td>NaN</td>\n",
       "      <td>NaN</td>\n",
       "      <td>NaN</td>\n",
       "      <td>NaN</td>\n",
       "      <td>NaN</td>\n",
       "      <td>NaN</td>\n",
       "      <td>NaN</td>\n",
       "      <td>NaN</td>\n",
       "      <td>NaN</td>\n",
       "      <td>NaN</td>\n",
       "      <td>NaN</td>\n",
       "      <td>NaN</td>\n",
       "      <td>NaN</td>\n",
       "      <td>NaN</td>\n",
       "      <td>NaN</td>\n",
       "      <td>NaN</td>\n",
       "      <td>NaN</td>\n",
       "      <td>NaN</td>\n",
       "      <td>NaN</td>\n",
       "      <td>NaN</td>\n",
       "      <td>NaN</td>\n",
       "      <td>NaN</td>\n",
       "      <td>NaN</td>\n",
       "      <td>NaN</td>\n",
       "      <td>NaN</td>\n",
       "      <td>NaN</td>\n",
       "      <td>NaN</td>\n",
       "      <td>NaN</td>\n",
       "      <td>NaN</td>\n",
       "      <td>NaN</td>\n",
       "      <td>NaN</td>\n",
       "      <td>NaN</td>\n",
       "      <td>NaN</td>\n",
       "      <td>NaN</td>\n",
       "      <td>NaN</td>\n",
       "      <td>NaN</td>\n",
       "      <td>NaN</td>\n",
       "      <td>NaN</td>\n",
       "      <td>NaN</td>\n",
       "      <td>NaN</td>\n",
       "      <td>NaN</td>\n",
       "      <td>NaN</td>\n",
       "      <td>NaN</td>\n",
       "      <td>NaN</td>\n",
       "      <td>NaN</td>\n",
       "      <td>NaN</td>\n",
       "      <td>NaN</td>\n",
       "      <td>NaN</td>\n",
       "      <td>NaN</td>\n",
       "      <td>NaN</td>\n",
       "      <td>NaN</td>\n",
       "      <td>NaN</td>\n",
       "      <td>NaN</td>\n",
       "      <td>NaN</td>\n",
       "      <td>NaN</td>\n",
       "      <td>NaN</td>\n",
       "      <td>NaN</td>\n",
       "      <td>NaN</td>\n",
       "      <td>NaN</td>\n",
       "      <td>NaN</td>\n",
       "      <td>NaN</td>\n",
       "      <td>NaN</td>\n",
       "      <td>NaN</td>\n",
       "      <td>NaN</td>\n",
       "      <td>NaN</td>\n",
       "      <td>NaN</td>\n",
       "      <td>NaN</td>\n",
       "      <td>NaN</td>\n",
       "      <td>NaN</td>\n",
       "      <td>NaN</td>\n",
       "      <td>NaN</td>\n",
       "      <td>NaN</td>\n",
       "      <td>NaN</td>\n",
       "      <td>NaN</td>\n",
       "      <td>NaN</td>\n",
       "      <td>NaN</td>\n",
       "      <td>NaN</td>\n",
       "      <td>NaN</td>\n",
       "      <td>NaN</td>\n",
       "      <td>NaN</td>\n",
       "      <td>NaN</td>\n",
       "      <td>NaN</td>\n",
       "      <td>NaN</td>\n",
       "      <td>NaN</td>\n",
       "      <td>NaN</td>\n",
       "      <td>NaN</td>\n",
       "      <td>NaN</td>\n",
       "      <td>NaN</td>\n",
       "      <td>NaN</td>\n",
       "      <td>NaN</td>\n",
       "      <td>NaN</td>\n",
       "      <td>NaN</td>\n",
       "      <td>NaN</td>\n",
       "      <td>NaN</td>\n",
       "      <td>NaN</td>\n",
       "      <td>NaN</td>\n",
       "      <td>NaN</td>\n",
       "      <td>NaN</td>\n",
       "      <td>NaN</td>\n",
       "      <td>NaN</td>\n",
       "      <td>NaN</td>\n",
       "      <td>NaN</td>\n",
       "      <td>NaN</td>\n",
       "      <td>0.0</td>\n",
       "      <td>NaN</td>\n",
       "      <td>NaN</td>\n",
       "      <td>84.386578</td>\n",
       "      <td>15.0</td>\n",
       "      <td>0.6</td>\n",
       "      <td>50.631947</td>\n",
       "      <td>10.12752</td>\n",
       "      <td>1.499679</td>\n",
       "      <td>0.332267</td>\n",
       "      <td>1.190475</td>\n",
       "      <td>13746.944840</td>\n",
       "      <td>18.356260</td>\n",
       "      <td>29.370079</td>\n",
       "      <td>0.424811</td>\n",
       "      <td>55.251559</td>\n",
       "      <td>88.402684</td>\n",
       "      <td>1.157844</td>\n",
       "      <td>6.383063</td>\n",
       "      <td>1.553949</td>\n",
       "      <td>0.747453</td>\n",
       "      <td>254.00</td>\n",
       "      <td>15.049787</td>\n",
       "      <td>0.000000</td>\n",
       "      <td>NaN</td>\n",
       "      <td>168.10</td>\n",
       "      <td>0.998264</td>\n",
       "      <td>NaN</td>\n",
       "      <td>NaN</td>\n",
       "      <td>NaN</td>\n",
       "      <td>NaN</td>\n",
       "      <td>0.0</td>\n",
       "      <td>69.0885</td>\n",
       "      <td>138.0</td>\n",
       "      <td>8.176656</td>\n",
       "      <td>860.743100</td>\n",
       "      <td>NaN</td>\n",
       "    </tr>\n",
       "    <tr>\n",
       "      <th>1</th>\n",
       "      <td>000fd460</td>\n",
       "      <td>Summer</td>\n",
       "      <td>9</td>\n",
       "      <td>0</td>\n",
       "      <td>NaN</td>\n",
       "      <td>NaN</td>\n",
       "      <td>Fall</td>\n",
       "      <td>14.035590</td>\n",
       "      <td>48.00</td>\n",
       "      <td>46.00</td>\n",
       "      <td>22.00</td>\n",
       "      <td>75.0</td>\n",
       "      <td>70.0</td>\n",
       "      <td>122.0</td>\n",
       "      <td>NaN</td>\n",
       "      <td>NaN</td>\n",
       "      <td>NaN</td>\n",
       "      <td>NaN</td>\n",
       "      <td>Fall</td>\n",
       "      <td>3.0</td>\n",
       "      <td>0.0</td>\n",
       "      <td>NaN</td>\n",
       "      <td>NaN</td>\n",
       "      <td>NaN</td>\n",
       "      <td>NaN</td>\n",
       "      <td>5.0</td>\n",
       "      <td>0.0</td>\n",
       "      <td>11.0</td>\n",
       "      <td>1.0</td>\n",
       "      <td>11.0</td>\n",
       "      <td>1.0</td>\n",
       "      <td>3.0</td>\n",
       "      <td>0.0</td>\n",
       "      <td>Winter</td>\n",
       "      <td>2.0</td>\n",
       "      <td>2.57949</td>\n",
       "      <td>14.0371</td>\n",
       "      <td>936.656</td>\n",
       "      <td>1498.65</td>\n",
       "      <td>6.01993</td>\n",
       "      <td>42.0291</td>\n",
       "      <td>12.8254</td>\n",
       "      <td>1.21172</td>\n",
       "      <td>3.97085</td>\n",
       "      <td>1.0</td>\n",
       "      <td>21.0352</td>\n",
       "      <td>14.97400</td>\n",
       "      <td>39.4497</td>\n",
       "      <td>15.4107</td>\n",
       "      <td>27.0552</td>\n",
       "      <td>NaN</td>\n",
       "      <td>NaN</td>\n",
       "      <td>Fall</td>\n",
       "      <td>2.340</td>\n",
       "      <td>Fall</td>\n",
       "      <td>0.0</td>\n",
       "      <td>0.0</td>\n",
       "      <td>0.0</td>\n",
       "      <td>0.0</td>\n",
       "      <td>0.0</td>\n",
       "      <td>0.0</td>\n",
       "      <td>0.0</td>\n",
       "      <td>0.0</td>\n",
       "      <td>0.0</td>\n",
       "      <td>0.0</td>\n",
       "      <td>0.0</td>\n",
       "      <td>0.0</td>\n",
       "      <td>0.0</td>\n",
       "      <td>0.0</td>\n",
       "      <td>0.0</td>\n",
       "      <td>0.0</td>\n",
       "      <td>0.0</td>\n",
       "      <td>0.0</td>\n",
       "      <td>0.0</td>\n",
       "      <td>0.0</td>\n",
       "      <td>0.0</td>\n",
       "      <td>Fall</td>\n",
       "      <td>46.0</td>\n",
       "      <td>64.0</td>\n",
       "      <td>Summer</td>\n",
       "      <td>0.0</td>\n",
       "      <td>0.0</td>\n",
       "      <td>NaN</td>\n",
       "      <td>NaN</td>\n",
       "      <td>NaN</td>\n",
       "      <td>NaN</td>\n",
       "      <td>NaN</td>\n",
       "      <td>NaN</td>\n",
       "      <td>NaN</td>\n",
       "      <td>NaN</td>\n",
       "      <td>NaN</td>\n",
       "      <td>NaN</td>\n",
       "      <td>NaN</td>\n",
       "      <td>NaN</td>\n",
       "      <td>NaN</td>\n",
       "      <td>NaN</td>\n",
       "      <td>NaN</td>\n",
       "      <td>NaN</td>\n",
       "      <td>NaN</td>\n",
       "      <td>NaN</td>\n",
       "      <td>NaN</td>\n",
       "      <td>NaN</td>\n",
       "      <td>NaN</td>\n",
       "      <td>NaN</td>\n",
       "      <td>NaN</td>\n",
       "      <td>NaN</td>\n",
       "      <td>NaN</td>\n",
       "      <td>NaN</td>\n",
       "      <td>NaN</td>\n",
       "      <td>NaN</td>\n",
       "      <td>NaN</td>\n",
       "      <td>NaN</td>\n",
       "      <td>NaN</td>\n",
       "      <td>NaN</td>\n",
       "      <td>NaN</td>\n",
       "      <td>NaN</td>\n",
       "      <td>NaN</td>\n",
       "      <td>NaN</td>\n",
       "      <td>NaN</td>\n",
       "      <td>NaN</td>\n",
       "      <td>NaN</td>\n",
       "      <td>NaN</td>\n",
       "      <td>NaN</td>\n",
       "      <td>NaN</td>\n",
       "      <td>NaN</td>\n",
       "      <td>NaN</td>\n",
       "      <td>NaN</td>\n",
       "      <td>NaN</td>\n",
       "      <td>NaN</td>\n",
       "      <td>NaN</td>\n",
       "      <td>NaN</td>\n",
       "      <td>NaN</td>\n",
       "      <td>NaN</td>\n",
       "      <td>NaN</td>\n",
       "      <td>NaN</td>\n",
       "      <td>NaN</td>\n",
       "      <td>NaN</td>\n",
       "      <td>NaN</td>\n",
       "      <td>NaN</td>\n",
       "      <td>NaN</td>\n",
       "      <td>NaN</td>\n",
       "      <td>NaN</td>\n",
       "      <td>NaN</td>\n",
       "      <td>NaN</td>\n",
       "      <td>NaN</td>\n",
       "      <td>NaN</td>\n",
       "      <td>NaN</td>\n",
       "      <td>NaN</td>\n",
       "      <td>NaN</td>\n",
       "      <td>NaN</td>\n",
       "      <td>NaN</td>\n",
       "      <td>NaN</td>\n",
       "      <td>NaN</td>\n",
       "      <td>NaN</td>\n",
       "      <td>NaN</td>\n",
       "      <td>NaN</td>\n",
       "      <td>NaN</td>\n",
       "      <td>NaN</td>\n",
       "      <td>NaN</td>\n",
       "      <td>NaN</td>\n",
       "      <td>NaN</td>\n",
       "      <td>NaN</td>\n",
       "      <td>NaN</td>\n",
       "      <td>NaN</td>\n",
       "      <td>NaN</td>\n",
       "      <td>NaN</td>\n",
       "      <td>NaN</td>\n",
       "      <td>NaN</td>\n",
       "      <td>NaN</td>\n",
       "      <td>NaN</td>\n",
       "      <td>NaN</td>\n",
       "      <td>NaN</td>\n",
       "      <td>NaN</td>\n",
       "      <td>NaN</td>\n",
       "      <td>NaN</td>\n",
       "      <td>NaN</td>\n",
       "      <td>NaN</td>\n",
       "      <td>NaN</td>\n",
       "      <td>NaN</td>\n",
       "      <td>NaN</td>\n",
       "      <td>NaN</td>\n",
       "      <td>NaN</td>\n",
       "      <td>NaN</td>\n",
       "      <td>NaN</td>\n",
       "      <td>NaN</td>\n",
       "      <td>NaN</td>\n",
       "      <td>NaN</td>\n",
       "      <td>NaN</td>\n",
       "      <td>NaN</td>\n",
       "      <td>NaN</td>\n",
       "      <td>NaN</td>\n",
       "      <td>NaN</td>\n",
       "      <td>NaN</td>\n",
       "      <td>NaN</td>\n",
       "      <td>NaN</td>\n",
       "      <td>NaN</td>\n",
       "      <td>NaN</td>\n",
       "      <td>NaN</td>\n",
       "      <td>NaN</td>\n",
       "      <td>NaN</td>\n",
       "      <td>NaN</td>\n",
       "      <td>NaN</td>\n",
       "      <td>NaN</td>\n",
       "      <td>NaN</td>\n",
       "      <td>NaN</td>\n",
       "      <td>NaN</td>\n",
       "      <td>NaN</td>\n",
       "      <td>NaN</td>\n",
       "      <td>NaN</td>\n",
       "      <td>NaN</td>\n",
       "      <td>NaN</td>\n",
       "      <td>NaN</td>\n",
       "      <td>NaN</td>\n",
       "      <td>NaN</td>\n",
       "      <td>NaN</td>\n",
       "      <td>NaN</td>\n",
       "      <td>NaN</td>\n",
       "      <td>NaN</td>\n",
       "      <td>NaN</td>\n",
       "      <td>NaN</td>\n",
       "      <td>NaN</td>\n",
       "      <td>NaN</td>\n",
       "      <td>2.0</td>\n",
       "      <td>NaN</td>\n",
       "      <td>2.340</td>\n",
       "      <td>126.320313</td>\n",
       "      <td>0.0</td>\n",
       "      <td>0.0</td>\n",
       "      <td>0.000000</td>\n",
       "      <td>0.00000</td>\n",
       "      <td>3.229888</td>\n",
       "      <td>0.305154</td>\n",
       "      <td>1.458119</td>\n",
       "      <td>5950.914352</td>\n",
       "      <td>20.362087</td>\n",
       "      <td>32.579348</td>\n",
       "      <td>0.321056</td>\n",
       "      <td>66.734350</td>\n",
       "      <td>106.774989</td>\n",
       "      <td>1.097973</td>\n",
       "      <td>12.718037</td>\n",
       "      <td>1.700228</td>\n",
       "      <td>0.777492</td>\n",
       "      <td>414.00</td>\n",
       "      <td>29.496444</td>\n",
       "      <td>0.000000</td>\n",
       "      <td>0.0</td>\n",
       "      <td>198.00</td>\n",
       "      <td>1.149435</td>\n",
       "      <td>NaN</td>\n",
       "      <td>NaN</td>\n",
       "      <td>NaN</td>\n",
       "      <td>NaN</td>\n",
       "      <td>45.0</td>\n",
       "      <td>115.4286</td>\n",
       "      <td>0.0</td>\n",
       "      <td>0.000000</td>\n",
       "      <td>NaN</td>\n",
       "      <td>NaN</td>\n",
       "    </tr>\n",
       "    <tr>\n",
       "      <th>2</th>\n",
       "      <td>00105258</td>\n",
       "      <td>Summer</td>\n",
       "      <td>10</td>\n",
       "      <td>1</td>\n",
       "      <td>Fall</td>\n",
       "      <td>71.0</td>\n",
       "      <td>Fall</td>\n",
       "      <td>16.648696</td>\n",
       "      <td>56.50</td>\n",
       "      <td>75.60</td>\n",
       "      <td>46.19</td>\n",
       "      <td>65.0</td>\n",
       "      <td>94.0</td>\n",
       "      <td>117.0</td>\n",
       "      <td>Fall</td>\n",
       "      <td>5.0</td>\n",
       "      <td>7.0</td>\n",
       "      <td>33.0</td>\n",
       "      <td>Fall</td>\n",
       "      <td>20.0</td>\n",
       "      <td>1.0</td>\n",
       "      <td>10.2</td>\n",
       "      <td>1.0</td>\n",
       "      <td>14.7</td>\n",
       "      <td>2.0</td>\n",
       "      <td>7.0</td>\n",
       "      <td>1.0</td>\n",
       "      <td>10.0</td>\n",
       "      <td>1.0</td>\n",
       "      <td>10.0</td>\n",
       "      <td>1.0</td>\n",
       "      <td>5.0</td>\n",
       "      <td>0.0</td>\n",
       "      <td>NaN</td>\n",
       "      <td>NaN</td>\n",
       "      <td>NaN</td>\n",
       "      <td>NaN</td>\n",
       "      <td>NaN</td>\n",
       "      <td>NaN</td>\n",
       "      <td>NaN</td>\n",
       "      <td>NaN</td>\n",
       "      <td>NaN</td>\n",
       "      <td>NaN</td>\n",
       "      <td>16.88000</td>\n",
       "      <td>NaN</td>\n",
       "      <td>NaN</td>\n",
       "      <td>NaN</td>\n",
       "      <td>NaN</td>\n",
       "      <td>NaN</td>\n",
       "      <td>NaN</td>\n",
       "      <td>NaN</td>\n",
       "      <td>NaN</td>\n",
       "      <td>Summer</td>\n",
       "      <td>2.170</td>\n",
       "      <td>Fall</td>\n",
       "      <td>5.0</td>\n",
       "      <td>2.0</td>\n",
       "      <td>2.0</td>\n",
       "      <td>1.0</td>\n",
       "      <td>2.0</td>\n",
       "      <td>1.0</td>\n",
       "      <td>1.0</td>\n",
       "      <td>2.0</td>\n",
       "      <td>1.0</td>\n",
       "      <td>1.0</td>\n",
       "      <td>1.0</td>\n",
       "      <td>0.0</td>\n",
       "      <td>1.0</td>\n",
       "      <td>1.0</td>\n",
       "      <td>1.0</td>\n",
       "      <td>0.0</td>\n",
       "      <td>2.0</td>\n",
       "      <td>2.0</td>\n",
       "      <td>1.0</td>\n",
       "      <td>1.0</td>\n",
       "      <td>28.0</td>\n",
       "      <td>Fall</td>\n",
       "      <td>38.0</td>\n",
       "      <td>54.0</td>\n",
       "      <td>Summer</td>\n",
       "      <td>2.0</td>\n",
       "      <td>0.0</td>\n",
       "      <td>NaN</td>\n",
       "      <td>NaN</td>\n",
       "      <td>NaN</td>\n",
       "      <td>NaN</td>\n",
       "      <td>NaN</td>\n",
       "      <td>NaN</td>\n",
       "      <td>NaN</td>\n",
       "      <td>NaN</td>\n",
       "      <td>NaN</td>\n",
       "      <td>NaN</td>\n",
       "      <td>NaN</td>\n",
       "      <td>NaN</td>\n",
       "      <td>NaN</td>\n",
       "      <td>NaN</td>\n",
       "      <td>NaN</td>\n",
       "      <td>NaN</td>\n",
       "      <td>NaN</td>\n",
       "      <td>NaN</td>\n",
       "      <td>NaN</td>\n",
       "      <td>NaN</td>\n",
       "      <td>NaN</td>\n",
       "      <td>NaN</td>\n",
       "      <td>NaN</td>\n",
       "      <td>NaN</td>\n",
       "      <td>NaN</td>\n",
       "      <td>NaN</td>\n",
       "      <td>NaN</td>\n",
       "      <td>NaN</td>\n",
       "      <td>NaN</td>\n",
       "      <td>NaN</td>\n",
       "      <td>NaN</td>\n",
       "      <td>NaN</td>\n",
       "      <td>NaN</td>\n",
       "      <td>NaN</td>\n",
       "      <td>NaN</td>\n",
       "      <td>NaN</td>\n",
       "      <td>NaN</td>\n",
       "      <td>NaN</td>\n",
       "      <td>NaN</td>\n",
       "      <td>NaN</td>\n",
       "      <td>NaN</td>\n",
       "      <td>NaN</td>\n",
       "      <td>NaN</td>\n",
       "      <td>NaN</td>\n",
       "      <td>NaN</td>\n",
       "      <td>NaN</td>\n",
       "      <td>NaN</td>\n",
       "      <td>NaN</td>\n",
       "      <td>NaN</td>\n",
       "      <td>NaN</td>\n",
       "      <td>NaN</td>\n",
       "      <td>NaN</td>\n",
       "      <td>NaN</td>\n",
       "      <td>NaN</td>\n",
       "      <td>NaN</td>\n",
       "      <td>NaN</td>\n",
       "      <td>NaN</td>\n",
       "      <td>NaN</td>\n",
       "      <td>NaN</td>\n",
       "      <td>NaN</td>\n",
       "      <td>NaN</td>\n",
       "      <td>NaN</td>\n",
       "      <td>NaN</td>\n",
       "      <td>NaN</td>\n",
       "      <td>NaN</td>\n",
       "      <td>NaN</td>\n",
       "      <td>NaN</td>\n",
       "      <td>NaN</td>\n",
       "      <td>NaN</td>\n",
       "      <td>NaN</td>\n",
       "      <td>NaN</td>\n",
       "      <td>NaN</td>\n",
       "      <td>NaN</td>\n",
       "      <td>NaN</td>\n",
       "      <td>NaN</td>\n",
       "      <td>NaN</td>\n",
       "      <td>NaN</td>\n",
       "      <td>NaN</td>\n",
       "      <td>NaN</td>\n",
       "      <td>NaN</td>\n",
       "      <td>NaN</td>\n",
       "      <td>NaN</td>\n",
       "      <td>NaN</td>\n",
       "      <td>NaN</td>\n",
       "      <td>NaN</td>\n",
       "      <td>NaN</td>\n",
       "      <td>NaN</td>\n",
       "      <td>NaN</td>\n",
       "      <td>NaN</td>\n",
       "      <td>NaN</td>\n",
       "      <td>NaN</td>\n",
       "      <td>NaN</td>\n",
       "      <td>NaN</td>\n",
       "      <td>NaN</td>\n",
       "      <td>NaN</td>\n",
       "      <td>NaN</td>\n",
       "      <td>NaN</td>\n",
       "      <td>NaN</td>\n",
       "      <td>NaN</td>\n",
       "      <td>NaN</td>\n",
       "      <td>NaN</td>\n",
       "      <td>NaN</td>\n",
       "      <td>NaN</td>\n",
       "      <td>NaN</td>\n",
       "      <td>NaN</td>\n",
       "      <td>NaN</td>\n",
       "      <td>NaN</td>\n",
       "      <td>NaN</td>\n",
       "      <td>NaN</td>\n",
       "      <td>NaN</td>\n",
       "      <td>NaN</td>\n",
       "      <td>NaN</td>\n",
       "      <td>NaN</td>\n",
       "      <td>NaN</td>\n",
       "      <td>NaN</td>\n",
       "      <td>NaN</td>\n",
       "      <td>NaN</td>\n",
       "      <td>NaN</td>\n",
       "      <td>NaN</td>\n",
       "      <td>NaN</td>\n",
       "      <td>NaN</td>\n",
       "      <td>NaN</td>\n",
       "      <td>NaN</td>\n",
       "      <td>NaN</td>\n",
       "      <td>NaN</td>\n",
       "      <td>NaN</td>\n",
       "      <td>NaN</td>\n",
       "      <td>NaN</td>\n",
       "      <td>NaN</td>\n",
       "      <td>NaN</td>\n",
       "      <td>NaN</td>\n",
       "      <td>NaN</td>\n",
       "      <td>NaN</td>\n",
       "      <td>NaN</td>\n",
       "      <td>NaN</td>\n",
       "      <td>NaN</td>\n",
       "      <td>NaN</td>\n",
       "      <td>NaN</td>\n",
       "      <td>NaN</td>\n",
       "      <td>3.0</td>\n",
       "      <td>2.0</td>\n",
       "      <td>7.0</td>\n",
       "      <td>2.170</td>\n",
       "      <td>166.486961</td>\n",
       "      <td>20.0</td>\n",
       "      <td>0.2</td>\n",
       "      <td>33.297392</td>\n",
       "      <td>NaN</td>\n",
       "      <td>NaN</td>\n",
       "      <td>NaN</td>\n",
       "      <td>NaN</td>\n",
       "      <td>NaN</td>\n",
       "      <td>NaN</td>\n",
       "      <td>NaN</td>\n",
       "      <td>NaN</td>\n",
       "      <td>NaN</td>\n",
       "      <td>NaN</td>\n",
       "      <td>NaN</td>\n",
       "      <td>NaN</td>\n",
       "      <td>NaN</td>\n",
       "      <td>NaN</td>\n",
       "      <td>756.00</td>\n",
       "      <td>45.408962</td>\n",
       "      <td>16.648696</td>\n",
       "      <td>94.0</td>\n",
       "      <td>461.90</td>\n",
       "      <td>1.443168</td>\n",
       "      <td>83.243480</td>\n",
       "      <td>1111.32</td>\n",
       "      <td>771.12</td>\n",
       "      <td>3760.0</td>\n",
       "      <td>70.0</td>\n",
       "      <td>NaN</td>\n",
       "      <td>76.0</td>\n",
       "      <td>4.564922</td>\n",
       "      <td>1182.057420</td>\n",
       "      <td>355.0</td>\n",
       "    </tr>\n",
       "    <tr>\n",
       "      <th>3</th>\n",
       "      <td>00115b9f</td>\n",
       "      <td>Winter</td>\n",
       "      <td>9</td>\n",
       "      <td>0</td>\n",
       "      <td>Fall</td>\n",
       "      <td>71.0</td>\n",
       "      <td>Summer</td>\n",
       "      <td>18.292347</td>\n",
       "      <td>56.00</td>\n",
       "      <td>81.60</td>\n",
       "      <td>48.54</td>\n",
       "      <td>60.0</td>\n",
       "      <td>97.0</td>\n",
       "      <td>117.0</td>\n",
       "      <td>Summer</td>\n",
       "      <td>6.0</td>\n",
       "      <td>9.0</td>\n",
       "      <td>37.0</td>\n",
       "      <td>Summer</td>\n",
       "      <td>18.0</td>\n",
       "      <td>1.0</td>\n",
       "      <td>NaN</td>\n",
       "      <td>NaN</td>\n",
       "      <td>NaN</td>\n",
       "      <td>NaN</td>\n",
       "      <td>5.0</td>\n",
       "      <td>0.0</td>\n",
       "      <td>7.0</td>\n",
       "      <td>0.0</td>\n",
       "      <td>7.0</td>\n",
       "      <td>0.0</td>\n",
       "      <td>7.0</td>\n",
       "      <td>1.0</td>\n",
       "      <td>Summer</td>\n",
       "      <td>3.0</td>\n",
       "      <td>3.84191</td>\n",
       "      <td>18.2943</td>\n",
       "      <td>1131.430</td>\n",
       "      <td>1923.44</td>\n",
       "      <td>15.59250</td>\n",
       "      <td>62.7757</td>\n",
       "      <td>14.0740</td>\n",
       "      <td>4.22033</td>\n",
       "      <td>18.82430</td>\n",
       "      <td>2.0</td>\n",
       "      <td>30.4041</td>\n",
       "      <td>16.77900</td>\n",
       "      <td>58.9338</td>\n",
       "      <td>26.4798</td>\n",
       "      <td>45.9966</td>\n",
       "      <td>NaN</td>\n",
       "      <td>NaN</td>\n",
       "      <td>Winter</td>\n",
       "      <td>2.451</td>\n",
       "      <td>Summer</td>\n",
       "      <td>4.0</td>\n",
       "      <td>2.0</td>\n",
       "      <td>4.0</td>\n",
       "      <td>0.0</td>\n",
       "      <td>5.0</td>\n",
       "      <td>1.0</td>\n",
       "      <td>0.0</td>\n",
       "      <td>3.0</td>\n",
       "      <td>2.0</td>\n",
       "      <td>2.0</td>\n",
       "      <td>3.0</td>\n",
       "      <td>0.0</td>\n",
       "      <td>3.0</td>\n",
       "      <td>0.0</td>\n",
       "      <td>0.0</td>\n",
       "      <td>3.0</td>\n",
       "      <td>4.0</td>\n",
       "      <td>3.0</td>\n",
       "      <td>4.0</td>\n",
       "      <td>1.0</td>\n",
       "      <td>44.0</td>\n",
       "      <td>Summer</td>\n",
       "      <td>31.0</td>\n",
       "      <td>45.0</td>\n",
       "      <td>Winter</td>\n",
       "      <td>0.0</td>\n",
       "      <td>1.0</td>\n",
       "      <td>0.587671</td>\n",
       "      <td>-1.036325</td>\n",
       "      <td>0.608426</td>\n",
       "      <td>-2.259224</td>\n",
       "      <td>0.17213</td>\n",
       "      <td>-0.822569</td>\n",
       "      <td>1.328282</td>\n",
       "      <td>1.238078</td>\n",
       "      <td>-0.646493</td>\n",
       "      <td>-0.263914</td>\n",
       "      <td>0.950456</td>\n",
       "      <td>0.758038</td>\n",
       "      <td>-0.472496</td>\n",
       "      <td>1.023212</td>\n",
       "      <td>0.082439</td>\n",
       "      <td>-0.795746</td>\n",
       "      <td>-1.025998</td>\n",
       "      <td>-0.864955</td>\n",
       "      <td>1.680336</td>\n",
       "      <td>0.039639</td>\n",
       "      <td>0.266968</td>\n",
       "      <td>0.007842</td>\n",
       "      <td>0.822864</td>\n",
       "      <td>0.698698</td>\n",
       "      <td>-0.005968</td>\n",
       "      <td>-0.749741</td>\n",
       "      <td>-0.045138</td>\n",
       "      <td>-0.130245</td>\n",
       "      <td>0.60707</td>\n",
       "      <td>-0.82167</td>\n",
       "      <td>1.739423</td>\n",
       "      <td>-0.138876</td>\n",
       "      <td>8.272084</td>\n",
       "      <td>4.197842</td>\n",
       "      <td>8.161620e+59</td>\n",
       "      <td>0.126963</td>\n",
       "      <td>8.138407</td>\n",
       "      <td>0.986268</td>\n",
       "      <td>2.184901</td>\n",
       "      <td>3.15009</td>\n",
       "      <td>5.434934e+31</td>\n",
       "      <td>2.016626e+102</td>\n",
       "      <td>786.87414</td>\n",
       "      <td>43330.0</td>\n",
       "      <td>43330.0</td>\n",
       "      <td>43330.0</td>\n",
       "      <td>43330.0</td>\n",
       "      <td>43330.0</td>\n",
       "      <td>43330.0</td>\n",
       "      <td>43330.0</td>\n",
       "      <td>43330.0</td>\n",
       "      <td>43330.0</td>\n",
       "      <td>43330.0</td>\n",
       "      <td>43330.0</td>\n",
       "      <td>43330.0</td>\n",
       "      <td>-0.316384</td>\n",
       "      <td>0.016009</td>\n",
       "      <td>-0.16789</td>\n",
       "      <td>0.047388</td>\n",
       "      <td>-10.580416</td>\n",
       "      <td>0.0</td>\n",
       "      <td>42.29631</td>\n",
       "      <td>4053.579102</td>\n",
       "      <td>5.046215e+13</td>\n",
       "      <td>4.470182</td>\n",
       "      <td>3.0</td>\n",
       "      <td>53.201683</td>\n",
       "      <td>0.453665</td>\n",
       "      <td>0.502702</td>\n",
       "      <td>0.58571</td>\n",
       "      <td>0.106351</td>\n",
       "      <td>42.94717</td>\n",
       "      <td>0.0</td>\n",
       "      <td>208.168976</td>\n",
       "      <td>112.404045</td>\n",
       "      <td>1.942842e+13</td>\n",
       "      <td>1.931421</td>\n",
       "      <td>0.0</td>\n",
       "      <td>14.244914</td>\n",
       "      <td>-1.746094</td>\n",
       "      <td>-2.905339</td>\n",
       "      <td>-1.048372</td>\n",
       "      <td>0.0</td>\n",
       "      <td>-89.833092</td>\n",
       "      <td>0.0</td>\n",
       "      <td>0.0</td>\n",
       "      <td>3824.0</td>\n",
       "      <td>5.500000e+10</td>\n",
       "      <td>1.0</td>\n",
       "      <td>3.0</td>\n",
       "      <td>41.0</td>\n",
       "      <td>-0.68418</td>\n",
       "      <td>-0.309863</td>\n",
       "      <td>-0.649974</td>\n",
       "      <td>0.006432</td>\n",
       "      <td>-41.541863</td>\n",
       "      <td>0.0</td>\n",
       "      <td>2.392969</td>\n",
       "      <td>4028.666748</td>\n",
       "      <td>3.689000e+13</td>\n",
       "      <td>3.0</td>\n",
       "      <td>3.0</td>\n",
       "      <td>42.0</td>\n",
       "      <td>-0.366849</td>\n",
       "      <td>0.024974</td>\n",
       "      <td>-0.245378</td>\n",
       "      <td>0.023637</td>\n",
       "      <td>-15.086617</td>\n",
       "      <td>0.0</td>\n",
       "      <td>6.926828</td>\n",
       "      <td>4070.0</td>\n",
       "      <td>5.347750e+13</td>\n",
       "      <td>5.0</td>\n",
       "      <td>3.0</td>\n",
       "      <td>50.0</td>\n",
       "      <td>-0.010677</td>\n",
       "      <td>0.400677</td>\n",
       "      <td>0.204727</td>\n",
       "      <td>0.04142</td>\n",
       "      <td>12.220764</td>\n",
       "      <td>0.0</td>\n",
       "      <td>15.0</td>\n",
       "      <td>4147.0</td>\n",
       "      <td>6.640875e+13</td>\n",
       "      <td>6.0</td>\n",
       "      <td>3.0</td>\n",
       "      <td>53.0</td>\n",
       "      <td>1.507865</td>\n",
       "      <td>1.666354</td>\n",
       "      <td>1.546979</td>\n",
       "      <td>4.004276</td>\n",
       "      <td>89.751656</td>\n",
       "      <td>0.0</td>\n",
       "      <td>2633.25</td>\n",
       "      <td>4188.5</td>\n",
       "      <td>8.611000e+13</td>\n",
       "      <td>7.0</td>\n",
       "      <td>3.0</td>\n",
       "      <td>85.0</td>\n",
       "      <td>NaN</td>\n",
       "      <td>0.0</td>\n",
       "      <td>NaN</td>\n",
       "      <td>2.451</td>\n",
       "      <td>164.631122</td>\n",
       "      <td>0.0</td>\n",
       "      <td>0.0</td>\n",
       "      <td>0.000000</td>\n",
       "      <td>0.00000</td>\n",
       "      <td>0.747651</td>\n",
       "      <td>0.224196</td>\n",
       "      <td>1.281264</td>\n",
       "      <td>36207.411592</td>\n",
       "      <td>13.865564</td>\n",
       "      <td>23.571569</td>\n",
       "      <td>0.472854</td>\n",
       "      <td>61.852643</td>\n",
       "      <td>105.149985</td>\n",
       "      <td>1.447589</td>\n",
       "      <td>6.274343</td>\n",
       "      <td>1.774044</td>\n",
       "      <td>0.661008</td>\n",
       "      <td>734.40</td>\n",
       "      <td>40.147937</td>\n",
       "      <td>0.000000</td>\n",
       "      <td>0.0</td>\n",
       "      <td>436.86</td>\n",
       "      <td>1.378073</td>\n",
       "      <td>109.754082</td>\n",
       "      <td>NaN</td>\n",
       "      <td>NaN</td>\n",
       "      <td>4462.0</td>\n",
       "      <td>45.0</td>\n",
       "      <td>126.6660</td>\n",
       "      <td>0.0</td>\n",
       "      <td>0.000000</td>\n",
       "      <td>1298.756633</td>\n",
       "      <td>426.0</td>\n",
       "    </tr>\n",
       "    <tr>\n",
       "      <th>4</th>\n",
       "      <td>0016bb22</td>\n",
       "      <td>Spring</td>\n",
       "      <td>18</td>\n",
       "      <td>1</td>\n",
       "      <td>Summer</td>\n",
       "      <td>NaN</td>\n",
       "      <td>NaN</td>\n",
       "      <td>21.319732</td>\n",
       "      <td>64.22</td>\n",
       "      <td>125.06</td>\n",
       "      <td>67.49</td>\n",
       "      <td>NaN</td>\n",
       "      <td>NaN</td>\n",
       "      <td>NaN</td>\n",
       "      <td>NaN</td>\n",
       "      <td>NaN</td>\n",
       "      <td>NaN</td>\n",
       "      <td>NaN</td>\n",
       "      <td>NaN</td>\n",
       "      <td>NaN</td>\n",
       "      <td>NaN</td>\n",
       "      <td>NaN</td>\n",
       "      <td>NaN</td>\n",
       "      <td>NaN</td>\n",
       "      <td>NaN</td>\n",
       "      <td>NaN</td>\n",
       "      <td>NaN</td>\n",
       "      <td>NaN</td>\n",
       "      <td>NaN</td>\n",
       "      <td>NaN</td>\n",
       "      <td>NaN</td>\n",
       "      <td>NaN</td>\n",
       "      <td>NaN</td>\n",
       "      <td>NaN</td>\n",
       "      <td>NaN</td>\n",
       "      <td>NaN</td>\n",
       "      <td>NaN</td>\n",
       "      <td>NaN</td>\n",
       "      <td>NaN</td>\n",
       "      <td>NaN</td>\n",
       "      <td>NaN</td>\n",
       "      <td>NaN</td>\n",
       "      <td>NaN</td>\n",
       "      <td>24.32000</td>\n",
       "      <td>NaN</td>\n",
       "      <td>NaN</td>\n",
       "      <td>NaN</td>\n",
       "      <td>NaN</td>\n",
       "      <td>NaN</td>\n",
       "      <td>NaN</td>\n",
       "      <td>Summer</td>\n",
       "      <td>1.04</td>\n",
       "      <td>NaN</td>\n",
       "      <td>NaN</td>\n",
       "      <td>NaN</td>\n",
       "      <td>NaN</td>\n",
       "      <td>NaN</td>\n",
       "      <td>NaN</td>\n",
       "      <td>NaN</td>\n",
       "      <td>NaN</td>\n",
       "      <td>NaN</td>\n",
       "      <td>NaN</td>\n",
       "      <td>NaN</td>\n",
       "      <td>NaN</td>\n",
       "      <td>NaN</td>\n",
       "      <td>NaN</td>\n",
       "      <td>NaN</td>\n",
       "      <td>NaN</td>\n",
       "      <td>NaN</td>\n",
       "      <td>NaN</td>\n",
       "      <td>NaN</td>\n",
       "      <td>NaN</td>\n",
       "      <td>NaN</td>\n",
       "      <td>NaN</td>\n",
       "      <td>NaN</td>\n",
       "      <td>NaN</td>\n",
       "      <td>NaN</td>\n",
       "      <td>48.0</td>\n",
       "      <td>57.0</td>\n",
       "      <td>NaN</td>\n",
       "      <td>NaN</td>\n",
       "      <td>0.0</td>\n",
       "      <td>NaN</td>\n",
       "      <td>NaN</td>\n",
       "      <td>NaN</td>\n",
       "      <td>NaN</td>\n",
       "      <td>NaN</td>\n",
       "      <td>NaN</td>\n",
       "      <td>NaN</td>\n",
       "      <td>NaN</td>\n",
       "      <td>NaN</td>\n",
       "      <td>NaN</td>\n",
       "      <td>NaN</td>\n",
       "      <td>NaN</td>\n",
       "      <td>NaN</td>\n",
       "      <td>NaN</td>\n",
       "      <td>NaN</td>\n",
       "      <td>NaN</td>\n",
       "      <td>NaN</td>\n",
       "      <td>NaN</td>\n",
       "      <td>NaN</td>\n",
       "      <td>NaN</td>\n",
       "      <td>NaN</td>\n",
       "      <td>NaN</td>\n",
       "      <td>NaN</td>\n",
       "      <td>NaN</td>\n",
       "      <td>NaN</td>\n",
       "      <td>NaN</td>\n",
       "      <td>NaN</td>\n",
       "      <td>NaN</td>\n",
       "      <td>NaN</td>\n",
       "      <td>NaN</td>\n",
       "      <td>NaN</td>\n",
       "      <td>NaN</td>\n",
       "      <td>NaN</td>\n",
       "      <td>NaN</td>\n",
       "      <td>NaN</td>\n",
       "      <td>NaN</td>\n",
       "      <td>NaN</td>\n",
       "      <td>NaN</td>\n",
       "      <td>NaN</td>\n",
       "      <td>NaN</td>\n",
       "      <td>NaN</td>\n",
       "      <td>NaN</td>\n",
       "      <td>NaN</td>\n",
       "      <td>NaN</td>\n",
       "      <td>NaN</td>\n",
       "      <td>NaN</td>\n",
       "      <td>NaN</td>\n",
       "      <td>NaN</td>\n",
       "      <td>NaN</td>\n",
       "      <td>NaN</td>\n",
       "      <td>NaN</td>\n",
       "      <td>NaN</td>\n",
       "      <td>NaN</td>\n",
       "      <td>NaN</td>\n",
       "      <td>NaN</td>\n",
       "      <td>NaN</td>\n",
       "      <td>NaN</td>\n",
       "      <td>NaN</td>\n",
       "      <td>NaN</td>\n",
       "      <td>NaN</td>\n",
       "      <td>NaN</td>\n",
       "      <td>NaN</td>\n",
       "      <td>NaN</td>\n",
       "      <td>NaN</td>\n",
       "      <td>NaN</td>\n",
       "      <td>NaN</td>\n",
       "      <td>NaN</td>\n",
       "      <td>NaN</td>\n",
       "      <td>NaN</td>\n",
       "      <td>NaN</td>\n",
       "      <td>NaN</td>\n",
       "      <td>NaN</td>\n",
       "      <td>NaN</td>\n",
       "      <td>NaN</td>\n",
       "      <td>NaN</td>\n",
       "      <td>NaN</td>\n",
       "      <td>NaN</td>\n",
       "      <td>NaN</td>\n",
       "      <td>NaN</td>\n",
       "      <td>NaN</td>\n",
       "      <td>NaN</td>\n",
       "      <td>NaN</td>\n",
       "      <td>NaN</td>\n",
       "      <td>NaN</td>\n",
       "      <td>NaN</td>\n",
       "      <td>NaN</td>\n",
       "      <td>NaN</td>\n",
       "      <td>NaN</td>\n",
       "      <td>NaN</td>\n",
       "      <td>NaN</td>\n",
       "      <td>NaN</td>\n",
       "      <td>NaN</td>\n",
       "      <td>NaN</td>\n",
       "      <td>NaN</td>\n",
       "      <td>NaN</td>\n",
       "      <td>NaN</td>\n",
       "      <td>NaN</td>\n",
       "      <td>NaN</td>\n",
       "      <td>NaN</td>\n",
       "      <td>NaN</td>\n",
       "      <td>NaN</td>\n",
       "      <td>NaN</td>\n",
       "      <td>NaN</td>\n",
       "      <td>NaN</td>\n",
       "      <td>NaN</td>\n",
       "      <td>NaN</td>\n",
       "      <td>NaN</td>\n",
       "      <td>NaN</td>\n",
       "      <td>NaN</td>\n",
       "      <td>NaN</td>\n",
       "      <td>NaN</td>\n",
       "      <td>NaN</td>\n",
       "      <td>NaN</td>\n",
       "      <td>NaN</td>\n",
       "      <td>NaN</td>\n",
       "      <td>NaN</td>\n",
       "      <td>NaN</td>\n",
       "      <td>NaN</td>\n",
       "      <td>NaN</td>\n",
       "      <td>NaN</td>\n",
       "      <td>NaN</td>\n",
       "      <td>NaN</td>\n",
       "      <td>NaN</td>\n",
       "      <td>NaN</td>\n",
       "      <td>NaN</td>\n",
       "      <td>NaN</td>\n",
       "      <td>NaN</td>\n",
       "      <td>NaN</td>\n",
       "      <td>NaN</td>\n",
       "      <td>NaN</td>\n",
       "      <td>NaN</td>\n",
       "      <td>NaN</td>\n",
       "      <td>NaN</td>\n",
       "      <td>NaN</td>\n",
       "      <td>NaN</td>\n",
       "      <td>NaN</td>\n",
       "      <td>NaN</td>\n",
       "      <td>NaN</td>\n",
       "      <td>NaN</td>\n",
       "      <td>NaN</td>\n",
       "      <td>NaN</td>\n",
       "      <td>NaN</td>\n",
       "      <td>1.040</td>\n",
       "      <td>383.755177</td>\n",
       "      <td>NaN</td>\n",
       "      <td>NaN</td>\n",
       "      <td>NaN</td>\n",
       "      <td>NaN</td>\n",
       "      <td>NaN</td>\n",
       "      <td>NaN</td>\n",
       "      <td>NaN</td>\n",
       "      <td>NaN</td>\n",
       "      <td>NaN</td>\n",
       "      <td>NaN</td>\n",
       "      <td>NaN</td>\n",
       "      <td>NaN</td>\n",
       "      <td>NaN</td>\n",
       "      <td>NaN</td>\n",
       "      <td>NaN</td>\n",
       "      <td>NaN</td>\n",
       "      <td>NaN</td>\n",
       "      <td>2251.08</td>\n",
       "      <td>105.586693</td>\n",
       "      <td>21.319732</td>\n",
       "      <td>NaN</td>\n",
       "      <td>1214.82</td>\n",
       "      <td>1.755730</td>\n",
       "      <td>NaN</td>\n",
       "      <td>NaN</td>\n",
       "      <td>NaN</td>\n",
       "      <td>NaN</td>\n",
       "      <td>NaN</td>\n",
       "      <td>NaN</td>\n",
       "      <td>NaN</td>\n",
       "      <td>NaN</td>\n",
       "      <td>NaN</td>\n",
       "      <td>NaN</td>\n",
       "    </tr>\n",
       "  </tbody>\n",
       "</table>\n",
       "</div>"
      ],
      "text/plain": [
       "         id Basic_Demos-Enroll_Season  Basic_Demos-Age  Basic_Demos-Sex  \\\n",
       "0  00008ff9                      Fall                5                0   \n",
       "1  000fd460                    Summer                9                0   \n",
       "2  00105258                    Summer               10                1   \n",
       "3  00115b9f                    Winter                9                0   \n",
       "4  0016bb22                    Spring               18                1   \n",
       "\n",
       "  CGAS-Season  CGAS-CGAS_Score Physical-Season  Physical-BMI  Physical-Height  \\\n",
       "0      Winter             51.0            Fall     16.877316            46.00   \n",
       "1         NaN              NaN            Fall     14.035590            48.00   \n",
       "2        Fall             71.0            Fall     16.648696            56.50   \n",
       "3        Fall             71.0          Summer     18.292347            56.00   \n",
       "4      Summer              NaN             NaN     21.319732            64.22   \n",
       "\n",
       "   Physical-Weight  Physical-Waist_Circumference  Physical-Diastolic_BP  \\\n",
       "0            50.80                         33.62                    NaN   \n",
       "1            46.00                         22.00                   75.0   \n",
       "2            75.60                         46.19                   65.0   \n",
       "3            81.60                         48.54                   60.0   \n",
       "4           125.06                         67.49                    NaN   \n",
       "\n",
       "   Physical-HeartRate  Physical-Systolic_BP Fitness_Endurance-Season  \\\n",
       "0                 NaN                   NaN                      NaN   \n",
       "1                70.0                 122.0                      NaN   \n",
       "2                94.0                 117.0                     Fall   \n",
       "3                97.0                 117.0                   Summer   \n",
       "4                 NaN                   NaN                      NaN   \n",
       "\n",
       "   Fitness_Endurance-Max_Stage  Fitness_Endurance-Time_Mins  \\\n",
       "0                          NaN                          NaN   \n",
       "1                          NaN                          NaN   \n",
       "2                          5.0                          7.0   \n",
       "3                          6.0                          9.0   \n",
       "4                          NaN                          NaN   \n",
       "\n",
       "   Fitness_Endurance-Time_Sec FGC-Season  FGC-FGC_CU  FGC-FGC_CU_Zone  \\\n",
       "0                         NaN       Fall         0.0              0.0   \n",
       "1                         NaN       Fall         3.0              0.0   \n",
       "2                        33.0       Fall        20.0              1.0   \n",
       "3                        37.0     Summer        18.0              1.0   \n",
       "4                         NaN        NaN         NaN              NaN   \n",
       "\n",
       "   FGC-FGC_GSND  FGC-FGC_GSND_Zone  FGC-FGC_GSD  FGC-FGC_GSD_Zone  FGC-FGC_PU  \\\n",
       "0           NaN                NaN          NaN               NaN         0.0   \n",
       "1           NaN                NaN          NaN               NaN         5.0   \n",
       "2          10.2                1.0         14.7               2.0         7.0   \n",
       "3           NaN                NaN          NaN               NaN         5.0   \n",
       "4           NaN                NaN          NaN               NaN         NaN   \n",
       "\n",
       "   FGC-FGC_PU_Zone  FGC-FGC_SRL  FGC-FGC_SRL_Zone  FGC-FGC_SRR  \\\n",
       "0              0.0          7.0               0.0          6.0   \n",
       "1              0.0         11.0               1.0         11.0   \n",
       "2              1.0         10.0               1.0         10.0   \n",
       "3              0.0          7.0               0.0          7.0   \n",
       "4              NaN          NaN               NaN          NaN   \n",
       "\n",
       "   FGC-FGC_SRR_Zone  FGC-FGC_TL  FGC-FGC_TL_Zone BIA-Season  \\\n",
       "0               0.0         6.0              1.0       Fall   \n",
       "1               1.0         3.0              0.0     Winter   \n",
       "2               1.0         5.0              0.0        NaN   \n",
       "3               0.0         7.0              1.0     Summer   \n",
       "4               NaN         NaN              NaN        NaN   \n",
       "\n",
       "   BIA-BIA_Activity_Level_num  BIA-BIA_BMC  BIA-BIA_BMI  BIA-BIA_BMR  \\\n",
       "0                         2.0      2.66855      16.8792      932.498   \n",
       "1                         2.0      2.57949      14.0371      936.656   \n",
       "2                         NaN          NaN          NaN          NaN   \n",
       "3                         3.0      3.84191      18.2943     1131.430   \n",
       "4                         NaN          NaN          NaN          NaN   \n",
       "\n",
       "   BIA-BIA_DEE  BIA-BIA_ECW  BIA-BIA_FFM  BIA-BIA_FFMI  BIA-BIA_FMI  \\\n",
       "0      1492.00      8.25598      41.5862       13.8177      3.06143   \n",
       "1      1498.65      6.01993      42.0291       12.8254      1.21172   \n",
       "2          NaN          NaN          NaN           NaN          NaN   \n",
       "3      1923.44     15.59250      62.7757       14.0740      4.22033   \n",
       "4          NaN          NaN          NaN           NaN          NaN   \n",
       "\n",
       "   BIA-BIA_Fat  BIA-BIA_Frame_num  BIA-BIA_ICW  BIA-BIA_LDM  BIA-BIA_LST  \\\n",
       "0      9.21377                1.0      24.4349      8.89536      38.9177   \n",
       "1      3.97085                1.0      21.0352     14.97400      39.4497   \n",
       "2     16.88000                NaN          NaN          NaN          NaN   \n",
       "3     18.82430                2.0      30.4041     16.77900      58.9338   \n",
       "4     24.32000                NaN          NaN          NaN          NaN   \n",
       "\n",
       "   BIA-BIA_SMM  BIA-BIA_TBW PAQ_A-Season  PAQ_A-PAQ_A_Total PAQ_C-Season  \\\n",
       "0      19.5413      32.6909          NaN                NaN          NaN   \n",
       "1      15.4107      27.0552          NaN                NaN         Fall   \n",
       "2          NaN          NaN          NaN                NaN       Summer   \n",
       "3      26.4798      45.9966          NaN                NaN       Winter   \n",
       "4          NaN          NaN       Summer               1.04          NaN   \n",
       "\n",
       "   PAQ_C-PAQ_C_Total PCIAT-Season  PCIAT-PCIAT_01  PCIAT-PCIAT_02  \\\n",
       "0                NaN         Fall             5.0             4.0   \n",
       "1              2.340         Fall             0.0             0.0   \n",
       "2              2.170         Fall             5.0             2.0   \n",
       "3              2.451       Summer             4.0             2.0   \n",
       "4                NaN          NaN             NaN             NaN   \n",
       "\n",
       "   PCIAT-PCIAT_03  PCIAT-PCIAT_04  PCIAT-PCIAT_05  PCIAT-PCIAT_06  \\\n",
       "0             4.0             0.0             4.0             0.0   \n",
       "1             0.0             0.0             0.0             0.0   \n",
       "2             2.0             1.0             2.0             1.0   \n",
       "3             4.0             0.0             5.0             1.0   \n",
       "4             NaN             NaN             NaN             NaN   \n",
       "\n",
       "   PCIAT-PCIAT_07  PCIAT-PCIAT_08  PCIAT-PCIAT_09  PCIAT-PCIAT_10  \\\n",
       "0             0.0             4.0             0.0             0.0   \n",
       "1             0.0             0.0             0.0             0.0   \n",
       "2             1.0             2.0             1.0             1.0   \n",
       "3             0.0             3.0             2.0             2.0   \n",
       "4             NaN             NaN             NaN             NaN   \n",
       "\n",
       "   PCIAT-PCIAT_11  PCIAT-PCIAT_12  PCIAT-PCIAT_13  PCIAT-PCIAT_14  \\\n",
       "0             4.0             0.0             4.0             4.0   \n",
       "1             0.0             0.0             0.0             0.0   \n",
       "2             1.0             0.0             1.0             1.0   \n",
       "3             3.0             0.0             3.0             0.0   \n",
       "4             NaN             NaN             NaN             NaN   \n",
       "\n",
       "   PCIAT-PCIAT_15  PCIAT-PCIAT_16  PCIAT-PCIAT_17  PCIAT-PCIAT_18  \\\n",
       "0             4.0             4.0             4.0             4.0   \n",
       "1             0.0             0.0             0.0             0.0   \n",
       "2             1.0             0.0             2.0             2.0   \n",
       "3             0.0             3.0             4.0             3.0   \n",
       "4             NaN             NaN             NaN             NaN   \n",
       "\n",
       "   PCIAT-PCIAT_19  PCIAT-PCIAT_20  PCIAT-PCIAT_Total SDS-Season  \\\n",
       "0             2.0             4.0               55.0        NaN   \n",
       "1             0.0             0.0                0.0       Fall   \n",
       "2             1.0             1.0               28.0       Fall   \n",
       "3             4.0             1.0               44.0     Summer   \n",
       "4             NaN             NaN                NaN        NaN   \n",
       "\n",
       "   SDS-SDS_Total_Raw  SDS-SDS_Total_T PreInt_EduHx-Season  \\\n",
       "0               46.0             55.0                Fall   \n",
       "1               46.0             64.0              Summer   \n",
       "2               38.0             54.0              Summer   \n",
       "3               31.0             45.0              Winter   \n",
       "4               48.0             57.0                 NaN   \n",
       "\n",
       "   PreInt_EduHx-computerinternet_hoursday  sii  ae_feature_0  ae_feature_1  \\\n",
       "0                                     3.0  2.0           NaN           NaN   \n",
       "1                                     0.0  0.0           NaN           NaN   \n",
       "2                                     2.0  0.0           NaN           NaN   \n",
       "3                                     0.0  1.0      0.587671     -1.036325   \n",
       "4                                     NaN  0.0           NaN           NaN   \n",
       "\n",
       "   ae_feature_2  ae_feature_3  ae_feature_4  ae_feature_5  ae_feature_6  \\\n",
       "0           NaN           NaN           NaN           NaN           NaN   \n",
       "1           NaN           NaN           NaN           NaN           NaN   \n",
       "2           NaN           NaN           NaN           NaN           NaN   \n",
       "3      0.608426     -2.259224       0.17213     -0.822569      1.328282   \n",
       "4           NaN           NaN           NaN           NaN           NaN   \n",
       "\n",
       "   ae_feature_7  ae_feature_8  ae_feature_9  ae_feature_10  ae_feature_11  \\\n",
       "0           NaN           NaN           NaN            NaN            NaN   \n",
       "1           NaN           NaN           NaN            NaN            NaN   \n",
       "2           NaN           NaN           NaN            NaN            NaN   \n",
       "3      1.238078     -0.646493     -0.263914       0.950456       0.758038   \n",
       "4           NaN           NaN           NaN            NaN            NaN   \n",
       "\n",
       "   ae_feature_12  ae_feature_13  ae_feature_14  ae_feature_15  ae_feature_16  \\\n",
       "0            NaN            NaN            NaN            NaN            NaN   \n",
       "1            NaN            NaN            NaN            NaN            NaN   \n",
       "2            NaN            NaN            NaN            NaN            NaN   \n",
       "3      -0.472496       1.023212       0.082439      -0.795746      -1.025998   \n",
       "4            NaN            NaN            NaN            NaN            NaN   \n",
       "\n",
       "   ae_feature_17  ae_feature_18  ae_feature_19  ae_feature_20  ae_feature_21  \\\n",
       "0            NaN            NaN            NaN            NaN            NaN   \n",
       "1            NaN            NaN            NaN            NaN            NaN   \n",
       "2            NaN            NaN            NaN            NaN            NaN   \n",
       "3      -0.864955       1.680336       0.039639       0.266968       0.007842   \n",
       "4            NaN            NaN            NaN            NaN            NaN   \n",
       "\n",
       "   ae_feature_22  ae_feature_23  ae_feature_24  ae_feature_25  ae_feature_26  \\\n",
       "0            NaN            NaN            NaN            NaN            NaN   \n",
       "1            NaN            NaN            NaN            NaN            NaN   \n",
       "2            NaN            NaN            NaN            NaN            NaN   \n",
       "3       0.822864       0.698698      -0.005968      -0.749741      -0.045138   \n",
       "4            NaN            NaN            NaN            NaN            NaN   \n",
       "\n",
       "   ae_feature_27  ae_feature_28  ae_feature_29  ae_feature_30  ae_feature_31  \\\n",
       "0            NaN            NaN            NaN            NaN            NaN   \n",
       "1            NaN            NaN            NaN            NaN            NaN   \n",
       "2            NaN            NaN            NaN            NaN            NaN   \n",
       "3      -0.130245        0.60707       -0.82167       1.739423      -0.138876   \n",
       "4            NaN            NaN            NaN            NaN            NaN   \n",
       "\n",
       "   stat_23_boxcox  stat_35_boxcox  stat_38_boxcox  stat_40_boxcox  \\\n",
       "0             NaN             NaN             NaN             NaN   \n",
       "1             NaN             NaN             NaN             NaN   \n",
       "2             NaN             NaN             NaN             NaN   \n",
       "3        8.272084        4.197842    8.161620e+59        0.126963   \n",
       "4             NaN             NaN             NaN             NaN   \n",
       "\n",
       "   stat_47_boxcox  stat_54_boxcox  stat_66_boxcox  stat_78_boxcox  \\\n",
       "0             NaN             NaN             NaN             NaN   \n",
       "1             NaN             NaN             NaN             NaN   \n",
       "2             NaN             NaN             NaN             NaN   \n",
       "3        8.138407        0.986268        2.184901         3.15009   \n",
       "4             NaN             NaN             NaN             NaN   \n",
       "\n",
       "   stat_80_boxcox  stat_88_boxcox  stat_90_boxcox   stat_0   stat_1   stat_2  \\\n",
       "0             NaN             NaN             NaN      NaN      NaN      NaN   \n",
       "1             NaN             NaN             NaN      NaN      NaN      NaN   \n",
       "2             NaN             NaN             NaN      NaN      NaN      NaN   \n",
       "3    5.434934e+31   2.016626e+102       786.87414  43330.0  43330.0  43330.0   \n",
       "4             NaN             NaN             NaN      NaN      NaN      NaN   \n",
       "\n",
       "    stat_3   stat_4   stat_5   stat_6   stat_7   stat_8   stat_9  stat_10  \\\n",
       "0      NaN      NaN      NaN      NaN      NaN      NaN      NaN      NaN   \n",
       "1      NaN      NaN      NaN      NaN      NaN      NaN      NaN      NaN   \n",
       "2      NaN      NaN      NaN      NaN      NaN      NaN      NaN      NaN   \n",
       "3  43330.0  43330.0  43330.0  43330.0  43330.0  43330.0  43330.0  43330.0   \n",
       "4      NaN      NaN      NaN      NaN      NaN      NaN      NaN      NaN   \n",
       "\n",
       "   stat_11   stat_12   stat_13  stat_14   stat_15    stat_16  stat_17  \\\n",
       "0      NaN       NaN       NaN      NaN       NaN        NaN      NaN   \n",
       "1      NaN       NaN       NaN      NaN       NaN        NaN      NaN   \n",
       "2      NaN       NaN       NaN      NaN       NaN        NaN      NaN   \n",
       "3  43330.0 -0.316384  0.016009 -0.16789  0.047388 -10.580416      0.0   \n",
       "4      NaN       NaN       NaN      NaN       NaN        NaN      NaN   \n",
       "\n",
       "    stat_18      stat_19       stat_20   stat_21  stat_22    stat_23  \\\n",
       "0       NaN          NaN           NaN       NaN      NaN        NaN   \n",
       "1       NaN          NaN           NaN       NaN      NaN        NaN   \n",
       "2       NaN          NaN           NaN       NaN      NaN        NaN   \n",
       "3  42.29631  4053.579102  5.046215e+13  4.470182      3.0  53.201683   \n",
       "4       NaN          NaN           NaN       NaN      NaN        NaN   \n",
       "\n",
       "    stat_24   stat_25  stat_26   stat_27   stat_28  stat_29     stat_30  \\\n",
       "0       NaN       NaN      NaN       NaN       NaN      NaN         NaN   \n",
       "1       NaN       NaN      NaN       NaN       NaN      NaN         NaN   \n",
       "2       NaN       NaN      NaN       NaN       NaN      NaN         NaN   \n",
       "3  0.453665  0.502702  0.58571  0.106351  42.94717      0.0  208.168976   \n",
       "4       NaN       NaN      NaN       NaN       NaN      NaN         NaN   \n",
       "\n",
       "      stat_31       stat_32   stat_33  stat_34    stat_35   stat_36   stat_37  \\\n",
       "0         NaN           NaN       NaN      NaN        NaN       NaN       NaN   \n",
       "1         NaN           NaN       NaN      NaN        NaN       NaN       NaN   \n",
       "2         NaN           NaN       NaN      NaN        NaN       NaN       NaN   \n",
       "3  112.404045  1.942842e+13  1.931421      0.0  14.244914 -1.746094 -2.905339   \n",
       "4         NaN           NaN       NaN      NaN        NaN       NaN       NaN   \n",
       "\n",
       "    stat_38  stat_39    stat_40  stat_41  stat_42  stat_43       stat_44  \\\n",
       "0       NaN      NaN        NaN      NaN      NaN      NaN           NaN   \n",
       "1       NaN      NaN        NaN      NaN      NaN      NaN           NaN   \n",
       "2       NaN      NaN        NaN      NaN      NaN      NaN           NaN   \n",
       "3 -1.048372      0.0 -89.833092      0.0      0.0   3824.0  5.500000e+10   \n",
       "4       NaN      NaN        NaN      NaN      NaN      NaN           NaN   \n",
       "\n",
       "   stat_45  stat_46  stat_47  stat_48   stat_49   stat_50   stat_51  \\\n",
       "0      NaN      NaN      NaN      NaN       NaN       NaN       NaN   \n",
       "1      NaN      NaN      NaN      NaN       NaN       NaN       NaN   \n",
       "2      NaN      NaN      NaN      NaN       NaN       NaN       NaN   \n",
       "3      1.0      3.0     41.0 -0.68418 -0.309863 -0.649974  0.006432   \n",
       "4      NaN      NaN      NaN      NaN       NaN       NaN       NaN   \n",
       "\n",
       "     stat_52  stat_53   stat_54      stat_55       stat_56  stat_57  stat_58  \\\n",
       "0        NaN      NaN       NaN          NaN           NaN      NaN      NaN   \n",
       "1        NaN      NaN       NaN          NaN           NaN      NaN      NaN   \n",
       "2        NaN      NaN       NaN          NaN           NaN      NaN      NaN   \n",
       "3 -41.541863      0.0  2.392969  4028.666748  3.689000e+13      3.0      3.0   \n",
       "4        NaN      NaN       NaN          NaN           NaN      NaN      NaN   \n",
       "\n",
       "   stat_59   stat_60   stat_61   stat_62   stat_63    stat_64  stat_65  \\\n",
       "0      NaN       NaN       NaN       NaN       NaN        NaN      NaN   \n",
       "1      NaN       NaN       NaN       NaN       NaN        NaN      NaN   \n",
       "2      NaN       NaN       NaN       NaN       NaN        NaN      NaN   \n",
       "3     42.0 -0.366849  0.024974 -0.245378  0.023637 -15.086617      0.0   \n",
       "4      NaN       NaN       NaN       NaN       NaN        NaN      NaN   \n",
       "\n",
       "    stat_66  stat_67       stat_68  stat_69  stat_70  stat_71   stat_72  \\\n",
       "0       NaN      NaN           NaN      NaN      NaN      NaN       NaN   \n",
       "1       NaN      NaN           NaN      NaN      NaN      NaN       NaN   \n",
       "2       NaN      NaN           NaN      NaN      NaN      NaN       NaN   \n",
       "3  6.926828   4070.0  5.347750e+13      5.0      3.0     50.0 -0.010677   \n",
       "4       NaN      NaN           NaN      NaN      NaN      NaN       NaN   \n",
       "\n",
       "    stat_73   stat_74  stat_75    stat_76  stat_77  stat_78  stat_79  \\\n",
       "0       NaN       NaN      NaN        NaN      NaN      NaN      NaN   \n",
       "1       NaN       NaN      NaN        NaN      NaN      NaN      NaN   \n",
       "2       NaN       NaN      NaN        NaN      NaN      NaN      NaN   \n",
       "3  0.400677  0.204727  0.04142  12.220764      0.0     15.0   4147.0   \n",
       "4       NaN       NaN      NaN        NaN      NaN      NaN      NaN   \n",
       "\n",
       "        stat_80  stat_81  stat_82  stat_83   stat_84   stat_85   stat_86  \\\n",
       "0           NaN      NaN      NaN      NaN       NaN       NaN       NaN   \n",
       "1           NaN      NaN      NaN      NaN       NaN       NaN       NaN   \n",
       "2           NaN      NaN      NaN      NaN       NaN       NaN       NaN   \n",
       "3  6.640875e+13      6.0      3.0     53.0  1.507865  1.666354  1.546979   \n",
       "4           NaN      NaN      NaN      NaN       NaN       NaN       NaN   \n",
       "\n",
       "    stat_87    stat_88  stat_89  stat_90  stat_91       stat_92  stat_93  \\\n",
       "0       NaN        NaN      NaN      NaN      NaN           NaN      NaN   \n",
       "1       NaN        NaN      NaN      NaN      NaN           NaN      NaN   \n",
       "2       NaN        NaN      NaN      NaN      NaN           NaN      NaN   \n",
       "3  4.004276  89.751656      0.0  2633.25   4188.5  8.611000e+13      7.0   \n",
       "4       NaN        NaN      NaN      NaN      NaN           NaN      NaN   \n",
       "\n",
       "   stat_94  stat_95  FGC-FGC_GS  FGC-FGC_SR  fitness_score  PAQ_Total  \\\n",
       "0      NaN      NaN         NaN         0.0            NaN        NaN   \n",
       "1      NaN      NaN         NaN         2.0            NaN      2.340   \n",
       "2      NaN      NaN         3.0         2.0            7.0      2.170   \n",
       "3      3.0     85.0         NaN         0.0            NaN      2.451   \n",
       "4      NaN      NaN         NaN         NaN            NaN      1.040   \n",
       "\n",
       "      BMI_Age  Internet_Hours_Age  Age_Internet_Hours  BMI_Internet_Hours  \\\n",
       "0   84.386578                15.0                 0.6           50.631947   \n",
       "1  126.320313                 0.0                 0.0            0.000000   \n",
       "2  166.486961                20.0                 0.2           33.297392   \n",
       "3  164.631122                 0.0                 0.0            0.000000   \n",
       "4  383.755177                 NaN                 NaN                 NaN   \n",
       "\n",
       "   BIA_BMI_Internet_Hours_Age  FFMI_BFP   FMI_BFP   LST_TBW       BFP_DEE  \\\n",
       "0                    10.12752  1.499679  0.332267  1.190475  13746.944840   \n",
       "1                     0.00000  3.229888  0.305154  1.458119   5950.914352   \n",
       "2                         NaN       NaN       NaN       NaN           NaN   \n",
       "3                     0.00000  0.747651  0.224196  1.281264  36207.411592   \n",
       "4                         NaN       NaN       NaN       NaN           NaN   \n",
       "\n",
       "   BMR_Weight  DEE_Weight  SMM_Height    BMR_BMI     DEE_BMI   SMM_BMI  \\\n",
       "0   18.356260   29.370079    0.424811  55.251559   88.402684  1.157844   \n",
       "1   20.362087   32.579348    0.321056  66.734350  106.774989  1.097973   \n",
       "2         NaN         NaN         NaN        NaN         NaN       NaN   \n",
       "3   13.865564   23.571569    0.472854  61.852643  105.149985  1.447589   \n",
       "4         NaN         NaN         NaN        NaN         NaN       NaN   \n",
       "\n",
       "   Muscle_to_Fat  Hydration_Status   ICW_TBW  Age_Weight  Age_Weight_BMI  \\\n",
       "0       6.383063          1.553949  0.747453      254.00       15.049787   \n",
       "1      12.718037          1.700228  0.777492      414.00       29.496444   \n",
       "2            NaN               NaN       NaN      756.00       45.408962   \n",
       "3       6.274343          1.774044  0.661008      734.40       40.147937   \n",
       "4            NaN               NaN       NaN     2251.08      105.586693   \n",
       "\n",
       "     Sex_BMI  Sex_HeartRate  Age_WaistCirc  Age_WaistCirc_BMI  \\\n",
       "0   0.000000            NaN         168.10           0.998264   \n",
       "1   0.000000            0.0         198.00           1.149435   \n",
       "2  16.648696           94.0         461.90           1.443168   \n",
       "3   0.000000            0.0         436.86           1.378073   \n",
       "4  21.319732            NaN        1214.82           1.755730   \n",
       "\n",
       "   BMI_FitnessMaxStage  Weight_GripStrengthDominant  \\\n",
       "0                  NaN                          NaN   \n",
       "1                  NaN                          NaN   \n",
       "2            83.243480                      1111.32   \n",
       "3           109.754082                          NaN   \n",
       "4                  NaN                          NaN   \n",
       "\n",
       "   Weight_GripStrengthNonDominant  HeartRate_FitnessTime  Age_PushUp  \\\n",
       "0                             NaN                    NaN         0.0   \n",
       "1                             NaN                    NaN        45.0   \n",
       "2                          771.12                 3760.0        70.0   \n",
       "3                             NaN                 4462.0        45.0   \n",
       "4                             NaN                    NaN         NaN   \n",
       "\n",
       "   FFMI_Age  InternetUse_SleepDisturbance  InternetUse_SleepDisturbance_BMI  \\\n",
       "0   69.0885                         138.0                          8.176656   \n",
       "1  115.4286                           0.0                          0.000000   \n",
       "2       NaN                          76.0                          4.564922   \n",
       "3  126.6660                           0.0                          0.000000   \n",
       "4       NaN                           NaN                               NaN   \n",
       "\n",
       "      CGAS_BMI  CGAS_FitnessMaxStage  \n",
       "0   860.743100                   NaN  \n",
       "1          NaN                   NaN  \n",
       "2  1182.057420                 355.0  \n",
       "3  1298.756633                 426.0  \n",
       "4          NaN                   NaN  "
      ]
     },
     "execution_count": 18,
     "metadata": {},
     "output_type": "execute_result"
    }
   ],
   "source": [
    "# Get column names as a list\n",
    "column_names = train_final.columns.tolist()\n",
    "\n",
    "train_final.head()"
   ]
  },
  {
   "cell_type": "code",
   "execution_count": 19,
   "metadata": {},
   "outputs": [],
   "source": [
    "# Isolate the physical attribute columns and some contextual columns for analysis\n",
    "physical_columns = [\n",
    "    'Basic_Demos-Enroll_Season', 'BMI_Age', 'Basic_Demos-Age', 'Basic_Demos-Sex', 'DEE_Weight',\n",
    "    'CGAS-Season', 'Physical-Season', 'Physical-BMI', 'Internet_Hours_Age', 'Age_Internet_Hours', \n",
    "    'Physical-Height', 'Physical-Weight', 'Physical-Waist_Circumference',\n",
    "    'Physical-Diastolic_BP', 'Physical-HeartRate', 'Physical-Systolic_BP', 'BMI_Internet_Hours', 'BMR_Weight',\n",
    "    'fitness_score', 'BIA-BIA_Frame_num', 'BIA-BIA_BMI', 'PreInt_EduHx-computerinternet_hoursday',\n",
    "    'BIA_BMI_Internet_Hours_Age', \n",
    "    'Muscle_to_Fat', 'Hydration_Status', 'ICW_TBW', 'Age_Weight', 'Age_Weight_BMI', 'Sex_BMI', 'Sex_HeartRate',\n",
    "    'sii'\n",
    "]\n",
    "\n",
    "# Isolate the fitness attributes\n",
    "# Removed columns: 'FGC-FGC_CU' 'FGC-FGC_PU', 'FGC-FGC_SRL_Zone', 'FGC-FGC_SRR', 'FGC-FGC_SRR_Zone', 'FGC-FGC_SRL' \n",
    "# 'FGC-FGC_GSND_Zone' 'FGC-FGC_GSND' 'FGC-FGC_GSD' 'FGC-FGC_GSD_Zone' 'Fitness_Endurance-Time_Sec'\n",
    "fitness_columns = [\n",
    "    'Fitness_Endurance-Season', 'Fitness_Endurance-Max_Stage', 'Fitness_Endurance-Time_Mins', 'SMM_Height',\n",
    "    'FGC-Season', 'FGC-FGC_CU_Zone', 'FGC-FGC_SR', 'FGC-FGC_PU_Zone', 'FGC-FGC_TL',\n",
    "    'FGC-FGC_TL_Zone', 'FGC-FGC_GS', 'fitness_score', 'BIA-BIA_BMI', 'Physical-BMI', 'FMI_BFP', 'LST_TBW', 'SMM_Height',\n",
    "    'BIA-BIA_Frame_num', 'PreInt_EduHx-computerinternet_hoursday', 'FFMI_BFP', 'BFP_DEE', 'BMR_Weight',\n",
    "    'Muscle_to_Fat', 'Hydration_Status', 'ICW_TBW', 'Age_Weight_BMI', 'Sex_HeartRate',\n",
    "    'sii'\n",
    "]\n",
    "\n",
    "# Isolate the BIA attributes\n",
    "bia_columns = [\n",
    "    'BIA-Season', 'BIA-BIA_Activity_Level_num', 'BIA-BIA_Frame_num', 'DEE_Weight', 'SMM_Height',\n",
    "    'BIA-BIA_BMI', 'fitness_score', 'Physical-BMI', 'PreInt_EduHx-computerinternet_hoursday', \n",
    "    'BMR_BMI', 'DEE_BMI', 'SMM_BMI', 'ICW_TBW', 'sii'\n",
    "]\n",
    "\n",
    "# Isolate the PAQ, PCIAT, and SDS\n",
    "child_info_columns = [\n",
    "    'PreInt_EduHx-computerinternet_hoursday', 'PAQ_A-Season', 'PAQ_A-PAQ_A_Total', 'PAQ_C-PAQ_C_Total',\n",
    "    'PAQ_Total', 'PCIAT-Season', 'PCIAT-PCIAT_01', 'PCIAT-PCIAT_02', 'PCIAT-PCIAT_03', 'PCIAT-PCIAT_04',\n",
    "    'PCIAT-PCIAT_05', 'PCIAT-PCIAT_06', 'PCIAT-PCIAT_07', 'PCIAT-PCIAT_08', 'PCIAT-PCIAT_09',\n",
    "    'PCIAT-PCIAT_10', 'PCIAT-PCIAT_11', 'PCIAT-PCIAT_12', 'PCIAT-PCIAT_13', 'PCIAT-PCIAT_14', \n",
    "    'PCIAT-PCIAT_15', 'PCIAT-PCIAT_16', 'PCIAT-PCIAT_17', 'PCIAT-PCIAT_18', 'PCIAT-PCIAT_19', \n",
    "    'PCIAT-PCIAT_20', 'PCIAT-PCIAT_Total', 'SDS-Season', 'SDS-SDS_Total_Raw', 'SDS-SDS_Total_T',\n",
    "    'PreInt_EduHx-Season', 'PreInt_EduHx-computerinternet_hoursday', 'BIA-BIA_BMI', 'fitness_score',\n",
    "    'Physical-BMI', 'Sex_BMI', 'sii'\n",
    "]\n",
    "\n",
    "# Isolate the Actigraphy data\n",
    "# removed columns: 'stat_41', 'stat_42', 'stat_39','stat_92_boxcox' 'stat_0', 'stat_1', 'stat_2', 'stat_3', 'stat_4', 'stat_5', 'stat_6', 'stat_7', \n",
    "# 'stat_8', 'stat_9', 'stat_10','stat_11'\n",
    "actigraphy_columns = [\n",
    "    'stat_12', 'stat_13', 'stat_14', 'stat_15', 'stat_16', 'stat_17', 'stat_18', 'stat_19', 'stat_20',\n",
    "    'stat_21', 'stat_22', 'stat_23_boxcox', 'stat_24', 'stat_25', 'stat_26', 'stat_27', 'stat_28', 'stat_29', 'stat_30',\n",
    "    'stat_31', 'stat_32', 'stat_33', 'stat_34', 'stat_35_boxcox', 'stat_36', 'stat_37', 'stat_38_boxcox', 'stat_40_boxcox',\n",
    "    'stat_43', 'stat_44', 'stat_45', 'stat_46', 'stat_47_boxcox', 'stat_48', 'stat_49', 'stat_50',\n",
    "    'stat_51', 'stat_52', 'stat_53', 'stat_54_boxcox', 'stat_55', 'stat_56', 'stat_57', 'stat_58', 'stat_59', 'stat_60',\n",
    "    'stat_61', 'stat_62', 'stat_63', 'stat_64', 'stat_65', 'stat_66_boxcox', 'stat_67', 'stat_68', 'stat_69', 'stat_70',\n",
    "    'stat_71', 'stat_72', 'stat_73', 'stat_74', 'stat_75', 'stat_76', 'stat_77', 'stat_78_boxcox', 'stat_79', 'stat_80_boxcox',\n",
    "    'stat_81', 'stat_82', 'stat_83', 'stat_84', 'stat_85', 'stat_86', 'stat_87', 'stat_88_boxcox', 'stat_89', 'stat_90_boxcox',\n",
    "    'stat_91', 'stat_93', 'stat_94', 'stat_95', 'PreInt_EduHx-computerinternet_hoursday', \n",
    "    'BIA-BIA_Frame_num', 'SDS-SDS_Total_T', 'BIA-BIA_BMI', 'Physical-BMI', 'sii'\n",
    "]"
   ]
  },
  {
   "cell_type": "code",
   "execution_count": 20,
   "metadata": {},
   "outputs": [
    {
     "name": "stdout",
     "output_type": "stream",
     "text": [
      "Column profiles saved to analysis_output/physical\\physical_column_profiles.csv\n",
      "Column profiles saved to analysis_output\\fitness_column_profiles.csv\n",
      "Column profiles saved to analysis_output\\bia_column_profiles.csv\n",
      "Column profiles saved to analysis_output\\child_info_column_profiles.csv\n",
      "Column profiles saved to analysis_output\\actigraphy_column_profiles.csv\n"
     ]
    }
   ],
   "source": [
    "# Function to analyze columns\n",
    "def analyze_column(column):\n",
    "    total_count = len(train_final)\n",
    "    missing_count = train_final[column].isnull().sum()\n",
    "    missing_percentage = (missing_count / total_count) * 100\n",
    "    unique_values = train_final[column].nunique()\n",
    "    \n",
    "    if pd.api.types.is_numeric_dtype(train_final[column]):\n",
    "        mean_value = train_final[column].mean()\n",
    "        median_value = train_final[column].median()\n",
    "        std_dev = train_final[column].std()\n",
    "        min_value = train_final[column].min()\n",
    "        max_value = train_final[column].max()\n",
    "        return {\n",
    "            \"Column\": column,\n",
    "            \"Total Count\": total_count,\n",
    "            \"Missing Count\": missing_count,\n",
    "            \"Missing Percentage\": f\"{missing_percentage:.2f}%\",\n",
    "            \"Unique Values\": unique_values,\n",
    "            \"Data Type\": train_final[column].dtype,\n",
    "            \"Mean\": mean_value,\n",
    "            \"Median\": median_value,\n",
    "            \"Standard Deviation\": std_dev,\n",
    "            \"Minimum\": min_value,\n",
    "            \"Maximum\": max_value\n",
    "        }\n",
    "    else:\n",
    "        top_values = train_final[column].value_counts().head(3).to_dict()\n",
    "        return {\n",
    "            \"Column\": column,\n",
    "            \"Total Count\": total_count,\n",
    "            \"Missing Count\": missing_count,\n",
    "            \"Missing Percentage\": f\"{missing_percentage:.2f}%\",\n",
    "            \"Unique Values\": unique_values,\n",
    "            \"Data Type\": train_final[column].dtype,\n",
    "            \"Top 3 Values\": top_values\n",
    "        }\n",
    "\n",
    "# Physical column profiles        \n",
    "physical_column_profiles = [analyze_column(col) for col in physical_columns]\n",
    "physical_column_profiles_df = pd.DataFrame(physical_column_profiles)\n",
    "\n",
    "# Save column profiles to CSV\n",
    "physical_column_profiles_df.to_csv(os.path.join(physical_analysis_output_folder, 'physical_column_profiles.csv'), index=False)\n",
    "print(f\"Column profiles saved to {os.path.join(physical_analysis_output_folder, 'physical_column_profiles.csv')}\")\n",
    "\n",
    "# Fitness column profiles\n",
    "fitness_column_profiles = [analyze_column(col) for col in fitness_columns]\n",
    "fitness_column_profiles_df = pd.DataFrame(fitness_column_profiles)\n",
    "\n",
    "# Save column profiles to CSV\n",
    "fitness_column_profiles_df.to_csv(os.path.join(analysis_output_folder, 'fitness_column_profiles.csv'), index=False)\n",
    "print(f\"Column profiles saved to {os.path.join(analysis_output_folder, 'fitness_column_profiles.csv')}\")\n",
    "\n",
    "# BIA column profiles\n",
    "bia_column_profiles = [analyze_column(col) for col in bia_columns]\n",
    "bia_column_profiles_df = pd.DataFrame(bia_column_profiles)\n",
    "\n",
    "# Save column profiles to CSV\n",
    "bia_column_profiles_df.to_csv(os.path.join(analysis_output_folder, 'bia_column_profiles.csv'), index=False)\n",
    "print(f\"Column profiles saved to {os.path.join(analysis_output_folder, 'bia_column_profiles.csv')}\")\n",
    "\n",
    "# Child info column profiles\n",
    "child_info_column_profiles = [analyze_column(col) for col in child_info_columns]\n",
    "child_info_column_profiles_df = pd.DataFrame(child_info_column_profiles)\n",
    "\n",
    "# Save column profiles to CSV\n",
    "child_info_column_profiles_df.to_csv(os.path.join(analysis_output_folder, 'child_info_column_profiles.csv'), index=False)\n",
    "print(f\"Column profiles saved to {os.path.join(analysis_output_folder, 'child_info_column_profiles.csv')}\")\n",
    "\n",
    "# Actigraphy info column profiles\n",
    "actigraphy_column_profiles = [analyze_column(col) for col in actigraphy_columns]\n",
    "actigraphy_column_profiles_df = pd.DataFrame(actigraphy_column_profiles)\n",
    "\n",
    "# Save column profiles to CSV\n",
    "actigraphy_column_profiles_df.to_csv(os.path.join(analysis_output_folder, 'actigraphy_column_profiles.csv'), index=False)\n",
    "print(f\"Column profiles saved to {os.path.join(analysis_output_folder, 'actigraphy_column_profiles.csv')}\")"
   ]
  },
  {
   "cell_type": "code",
   "execution_count": 21,
   "metadata": {},
   "outputs": [
    {
     "name": "stdout",
     "output_type": "stream",
     "text": [
      "Missing data heatmap saved to analysis_output/physical\\physical_missing_data_heatmap.png\n",
      "Missing data heatmap saved to analysis_output/fitness\\fitness_missing_data_heatmap.png\n",
      "Missing data heatmap saved to analysis_output/bia\\bia_missing_data_heatmap.png\n",
      "Missing data heatmap saved to analysis_output/child_info\\child_info_missing_data_heatmap.png\n",
      "Missing data heatmap saved to analysis_output/actigraphy\\actigraphy_missing_data_heatmap.png\n"
     ]
    }
   ],
   "source": [
    "# Visualize missing data\n",
    "# Physical columns\n",
    "plt.figure(figsize=(12, 6))\n",
    "sns.heatmap(train_final[physical_columns].isnull(), cbar=False, yticklabels=False, cmap='viridis')\n",
    "plt.title('Missing Data in Physical Attribute Columns')\n",
    "plt.xlabel('Columns')\n",
    "plt.ylabel('Rows')\n",
    "plt.tight_layout()\n",
    "plt.savefig(os.path.join(physical_analysis_output_folder, 'physical_missing_data_heatmap.png'))\n",
    "plt.close()\n",
    "print(f\"Missing data heatmap saved to {os.path.join(physical_analysis_output_folder, 'physical_missing_data_heatmap.png')}\")\n",
    "\n",
    "# Fitness columns\n",
    "plt.figure(figsize=(12, 6))\n",
    "sns.heatmap(train_final[fitness_columns].isnull(), cbar=False, yticklabels=False, cmap='viridis')\n",
    "plt.title('Missing Data in Fitness Attribute Columns')\n",
    "plt.xlabel('Columns')\n",
    "plt.ylabel('Rows')\n",
    "plt.tight_layout()\n",
    "plt.savefig(os.path.join(fitness_analysis_output_folder, 'fitness_missing_data_heatmap.png'))\n",
    "plt.close()\n",
    "print(f\"Missing data heatmap saved to {os.path.join(fitness_analysis_output_folder, 'fitness_missing_data_heatmap.png')}\")\n",
    "\n",
    "# BIA columns\n",
    "plt.figure(figsize=(12, 6))\n",
    "sns.heatmap(train_final[bia_columns].isnull(), cbar=False, yticklabels=False, cmap='viridis')\n",
    "plt.title('Missing Data in BIA Attribute Columns')\n",
    "plt.xlabel('Columns')\n",
    "plt.ylabel('Rows')\n",
    "plt.tight_layout()\n",
    "plt.savefig(os.path.join(bia_analysis_output_folder, 'bia_missing_data_heatmap.png'))\n",
    "plt.close()\n",
    "print(f\"Missing data heatmap saved to {os.path.join(bia_analysis_output_folder, 'bia_missing_data_heatmap.png')}\")\n",
    "\n",
    "# Child info columns\n",
    "plt.figure(figsize=(12, 6))\n",
    "sns.heatmap(train_final[child_info_columns].isnull(), cbar=False, yticklabels=False, cmap='viridis')\n",
    "plt.title('Missing Data in Child info Attribute Columns')\n",
    "plt.xlabel('Columns')\n",
    "plt.ylabel('Rows')\n",
    "plt.tight_layout()\n",
    "plt.savefig(os.path.join(child_info_analysis_output_folder, 'child_info_missing_data_heatmap.png'))\n",
    "plt.close()\n",
    "print(f\"Missing data heatmap saved to {os.path.join(child_info_analysis_output_folder, 'child_info_missing_data_heatmap.png')}\")\n",
    "\n",
    "# Actigraphy info columns\n",
    "plt.figure(figsize=(40, 6))\n",
    "sns.heatmap(train_final[actigraphy_columns].isnull(), cbar=False, yticklabels=False, cmap='viridis')\n",
    "plt.title('Missing Data in Actigraphy info Attribute Columns')\n",
    "plt.xlabel('Columns')\n",
    "plt.ylabel('Rows')\n",
    "plt.tight_layout()\n",
    "plt.savefig(os.path.join(actigraphy_analysis_output_folder, 'actigraphy_missing_data_heatmap.png'))\n",
    "plt.close()\n",
    "print(f\"Missing data heatmap saved to {os.path.join(actigraphy_analysis_output_folder, 'actigraphy_missing_data_heatmap.png')}\")"
   ]
  },
  {
   "cell_type": "code",
   "execution_count": 22,
   "metadata": {},
   "outputs": [
    {
     "name": "stdout",
     "output_type": "stream",
     "text": [
      "Physical correlation matrix saved to analysis_output/physical\\physical_correlation_matrix.png\n",
      "Fitness correlation matrix saved to analysis_output/fitness\\fitness_correlation_matrix.png\n",
      "BIA correlation matrix saved to analysis_output/bia\\BIA_correlation_matrix.png\n",
      "BIA correlation matrix saved to analysis_output/child_info\\child_info_correlation_matrix.png\n",
      "BIA correlation matrix saved to analysis_output/actigraphy\\actigraphy_correlation_matrix.png\n"
     ]
    }
   ],
   "source": [
    "# Correlation matrix for physical numeric columns\n",
    "physical_numeric_columns = train_final[physical_columns].select_dtypes(include=[np.number]).columns\n",
    "physical_correlation_matrix = train_final[physical_numeric_columns].corr()\n",
    "\n",
    "plt.figure(figsize=(20, 18))\n",
    "sns.heatmap(physical_correlation_matrix, annot=True, cmap='coolwarm', linewidths=0.5)\n",
    "plt.title('Correlation Matrix of Numeric Physical Attributes')\n",
    "plt.tight_layout()\n",
    "plt.savefig(os.path.join(physical_analysis_output_folder, 'physical_correlation_matrix.png'))\n",
    "plt.close()\n",
    "print(f\"Physical correlation matrix saved to {os.path.join(physical_analysis_output_folder, 'physical_correlation_matrix.png')}\")\n",
    "\n",
    "# Correlation matrix for fitness numeric columns\n",
    "fitness_numeric_columns = train_final[fitness_columns].select_dtypes(include=[np.number]).columns\n",
    "fitness_correlation_matrix = train_final[fitness_numeric_columns].corr()\n",
    "\n",
    "plt.figure(figsize=(20, 18))\n",
    "sns.heatmap(fitness_correlation_matrix, annot=True, cmap='coolwarm', linewidths=0.5)\n",
    "plt.title('Correlation Matrix of Numeric Fitness Attributes')\n",
    "plt.tight_layout()\n",
    "plt.savefig(os.path.join(fitness_analysis_output_folder, 'fitness_correlation_matrix.png'))\n",
    "plt.close()\n",
    "print(f\"Fitness correlation matrix saved to {os.path.join(fitness_analysis_output_folder, 'fitness_correlation_matrix.png')}\")\n",
    "\n",
    "# Correlation matrix for bia numeric columns\n",
    "bia_numeric_columns = train_final[bia_columns].select_dtypes(include=[np.number]).columns\n",
    "bia_correlation_matrix = train_final[bia_numeric_columns].corr()\n",
    "\n",
    "plt.figure(figsize=(20, 18))\n",
    "sns.heatmap(bia_correlation_matrix, annot=True, cmap='coolwarm', linewidths=0.5)\n",
    "plt.title('Correlation Matrix of Numeric BIA Attributes')\n",
    "plt.tight_layout()\n",
    "plt.savefig(os.path.join(bia_analysis_output_folder, 'bia_correlation_matrix.png'))\n",
    "plt.close()\n",
    "print(f\"BIA correlation matrix saved to {os.path.join(bia_analysis_output_folder, 'BIA_correlation_matrix.png')}\")\n",
    "\n",
    "# Correlation matrix for child info numeric columns\n",
    "child_info_numeric_columns = train_final[child_info_columns].select_dtypes(include=[np.number]).columns\n",
    "child_info_correlation_matrix = train_final[child_info_numeric_columns].corr()\n",
    "\n",
    "plt.figure(figsize=(24, 22))\n",
    "sns.heatmap(child_info_correlation_matrix, annot=True, cmap='coolwarm', linewidths=0.5)\n",
    "plt.title('Correlation Matrix of Numeric Child info Attributes')\n",
    "plt.tight_layout()\n",
    "plt.savefig(os.path.join(child_info_analysis_output_folder, 'child_info_correlation_matrix.png'))\n",
    "plt.close()\n",
    "print(f\"BIA correlation matrix saved to {os.path.join(child_info_analysis_output_folder, 'child_info_correlation_matrix.png')}\")\n",
    "\n",
    "# Correlation matrix for actigraphy numeric columns\n",
    "actigraphy_numeric_columns = train_final[actigraphy_columns].select_dtypes(include=[np.number]).columns\n",
    "actigraphy_correlation_matrix = train_final[actigraphy_numeric_columns].corr()\n",
    "\n",
    "plt.figure(figsize=(80, 78))\n",
    "sns.heatmap(actigraphy_correlation_matrix, annot=True, cmap='coolwarm', linewidths=0.5)\n",
    "plt.title('Correlation Matrix of Numeric Actigraphy Attributes')\n",
    "plt.tight_layout()\n",
    "plt.savefig(os.path.join(actigraphy_analysis_output_folder, 'actigraphy_correlation_matrix.png'))\n",
    "plt.close()\n",
    "print(f\"BIA correlation matrix saved to {os.path.join(actigraphy_analysis_output_folder, 'actigraphy_correlation_matrix.png')}\")"
   ]
  },
  {
   "cell_type": "code",
   "execution_count": 23,
   "metadata": {},
   "outputs": [
    {
     "name": "stderr",
     "output_type": "stream",
     "text": [
      "Processing physical: BMI_Age:   1%|          | 1/186 [00:00<00:21,  8.47it/s]"
     ]
    },
    {
     "name": "stdout",
     "output_type": "stream",
     "text": [
      "\n",
      "Processing physical column: BMI_Age\n"
     ]
    },
    {
     "name": "stderr",
     "output_type": "stream",
     "text": [
      "Processing physical: Basic_Demos-Sex:   1%|          | 2/186 [00:00<00:31,  5.88it/s]"
     ]
    },
    {
     "name": "stdout",
     "output_type": "stream",
     "text": [
      "\n",
      "Processing physical column: Basic_Demos-Age\n"
     ]
    },
    {
     "name": "stderr",
     "output_type": "stream",
     "text": [
      "Processing physical: Basic_Demos-Sex:   2%|▏         | 3/186 [00:00<00:33,  5.43it/s]"
     ]
    },
    {
     "name": "stdout",
     "output_type": "stream",
     "text": [
      "\n",
      "Processing physical column: Basic_Demos-Sex\n"
     ]
    },
    {
     "name": "stderr",
     "output_type": "stream",
     "text": [
      "Processing physical: DEE_Weight:   2%|▏         | 3/186 [00:00<00:33,  5.43it/s]     "
     ]
    },
    {
     "name": "stdout",
     "output_type": "stream",
     "text": [
      "\n",
      "Processing physical column: DEE_Weight\n"
     ]
    },
    {
     "name": "stderr",
     "output_type": "stream",
     "text": [
      "Processing physical: Physical-BMI:   3%|▎         | 5/186 [00:01<00:53,  3.36it/s]"
     ]
    },
    {
     "name": "stdout",
     "output_type": "stream",
     "text": [
      "\n",
      "Processing physical column: Physical-BMI\n"
     ]
    },
    {
     "name": "stderr",
     "output_type": "stream",
     "text": [
      "Processing physical: Internet_Hours_Age:   3%|▎         | 6/186 [00:01<00:47,  3.77it/s]"
     ]
    },
    {
     "name": "stdout",
     "output_type": "stream",
     "text": [
      "\n",
      "Processing physical column: Internet_Hours_Age\n"
     ]
    },
    {
     "name": "stderr",
     "output_type": "stream",
     "text": [
      "Processing physical: Age_Internet_Hours:   4%|▍         | 7/186 [00:01<00:43,  4.09it/s]"
     ]
    },
    {
     "name": "stdout",
     "output_type": "stream",
     "text": [
      "\n",
      "Processing physical column: Age_Internet_Hours\n"
     ]
    },
    {
     "name": "stderr",
     "output_type": "stream",
     "text": [
      "Processing physical: Physical-Height:   4%|▍         | 8/186 [00:01<00:42,  4.23it/s]   "
     ]
    },
    {
     "name": "stdout",
     "output_type": "stream",
     "text": [
      "\n",
      "Processing physical column: Physical-Height\n"
     ]
    },
    {
     "name": "stderr",
     "output_type": "stream",
     "text": [
      "Processing physical: Physical-Weight:   5%|▍         | 9/186 [00:02<00:40,  4.38it/s]"
     ]
    },
    {
     "name": "stdout",
     "output_type": "stream",
     "text": [
      "\n",
      "Processing physical column: Physical-Weight\n"
     ]
    },
    {
     "name": "stderr",
     "output_type": "stream",
     "text": [
      "Processing physical: Physical-Waist_Circumference:   5%|▌         | 10/186 [00:02<00:39,  4.44it/s]"
     ]
    },
    {
     "name": "stdout",
     "output_type": "stream",
     "text": [
      "\n",
      "Processing physical column: Physical-Waist_Circumference\n"
     ]
    },
    {
     "name": "stderr",
     "output_type": "stream",
     "text": [
      "Processing physical: Physical-Diastolic_BP:   6%|▌         | 11/186 [00:02<00:39,  4.46it/s]       "
     ]
    },
    {
     "name": "stdout",
     "output_type": "stream",
     "text": [
      "\n",
      "Processing physical column: Physical-Diastolic_BP\n"
     ]
    },
    {
     "name": "stderr",
     "output_type": "stream",
     "text": [
      "Processing physical: Physical-Systolic_BP:   6%|▋         | 12/186 [00:02<00:38,  4.57it/s] "
     ]
    },
    {
     "name": "stdout",
     "output_type": "stream",
     "text": [
      "\n",
      "Processing physical column: Physical-HeartRate\n"
     ]
    },
    {
     "name": "stderr",
     "output_type": "stream",
     "text": [
      "Processing physical: Physical-Systolic_BP:   7%|▋         | 13/186 [00:03<00:38,  4.48it/s]"
     ]
    },
    {
     "name": "stdout",
     "output_type": "stream",
     "text": [
      "\n",
      "Processing physical column: Physical-Systolic_BP\n"
     ]
    },
    {
     "name": "stderr",
     "output_type": "stream",
     "text": [
      "Processing physical: BMI_Internet_Hours:   8%|▊         | 14/186 [00:03<00:37,  4.59it/s]  "
     ]
    },
    {
     "name": "stdout",
     "output_type": "stream",
     "text": [
      "\n",
      "Processing physical column: BMI_Internet_Hours\n"
     ]
    },
    {
     "name": "stderr",
     "output_type": "stream",
     "text": [
      "Processing physical: BMR_Weight:   8%|▊         | 14/186 [00:03<00:37,  4.59it/s]        "
     ]
    },
    {
     "name": "stdout",
     "output_type": "stream",
     "text": [
      "\n",
      "Processing physical column: BMR_Weight\n"
     ]
    },
    {
     "name": "stderr",
     "output_type": "stream",
     "text": [
      "Processing physical: BIA-BIA_Frame_num:   9%|▊         | 16/186 [00:04<00:50,  3.35it/s]"
     ]
    },
    {
     "name": "stdout",
     "output_type": "stream",
     "text": [
      "\n",
      "Processing physical column: fitness_score\n",
      "\n",
      "Processing physical column: BIA-BIA_Frame_num\n"
     ]
    },
    {
     "name": "stderr",
     "output_type": "stream",
     "text": [
      "Processing physical: PreInt_EduHx-computerinternet_hoursday:  10%|▉         | 18/186 [00:04<00:41,  4.01it/s]"
     ]
    },
    {
     "name": "stdout",
     "output_type": "stream",
     "text": [
      "\n",
      "Processing physical column: BIA-BIA_BMI\n"
     ]
    },
    {
     "name": "stderr",
     "output_type": "stream",
     "text": [
      "Processing physical: PreInt_EduHx-computerinternet_hoursday:  10%|█         | 19/186 [00:04<00:39,  4.23it/s]"
     ]
    },
    {
     "name": "stdout",
     "output_type": "stream",
     "text": [
      "\n",
      "Processing physical column: PreInt_EduHx-computerinternet_hoursday\n"
     ]
    },
    {
     "name": "stderr",
     "output_type": "stream",
     "text": [
      "Processing physical: Muscle_to_Fat:  11%|█         | 20/186 [00:04<00:36,  4.50it/s]                         "
     ]
    },
    {
     "name": "stdout",
     "output_type": "stream",
     "text": [
      "\n",
      "Processing physical column: BIA_BMI_Internet_Hours_Age\n",
      "\n",
      "Processing physical column: Muscle_to_Fat\n"
     ]
    },
    {
     "name": "stderr",
     "output_type": "stream",
     "text": [
      "Processing physical: Hydration_Status:  12%|█▏        | 22/186 [00:06<01:09,  2.37it/s]"
     ]
    },
    {
     "name": "stdout",
     "output_type": "stream",
     "text": [
      "\n",
      "Processing physical column: Hydration_Status\n"
     ]
    },
    {
     "name": "stderr",
     "output_type": "stream",
     "text": [
      "Processing physical: Age_Weight:  12%|█▏        | 23/186 [00:06<00:57,  2.82it/s]      "
     ]
    },
    {
     "name": "stdout",
     "output_type": "stream",
     "text": [
      "\n",
      "Processing physical column: ICW_TBW\n"
     ]
    },
    {
     "name": "stderr",
     "output_type": "stream",
     "text": [
      "Processing physical: Age_Weight_BMI:  13%|█▎        | 24/186 [00:06<00:50,  3.20it/s]"
     ]
    },
    {
     "name": "stdout",
     "output_type": "stream",
     "text": [
      "\n",
      "Processing physical column: Age_Weight\n"
     ]
    },
    {
     "name": "stderr",
     "output_type": "stream",
     "text": [
      "Processing physical: Age_Weight_BMI:  13%|█▎        | 25/186 [00:06<00:45,  3.51it/s]"
     ]
    },
    {
     "name": "stdout",
     "output_type": "stream",
     "text": [
      "\n",
      "Processing physical column: Age_Weight_BMI\n"
     ]
    },
    {
     "name": "stderr",
     "output_type": "stream",
     "text": [
      "Processing physical: Sex_HeartRate:  14%|█▍        | 26/186 [00:07<00:41,  3.85it/s] "
     ]
    },
    {
     "name": "stdout",
     "output_type": "stream",
     "text": [
      "\n",
      "Processing physical column: Sex_BMI\n"
     ]
    },
    {
     "name": "stderr",
     "output_type": "stream",
     "text": [
      "Processing physical: sii:  15%|█▍        | 27/186 [00:07<00:38,  4.13it/s]          "
     ]
    },
    {
     "name": "stdout",
     "output_type": "stream",
     "text": [
      "\n",
      "Processing physical column: Sex_HeartRate\n"
     ]
    },
    {
     "name": "stderr",
     "output_type": "stream",
     "text": [
      "Processing fitness: Fitness_Endurance-Max_Stage:  15%|█▌        | 28/186 [00:07<00:36,  4.35it/s]"
     ]
    },
    {
     "name": "stdout",
     "output_type": "stream",
     "text": [
      "\n",
      "Processing physical column: sii\n"
     ]
    },
    {
     "name": "stderr",
     "output_type": "stream",
     "text": [
      "Processing fitness: Fitness_Endurance-Max_Stage:  16%|█▌        | 29/186 [00:07<00:34,  4.49it/s]"
     ]
    },
    {
     "name": "stdout",
     "output_type": "stream",
     "text": [
      "\n",
      "Processing fitness column: Fitness_Endurance-Max_Stage\n"
     ]
    },
    {
     "name": "stderr",
     "output_type": "stream",
     "text": [
      "Processing fitness: SMM_Height:  16%|█▌        | 30/186 [00:08<00:33,  4.66it/s]                 "
     ]
    },
    {
     "name": "stdout",
     "output_type": "stream",
     "text": [
      "\n",
      "Processing fitness column: Fitness_Endurance-Time_Mins\n",
      "\n",
      "Processing fitness column: SMM_Height\n"
     ]
    },
    {
     "name": "stderr",
     "output_type": "stream",
     "text": [
      "Processing fitness: FGC-FGC_SR:  17%|█▋        | 32/186 [00:09<00:57,  2.67it/s]     "
     ]
    },
    {
     "name": "stdout",
     "output_type": "stream",
     "text": [
      "\n",
      "Processing fitness column: FGC-FGC_CU_Zone\n"
     ]
    },
    {
     "name": "stderr",
     "output_type": "stream",
     "text": [
      "Processing fitness: FGC-FGC_PU_Zone:  18%|█▊        | 33/186 [00:09<00:48,  3.13it/s]"
     ]
    },
    {
     "name": "stdout",
     "output_type": "stream",
     "text": [
      "\n",
      "Processing fitness column: FGC-FGC_SR\n"
     ]
    },
    {
     "name": "stderr",
     "output_type": "stream",
     "text": [
      "Processing fitness: FGC-FGC_TL:  18%|█▊        | 34/186 [00:09<00:42,  3.55it/s]     "
     ]
    },
    {
     "name": "stdout",
     "output_type": "stream",
     "text": [
      "\n",
      "Processing fitness column: FGC-FGC_PU_Zone\n"
     ]
    },
    {
     "name": "stderr",
     "output_type": "stream",
     "text": [
      "Processing fitness: FGC-FGC_TL_Zone:  19%|█▉        | 35/186 [00:09<00:38,  3.93it/s]"
     ]
    },
    {
     "name": "stdout",
     "output_type": "stream",
     "text": [
      "\n",
      "Processing fitness column: FGC-FGC_TL\n"
     ]
    },
    {
     "name": "stderr",
     "output_type": "stream",
     "text": [
      "Processing fitness: FGC-FGC_GS:  19%|█▉        | 36/186 [00:09<00:35,  4.20it/s]     "
     ]
    },
    {
     "name": "stdout",
     "output_type": "stream",
     "text": [
      "\n",
      "Processing fitness column: FGC-FGC_TL_Zone\n"
     ]
    },
    {
     "name": "stderr",
     "output_type": "stream",
     "text": [
      "Processing fitness: fitness_score:  20%|█▉        | 37/186 [00:10<00:33,  4.46it/s]"
     ]
    },
    {
     "name": "stdout",
     "output_type": "stream",
     "text": [
      "\n",
      "Processing fitness column: FGC-FGC_GS\n"
     ]
    },
    {
     "name": "stderr",
     "output_type": "stream",
     "text": [
      "Processing fitness: BIA-BIA_BMI:  20%|██        | 38/186 [00:10<00:31,  4.67it/s]  "
     ]
    },
    {
     "name": "stdout",
     "output_type": "stream",
     "text": [
      "\n",
      "Processing fitness column: fitness_score\n"
     ]
    },
    {
     "name": "stderr",
     "output_type": "stream",
     "text": [
      "Processing fitness: BIA-BIA_BMI:  21%|██        | 39/186 [00:10<00:31,  4.72it/s]"
     ]
    },
    {
     "name": "stdout",
     "output_type": "stream",
     "text": [
      "\n",
      "Processing fitness column: BIA-BIA_BMI\n"
     ]
    },
    {
     "name": "stderr",
     "output_type": "stream",
     "text": [
      "Processing fitness: Physical-BMI:  22%|██▏       | 40/186 [00:10<00:31,  4.62it/s]"
     ]
    },
    {
     "name": "stdout",
     "output_type": "stream",
     "text": [
      "\n",
      "Processing fitness column: Physical-BMI\n"
     ]
    },
    {
     "name": "stderr",
     "output_type": "stream",
     "text": [
      "Processing fitness: LST_TBW:  22%|██▏       | 41/186 [00:10<00:30,  4.70it/s]     "
     ]
    },
    {
     "name": "stdout",
     "output_type": "stream",
     "text": [
      "\n",
      "Processing fitness column: FMI_BFP\n"
     ]
    },
    {
     "name": "stderr",
     "output_type": "stream",
     "text": [
      "Processing fitness: LST_TBW:  23%|██▎       | 42/186 [00:11<00:31,  4.59it/s]"
     ]
    },
    {
     "name": "stdout",
     "output_type": "stream",
     "text": [
      "\n",
      "Processing fitness column: LST_TBW\n"
     ]
    },
    {
     "name": "stderr",
     "output_type": "stream",
     "text": [
      "Processing fitness: SMM_Height:  23%|██▎       | 42/186 [00:11<00:31,  4.59it/s]"
     ]
    },
    {
     "name": "stdout",
     "output_type": "stream",
     "text": [
      "\n",
      "Processing fitness column: SMM_Height\n"
     ]
    },
    {
     "name": "stderr",
     "output_type": "stream",
     "text": [
      "Processing fitness: PreInt_EduHx-computerinternet_hoursday:  24%|██▎       | 44/186 [00:12<00:53,  2.64it/s]"
     ]
    },
    {
     "name": "stdout",
     "output_type": "stream",
     "text": [
      "\n",
      "Processing fitness column: BIA-BIA_Frame_num\n"
     ]
    },
    {
     "name": "stderr",
     "output_type": "stream",
     "text": [
      "Processing fitness: FFMI_BFP:  24%|██▍       | 45/186 [00:12<00:46,  3.06it/s]                              "
     ]
    },
    {
     "name": "stdout",
     "output_type": "stream",
     "text": [
      "\n",
      "Processing fitness column: PreInt_EduHx-computerinternet_hoursday\n",
      "\n",
      "Processing fitness column: FFMI_BFP\n"
     ]
    },
    {
     "name": "stderr",
     "output_type": "stream",
     "text": [
      "Processing fitness: BFP_DEE:  25%|██▍       | 46/186 [00:13<00:56,  2.49it/s] "
     ]
    },
    {
     "name": "stdout",
     "output_type": "stream",
     "text": [
      "\n",
      "Processing fitness column: BFP_DEE\n"
     ]
    },
    {
     "name": "stderr",
     "output_type": "stream",
     "text": [
      "Processing fitness: BMR_Weight:  25%|██▌       | 47/186 [01:02<35:08, 15.17s/it]"
     ]
    },
    {
     "name": "stdout",
     "output_type": "stream",
     "text": [
      "\n",
      "Processing fitness column: BMR_Weight\n"
     ]
    },
    {
     "name": "stderr",
     "output_type": "stream",
     "text": [
      "Processing fitness: Muscle_to_Fat:  26%|██▌       | 48/186 [01:03<24:54, 10.83s/it]"
     ]
    },
    {
     "name": "stdout",
     "output_type": "stream",
     "text": [
      "\n",
      "Processing fitness column: Muscle_to_Fat\n"
     ]
    },
    {
     "name": "stderr",
     "output_type": "stream",
     "text": [
      "Processing fitness: Hydration_Status:  27%|██▋       | 50/186 [01:04<12:38,  5.58s/it]"
     ]
    },
    {
     "name": "stdout",
     "output_type": "stream",
     "text": [
      "\n",
      "Processing fitness column: Hydration_Status\n"
     ]
    },
    {
     "name": "stderr",
     "output_type": "stream",
     "text": [
      "Processing fitness: Age_Weight_BMI:  27%|██▋       | 51/186 [01:04<08:55,  3.96s/it]  "
     ]
    },
    {
     "name": "stdout",
     "output_type": "stream",
     "text": [
      "\n",
      "Processing fitness column: ICW_TBW\n"
     ]
    },
    {
     "name": "stderr",
     "output_type": "stream",
     "text": [
      "Processing fitness: Age_Weight_BMI:  28%|██▊       | 52/186 [01:05<06:21,  2.84s/it]"
     ]
    },
    {
     "name": "stdout",
     "output_type": "stream",
     "text": [
      "\n",
      "Processing fitness column: Age_Weight_BMI\n"
     ]
    },
    {
     "name": "stderr",
     "output_type": "stream",
     "text": [
      "Processing fitness: sii:  28%|██▊       | 53/186 [01:05<04:32,  2.05s/it]           "
     ]
    },
    {
     "name": "stdout",
     "output_type": "stream",
     "text": [
      "\n",
      "Processing fitness column: Sex_HeartRate\n"
     ]
    },
    {
     "name": "stderr",
     "output_type": "stream",
     "text": [
      "Processing fitness: sii:  29%|██▉       | 54/186 [01:05<03:17,  1.50s/it]"
     ]
    },
    {
     "name": "stdout",
     "output_type": "stream",
     "text": [
      "\n",
      "Processing fitness column: sii\n"
     ]
    },
    {
     "name": "stderr",
     "output_type": "stream",
     "text": [
      "Processing bia: BIA-BIA_Frame_num:  30%|██▉       | 55/186 [01:05<02:25,  1.11s/it]         "
     ]
    },
    {
     "name": "stdout",
     "output_type": "stream",
     "text": [
      "\n",
      "Processing bia column: BIA-BIA_Activity_Level_num\n"
     ]
    },
    {
     "name": "stderr",
     "output_type": "stream",
     "text": [
      "Processing bia: BIA-BIA_Frame_num:  30%|███       | 56/186 [01:05<01:48,  1.20it/s]"
     ]
    },
    {
     "name": "stdout",
     "output_type": "stream",
     "text": [
      "\n",
      "Processing bia column: BIA-BIA_Frame_num\n"
     ]
    },
    {
     "name": "stderr",
     "output_type": "stream",
     "text": [
      "Processing bia: DEE_Weight:  30%|███       | 56/186 [01:05<01:48,  1.20it/s]       "
     ]
    },
    {
     "name": "stdout",
     "output_type": "stream",
     "text": [
      "\n",
      "Processing bia column: DEE_Weight\n"
     ]
    },
    {
     "name": "stderr",
     "output_type": "stream",
     "text": [
      "Processing bia: SMM_Height:  31%|███       | 57/186 [01:06<01:38,  1.31it/s]"
     ]
    },
    {
     "name": "stdout",
     "output_type": "stream",
     "text": [
      "\n",
      "Processing bia column: SMM_Height\n"
     ]
    },
    {
     "name": "stderr",
     "output_type": "stream",
     "text": [
      "Processing bia: BIA-BIA_BMI:  32%|███▏      | 59/186 [01:07<01:19,  1.60it/s]"
     ]
    },
    {
     "name": "stdout",
     "output_type": "stream",
     "text": [
      "\n",
      "Processing bia column: BIA-BIA_BMI\n"
     ]
    },
    {
     "name": "stderr",
     "output_type": "stream",
     "text": [
      "Processing bia: Physical-BMI:  32%|███▏      | 60/186 [01:07<01:02,  2.02it/s] "
     ]
    },
    {
     "name": "stdout",
     "output_type": "stream",
     "text": [
      "\n",
      "Processing bia column: fitness_score\n"
     ]
    },
    {
     "name": "stderr",
     "output_type": "stream",
     "text": [
      "Processing bia: Physical-BMI:  33%|███▎      | 61/186 [01:07<00:51,  2.42it/s]"
     ]
    },
    {
     "name": "stdout",
     "output_type": "stream",
     "text": [
      "\n",
      "Processing bia column: Physical-BMI\n"
     ]
    },
    {
     "name": "stderr",
     "output_type": "stream",
     "text": [
      "Processing bia: PreInt_EduHx-computerinternet_hoursday:  33%|███▎      | 62/186 [01:08<00:43,  2.85it/s]"
     ]
    },
    {
     "name": "stdout",
     "output_type": "stream",
     "text": [
      "\n",
      "Processing bia column: PreInt_EduHx-computerinternet_hoursday\n"
     ]
    },
    {
     "name": "stderr",
     "output_type": "stream",
     "text": [
      "Processing bia: BMR_BMI:  33%|███▎      | 62/186 [01:08<00:43,  2.85it/s]                               "
     ]
    },
    {
     "name": "stdout",
     "output_type": "stream",
     "text": [
      "\n",
      "Processing bia column: BMR_BMI\n"
     ]
    },
    {
     "name": "stderr",
     "output_type": "stream",
     "text": [
      "Processing bia: DEE_BMI:  34%|███▍      | 63/186 [01:09<01:08,  1.79it/s]"
     ]
    },
    {
     "name": "stdout",
     "output_type": "stream",
     "text": [
      "\n",
      "Processing bia column: DEE_BMI\n"
     ]
    },
    {
     "name": "stderr",
     "output_type": "stream",
     "text": [
      "Processing bia: SMM_BMI:  34%|███▍      | 64/186 [01:10<01:14,  1.65it/s]"
     ]
    },
    {
     "name": "stdout",
     "output_type": "stream",
     "text": [
      "\n",
      "Processing bia column: SMM_BMI\n"
     ]
    },
    {
     "name": "stderr",
     "output_type": "stream",
     "text": [
      "Processing bia: sii:  35%|███▌      | 66/186 [01:11<01:06,  1.79it/s]    "
     ]
    },
    {
     "name": "stdout",
     "output_type": "stream",
     "text": [
      "\n",
      "Processing bia column: ICW_TBW\n"
     ]
    },
    {
     "name": "stderr",
     "output_type": "stream",
     "text": [
      "Processing child_info: PreInt_EduHx-computerinternet_hoursday:  36%|███▌      | 67/186 [01:11<00:53,  2.21it/s]"
     ]
    },
    {
     "name": "stdout",
     "output_type": "stream",
     "text": [
      "\n",
      "Processing bia column: sii\n"
     ]
    },
    {
     "name": "stderr",
     "output_type": "stream",
     "text": [
      "Processing child_info: PreInt_EduHx-computerinternet_hoursday:  37%|███▋      | 68/186 [01:11<00:44,  2.63it/s]"
     ]
    },
    {
     "name": "stdout",
     "output_type": "stream",
     "text": [
      "\n",
      "Processing child_info column: PreInt_EduHx-computerinternet_hoursday\n"
     ]
    },
    {
     "name": "stderr",
     "output_type": "stream",
     "text": [
      "Processing child_info: PAQ_C-PAQ_C_Total:  37%|███▋      | 69/186 [01:11<00:38,  3.06it/s]                     "
     ]
    },
    {
     "name": "stdout",
     "output_type": "stream",
     "text": [
      "\n",
      "Processing child_info column: PAQ_A-PAQ_A_Total\n"
     ]
    },
    {
     "name": "stderr",
     "output_type": "stream",
     "text": [
      "Processing child_info: PAQ_C-PAQ_C_Total:  38%|███▊      | 70/186 [01:11<00:33,  3.44it/s]"
     ]
    },
    {
     "name": "stdout",
     "output_type": "stream",
     "text": [
      "\n",
      "Processing child_info column: PAQ_C-PAQ_C_Total\n"
     ]
    },
    {
     "name": "stderr",
     "output_type": "stream",
     "text": [
      "Processing child_info: PCIAT-PCIAT_01:  38%|███▊      | 71/186 [01:12<00:30,  3.80it/s]   "
     ]
    },
    {
     "name": "stdout",
     "output_type": "stream",
     "text": [
      "\n",
      "Processing child_info column: PAQ_Total\n"
     ]
    },
    {
     "name": "stderr",
     "output_type": "stream",
     "text": [
      "Processing child_info: PCIAT-PCIAT_02:  39%|███▊      | 72/186 [01:12<00:27,  4.10it/s]"
     ]
    },
    {
     "name": "stdout",
     "output_type": "stream",
     "text": [
      "\n",
      "Processing child_info column: PCIAT-PCIAT_01\n"
     ]
    },
    {
     "name": "stderr",
     "output_type": "stream",
     "text": [
      "Processing child_info: PCIAT-PCIAT_03:  39%|███▉      | 73/186 [01:12<00:26,  4.33it/s]"
     ]
    },
    {
     "name": "stdout",
     "output_type": "stream",
     "text": [
      "\n",
      "Processing child_info column: PCIAT-PCIAT_02\n"
     ]
    },
    {
     "name": "stderr",
     "output_type": "stream",
     "text": [
      "Processing child_info: PCIAT-PCIAT_03:  40%|███▉      | 74/186 [01:12<00:24,  4.51it/s]"
     ]
    },
    {
     "name": "stdout",
     "output_type": "stream",
     "text": [
      "\n",
      "Processing child_info column: PCIAT-PCIAT_03\n"
     ]
    },
    {
     "name": "stderr",
     "output_type": "stream",
     "text": [
      "Processing child_info: PCIAT-PCIAT_05:  40%|████      | 75/186 [01:13<00:24,  4.61it/s]"
     ]
    },
    {
     "name": "stdout",
     "output_type": "stream",
     "text": [
      "\n",
      "Processing child_info column: PCIAT-PCIAT_04\n"
     ]
    },
    {
     "name": "stderr",
     "output_type": "stream",
     "text": [
      "Processing child_info: PCIAT-PCIAT_06:  41%|████      | 76/186 [01:13<00:23,  4.74it/s]"
     ]
    },
    {
     "name": "stdout",
     "output_type": "stream",
     "text": [
      "\n",
      "Processing child_info column: PCIAT-PCIAT_05\n"
     ]
    },
    {
     "name": "stderr",
     "output_type": "stream",
     "text": [
      "Processing child_info: PCIAT-PCIAT_07:  41%|████▏     | 77/186 [01:13<00:22,  4.84it/s]"
     ]
    },
    {
     "name": "stdout",
     "output_type": "stream",
     "text": [
      "\n",
      "Processing child_info column: PCIAT-PCIAT_06\n"
     ]
    },
    {
     "name": "stderr",
     "output_type": "stream",
     "text": [
      "Processing child_info: PCIAT-PCIAT_08:  42%|████▏     | 78/186 [01:13<00:22,  4.86it/s]"
     ]
    },
    {
     "name": "stdout",
     "output_type": "stream",
     "text": [
      "\n",
      "Processing child_info column: PCIAT-PCIAT_07\n"
     ]
    },
    {
     "name": "stderr",
     "output_type": "stream",
     "text": [
      "Processing child_info: PCIAT-PCIAT_09:  42%|████▏     | 79/186 [01:13<00:21,  4.92it/s]"
     ]
    },
    {
     "name": "stdout",
     "output_type": "stream",
     "text": [
      "\n",
      "Processing child_info column: PCIAT-PCIAT_08\n"
     ]
    },
    {
     "name": "stderr",
     "output_type": "stream",
     "text": [
      "Processing child_info: PCIAT-PCIAT_10:  43%|████▎     | 80/186 [01:14<00:21,  4.99it/s]"
     ]
    },
    {
     "name": "stdout",
     "output_type": "stream",
     "text": [
      "\n",
      "Processing child_info column: PCIAT-PCIAT_09\n"
     ]
    },
    {
     "name": "stderr",
     "output_type": "stream",
     "text": [
      "Processing child_info: PCIAT-PCIAT_11:  44%|████▎     | 81/186 [01:14<00:20,  5.01it/s]"
     ]
    },
    {
     "name": "stdout",
     "output_type": "stream",
     "text": [
      "\n",
      "Processing child_info column: PCIAT-PCIAT_10\n"
     ]
    },
    {
     "name": "stderr",
     "output_type": "stream",
     "text": [
      "Processing child_info: PCIAT-PCIAT_12:  44%|████▍     | 82/186 [01:14<00:20,  5.06it/s]"
     ]
    },
    {
     "name": "stdout",
     "output_type": "stream",
     "text": [
      "\n",
      "Processing child_info column: PCIAT-PCIAT_11\n"
     ]
    },
    {
     "name": "stderr",
     "output_type": "stream",
     "text": [
      "Processing child_info: PCIAT-PCIAT_13:  45%|████▍     | 83/186 [01:14<00:20,  5.03it/s]"
     ]
    },
    {
     "name": "stdout",
     "output_type": "stream",
     "text": [
      "\n",
      "Processing child_info column: PCIAT-PCIAT_12\n"
     ]
    },
    {
     "name": "stderr",
     "output_type": "stream",
     "text": [
      "Processing child_info: PCIAT-PCIAT_14:  45%|████▌     | 84/186 [01:14<00:20,  5.08it/s]"
     ]
    },
    {
     "name": "stdout",
     "output_type": "stream",
     "text": [
      "\n",
      "Processing child_info column: PCIAT-PCIAT_13\n"
     ]
    },
    {
     "name": "stderr",
     "output_type": "stream",
     "text": [
      "Processing child_info: PCIAT-PCIAT_15:  46%|████▌     | 85/186 [01:15<00:20,  5.04it/s]"
     ]
    },
    {
     "name": "stdout",
     "output_type": "stream",
     "text": [
      "\n",
      "Processing child_info column: PCIAT-PCIAT_14\n"
     ]
    },
    {
     "name": "stderr",
     "output_type": "stream",
     "text": [
      "Processing child_info: PCIAT-PCIAT_16:  46%|████▌     | 86/186 [01:15<00:19,  5.08it/s]"
     ]
    },
    {
     "name": "stdout",
     "output_type": "stream",
     "text": [
      "\n",
      "Processing child_info column: PCIAT-PCIAT_15\n"
     ]
    },
    {
     "name": "stderr",
     "output_type": "stream",
     "text": [
      "Processing child_info: PCIAT-PCIAT_17:  47%|████▋     | 87/186 [01:15<00:19,  5.14it/s]"
     ]
    },
    {
     "name": "stdout",
     "output_type": "stream",
     "text": [
      "\n",
      "Processing child_info column: PCIAT-PCIAT_16\n"
     ]
    },
    {
     "name": "stderr",
     "output_type": "stream",
     "text": [
      "Processing child_info: PCIAT-PCIAT_17:  47%|████▋     | 88/186 [01:15<00:19,  5.00it/s]"
     ]
    },
    {
     "name": "stdout",
     "output_type": "stream",
     "text": [
      "\n",
      "Processing child_info column: PCIAT-PCIAT_17\n"
     ]
    },
    {
     "name": "stderr",
     "output_type": "stream",
     "text": [
      "Processing child_info: PCIAT-PCIAT_19:  48%|████▊     | 89/186 [01:15<00:19,  5.03it/s]"
     ]
    },
    {
     "name": "stdout",
     "output_type": "stream",
     "text": [
      "\n",
      "Processing child_info column: PCIAT-PCIAT_18\n"
     ]
    },
    {
     "name": "stderr",
     "output_type": "stream",
     "text": [
      "Processing child_info: PCIAT-PCIAT_19:  48%|████▊     | 90/186 [01:15<00:18,  5.05it/s]"
     ]
    },
    {
     "name": "stdout",
     "output_type": "stream",
     "text": [
      "\n",
      "Processing child_info column: PCIAT-PCIAT_19\n"
     ]
    },
    {
     "name": "stderr",
     "output_type": "stream",
     "text": [
      "Processing child_info: PCIAT-PCIAT_Total:  49%|████▉     | 91/186 [01:16<00:18,  5.06it/s]"
     ]
    },
    {
     "name": "stdout",
     "output_type": "stream",
     "text": [
      "\n",
      "Processing child_info column: PCIAT-PCIAT_20\n"
     ]
    },
    {
     "name": "stderr",
     "output_type": "stream",
     "text": [
      "Processing child_info: SDS-SDS_Total_Raw:  49%|████▉     | 92/186 [01:16<00:18,  5.09it/s]"
     ]
    },
    {
     "name": "stdout",
     "output_type": "stream",
     "text": [
      "\n",
      "Processing child_info column: PCIAT-PCIAT_Total\n"
     ]
    },
    {
     "name": "stderr",
     "output_type": "stream",
     "text": [
      "Processing child_info: SDS-SDS_Total_Raw:  50%|█████     | 93/186 [01:16<00:19,  4.73it/s]"
     ]
    },
    {
     "name": "stdout",
     "output_type": "stream",
     "text": [
      "\n",
      "Processing child_info column: SDS-SDS_Total_Raw\n"
     ]
    },
    {
     "name": "stderr",
     "output_type": "stream",
     "text": [
      "Processing child_info: SDS-SDS_Total_T:  51%|█████     | 94/186 [01:16<00:19,  4.70it/s]  "
     ]
    },
    {
     "name": "stdout",
     "output_type": "stream",
     "text": [
      "\n",
      "Processing child_info column: SDS-SDS_Total_T\n"
     ]
    },
    {
     "name": "stderr",
     "output_type": "stream",
     "text": [
      "Processing child_info: BIA-BIA_BMI:  51%|█████     | 95/186 [01:17<00:19,  4.76it/s]                           "
     ]
    },
    {
     "name": "stdout",
     "output_type": "stream",
     "text": [
      "\n",
      "Processing child_info column: PreInt_EduHx-computerinternet_hoursday\n"
     ]
    },
    {
     "name": "stderr",
     "output_type": "stream",
     "text": [
      "Processing child_info: fitness_score:  52%|█████▏    | 96/186 [01:17<00:18,  4.79it/s]"
     ]
    },
    {
     "name": "stdout",
     "output_type": "stream",
     "text": [
      "\n",
      "Processing child_info column: BIA-BIA_BMI\n"
     ]
    },
    {
     "name": "stderr",
     "output_type": "stream",
     "text": [
      "Processing child_info: Physical-BMI:  52%|█████▏    | 97/186 [01:17<00:17,  4.95it/s] "
     ]
    },
    {
     "name": "stdout",
     "output_type": "stream",
     "text": [
      "\n",
      "Processing child_info column: fitness_score\n"
     ]
    },
    {
     "name": "stderr",
     "output_type": "stream",
     "text": [
      "Processing child_info: Physical-BMI:  53%|█████▎    | 98/186 [01:17<00:18,  4.75it/s]"
     ]
    },
    {
     "name": "stdout",
     "output_type": "stream",
     "text": [
      "\n",
      "Processing child_info column: Physical-BMI\n"
     ]
    },
    {
     "name": "stderr",
     "output_type": "stream",
     "text": [
      "Processing child_info: Sex_BMI:  53%|█████▎    | 99/186 [01:17<00:17,  4.85it/s]     "
     ]
    },
    {
     "name": "stdout",
     "output_type": "stream",
     "text": [
      "\n",
      "Processing child_info column: Sex_BMI\n"
     ]
    },
    {
     "name": "stderr",
     "output_type": "stream",
     "text": [
      "Processing child_info: sii:  54%|█████▍    | 100/186 [01:17<00:17,  4.87it/s]   "
     ]
    },
    {
     "name": "stdout",
     "output_type": "stream",
     "text": [
      "\n",
      "Processing child_info column: sii\n"
     ]
    },
    {
     "name": "stderr",
     "output_type": "stream",
     "text": [
      "Processing actigraphy: stat_13:  54%|█████▍    | 101/186 [01:18<00:17,  5.00it/s]"
     ]
    },
    {
     "name": "stdout",
     "output_type": "stream",
     "text": [
      "\n",
      "Processing actigraphy column: stat_12\n"
     ]
    },
    {
     "name": "stderr",
     "output_type": "stream",
     "text": [
      "Processing actigraphy: stat_13:  55%|█████▍    | 102/186 [01:18<00:17,  4.88it/s]"
     ]
    },
    {
     "name": "stdout",
     "output_type": "stream",
     "text": [
      "\n",
      "Processing actigraphy column: stat_13\n"
     ]
    },
    {
     "name": "stderr",
     "output_type": "stream",
     "text": [
      "Processing actigraphy: stat_14:  55%|█████▌    | 103/186 [01:18<00:17,  4.87it/s]"
     ]
    },
    {
     "name": "stdout",
     "output_type": "stream",
     "text": [
      "\n",
      "Processing actigraphy column: stat_14\n"
     ]
    },
    {
     "name": "stderr",
     "output_type": "stream",
     "text": [
      "Processing actigraphy: stat_16:  56%|█████▌    | 104/186 [01:18<00:16,  4.95it/s]"
     ]
    },
    {
     "name": "stdout",
     "output_type": "stream",
     "text": [
      "\n",
      "Processing actigraphy column: stat_15\n"
     ]
    },
    {
     "name": "stderr",
     "output_type": "stream",
     "text": [
      "Processing actigraphy: stat_17:  56%|█████▋    | 105/186 [01:19<00:16,  4.98it/s]"
     ]
    },
    {
     "name": "stdout",
     "output_type": "stream",
     "text": [
      "\n",
      "Processing actigraphy column: stat_16\n"
     ]
    },
    {
     "name": "stderr",
     "output_type": "stream",
     "text": [
      "Processing actigraphy: stat_18:  57%|█████▋    | 106/186 [01:19<00:15,  5.10it/s]"
     ]
    },
    {
     "name": "stdout",
     "output_type": "stream",
     "text": [
      "\n",
      "Processing actigraphy column: stat_17\n",
      "\n",
      "Processing actigraphy column: stat_18\n"
     ]
    },
    {
     "name": "stderr",
     "output_type": "stream",
     "text": [
      "Processing actigraphy: stat_20:  58%|█████▊    | 108/186 [01:19<00:15,  5.06it/s]"
     ]
    },
    {
     "name": "stdout",
     "output_type": "stream",
     "text": [
      "\n",
      "Processing actigraphy column: stat_19\n"
     ]
    },
    {
     "name": "stderr",
     "output_type": "stream",
     "text": [
      "Processing actigraphy: stat_21:  59%|█████▊    | 109/186 [01:19<00:15,  5.08it/s]"
     ]
    },
    {
     "name": "stdout",
     "output_type": "stream",
     "text": [
      "\n",
      "Processing actigraphy column: stat_20\n"
     ]
    },
    {
     "name": "stderr",
     "output_type": "stream",
     "text": [
      "Processing actigraphy: stat_21:  59%|█████▉    | 110/186 [01:19<00:15,  4.89it/s]"
     ]
    },
    {
     "name": "stdout",
     "output_type": "stream",
     "text": [
      "\n",
      "Processing actigraphy column: stat_21\n"
     ]
    },
    {
     "name": "stderr",
     "output_type": "stream",
     "text": [
      "Processing actigraphy: stat_23_boxcox:  60%|█████▉    | 111/186 [01:20<00:14,  5.06it/s]"
     ]
    },
    {
     "name": "stdout",
     "output_type": "stream",
     "text": [
      "\n",
      "Processing actigraphy column: stat_22\n",
      "\n",
      "Processing actigraphy column: stat_23_boxcox\n"
     ]
    },
    {
     "name": "stderr",
     "output_type": "stream",
     "text": [
      "Processing actigraphy: stat_25:  61%|██████    | 113/186 [01:20<00:14,  5.04it/s]       "
     ]
    },
    {
     "name": "stdout",
     "output_type": "stream",
     "text": [
      "\n",
      "Processing actigraphy column: stat_24\n"
     ]
    },
    {
     "name": "stderr",
     "output_type": "stream",
     "text": [
      "Processing actigraphy: stat_26:  61%|██████▏   | 114/186 [01:20<00:14,  5.01it/s]"
     ]
    },
    {
     "name": "stdout",
     "output_type": "stream",
     "text": [
      "\n",
      "Processing actigraphy column: stat_25\n"
     ]
    },
    {
     "name": "stderr",
     "output_type": "stream",
     "text": [
      "Processing actigraphy: stat_27:  62%|██████▏   | 115/186 [01:21<00:13,  5.08it/s]"
     ]
    },
    {
     "name": "stdout",
     "output_type": "stream",
     "text": [
      "\n",
      "Processing actigraphy column: stat_26\n"
     ]
    },
    {
     "name": "stderr",
     "output_type": "stream",
     "text": [
      "Processing actigraphy: stat_28:  62%|██████▏   | 116/186 [01:21<00:13,  5.10it/s]"
     ]
    },
    {
     "name": "stdout",
     "output_type": "stream",
     "text": [
      "\n",
      "Processing actigraphy column: stat_27\n"
     ]
    },
    {
     "name": "stderr",
     "output_type": "stream",
     "text": [
      "Processing actigraphy: stat_29:  63%|██████▎   | 117/186 [01:21<00:13,  5.13it/s]"
     ]
    },
    {
     "name": "stdout",
     "output_type": "stream",
     "text": [
      "\n",
      "Processing actigraphy column: stat_28\n"
     ]
    },
    {
     "name": "stderr",
     "output_type": "stream",
     "text": [
      "Processing actigraphy: stat_30:  63%|██████▎   | 118/186 [01:21<00:13,  5.17it/s]"
     ]
    },
    {
     "name": "stdout",
     "output_type": "stream",
     "text": [
      "\n",
      "Processing actigraphy column: stat_29\n"
     ]
    },
    {
     "name": "stderr",
     "output_type": "stream",
     "text": [
      "Processing actigraphy: stat_31:  64%|██████▍   | 119/186 [01:21<00:12,  5.16it/s]"
     ]
    },
    {
     "name": "stdout",
     "output_type": "stream",
     "text": [
      "\n",
      "Processing actigraphy column: stat_30\n"
     ]
    },
    {
     "name": "stderr",
     "output_type": "stream",
     "text": [
      "Processing actigraphy: stat_32:  65%|██████▍   | 120/186 [01:22<00:12,  5.18it/s]"
     ]
    },
    {
     "name": "stdout",
     "output_type": "stream",
     "text": [
      "\n",
      "Processing actigraphy column: stat_31\n"
     ]
    },
    {
     "name": "stderr",
     "output_type": "stream",
     "text": [
      "Processing actigraphy: stat_33:  65%|██████▌   | 121/186 [01:22<00:12,  5.23it/s]"
     ]
    },
    {
     "name": "stdout",
     "output_type": "stream",
     "text": [
      "\n",
      "Processing actigraphy column: stat_32\n",
      "\n",
      "Processing actigraphy column: stat_33\n"
     ]
    },
    {
     "name": "stderr",
     "output_type": "stream",
     "text": [
      "Processing actigraphy: stat_35_boxcox:  66%|██████▌   | 123/186 [01:22<00:12,  4.99it/s]"
     ]
    },
    {
     "name": "stdout",
     "output_type": "stream",
     "text": [
      "\n",
      "Processing actigraphy column: stat_34\n"
     ]
    },
    {
     "name": "stderr",
     "output_type": "stream",
     "text": [
      "Processing actigraphy: stat_35_boxcox:  67%|██████▋   | 124/186 [01:22<00:13,  4.62it/s]"
     ]
    },
    {
     "name": "stdout",
     "output_type": "stream",
     "text": [
      "\n",
      "Processing actigraphy column: stat_35_boxcox\n"
     ]
    },
    {
     "name": "stderr",
     "output_type": "stream",
     "text": [
      "Processing actigraphy: stat_37:  67%|██████▋   | 125/186 [01:23<00:12,  4.73it/s]       "
     ]
    },
    {
     "name": "stdout",
     "output_type": "stream",
     "text": [
      "\n",
      "Processing actigraphy column: stat_36\n"
     ]
    },
    {
     "name": "stderr",
     "output_type": "stream",
     "text": [
      "Processing actigraphy: stat_38_boxcox:  68%|██████▊   | 126/186 [01:23<00:12,  4.87it/s]"
     ]
    },
    {
     "name": "stdout",
     "output_type": "stream",
     "text": [
      "\n",
      "Processing actigraphy column: stat_37\n"
     ]
    },
    {
     "name": "stderr",
     "output_type": "stream",
     "text": [
      "Processing actigraphy: stat_40_boxcox:  68%|██████▊   | 127/186 [01:23<00:12,  4.89it/s]"
     ]
    },
    {
     "name": "stdout",
     "output_type": "stream",
     "text": [
      "\n",
      "Processing actigraphy column: stat_38_boxcox\n"
     ]
    },
    {
     "name": "stderr",
     "output_type": "stream",
     "text": [
      "Processing actigraphy: stat_43:  69%|██████▉   | 128/186 [01:23<00:12,  4.82it/s]       "
     ]
    },
    {
     "name": "stdout",
     "output_type": "stream",
     "text": [
      "\n",
      "Processing actigraphy column: stat_40_boxcox\n"
     ]
    },
    {
     "name": "stderr",
     "output_type": "stream",
     "text": [
      "Processing actigraphy: stat_44:  69%|██████▉   | 129/186 [01:23<00:11,  4.96it/s]"
     ]
    },
    {
     "name": "stdout",
     "output_type": "stream",
     "text": [
      "\n",
      "Processing actigraphy column: stat_43\n"
     ]
    },
    {
     "name": "stderr",
     "output_type": "stream",
     "text": [
      "Processing actigraphy: stat_45:  70%|██████▉   | 130/186 [01:24<00:10,  5.12it/s]"
     ]
    },
    {
     "name": "stdout",
     "output_type": "stream",
     "text": [
      "\n",
      "Processing actigraphy column: stat_44\n",
      "\n",
      "Processing actigraphy column: stat_45\n"
     ]
    },
    {
     "name": "stderr",
     "output_type": "stream",
     "text": [
      "Processing actigraphy: stat_47_boxcox:  71%|███████   | 132/186 [01:24<00:10,  5.25it/s]"
     ]
    },
    {
     "name": "stdout",
     "output_type": "stream",
     "text": [
      "\n",
      "Processing actigraphy column: stat_46\n"
     ]
    },
    {
     "name": "stderr",
     "output_type": "stream",
     "text": [
      "Processing actigraphy: stat_48:  72%|███████▏  | 133/186 [01:24<00:10,  5.05it/s]       "
     ]
    },
    {
     "name": "stdout",
     "output_type": "stream",
     "text": [
      "\n",
      "Processing actigraphy column: stat_47_boxcox\n"
     ]
    },
    {
     "name": "stderr",
     "output_type": "stream",
     "text": [
      "Processing actigraphy: stat_49:  72%|███████▏  | 134/186 [01:24<00:10,  5.06it/s]"
     ]
    },
    {
     "name": "stdout",
     "output_type": "stream",
     "text": [
      "\n",
      "Processing actigraphy column: stat_48\n"
     ]
    },
    {
     "name": "stderr",
     "output_type": "stream",
     "text": [
      "Processing actigraphy: stat_50:  73%|███████▎  | 135/186 [01:25<00:10,  5.00it/s]"
     ]
    },
    {
     "name": "stdout",
     "output_type": "stream",
     "text": [
      "\n",
      "Processing actigraphy column: stat_49\n"
     ]
    },
    {
     "name": "stderr",
     "output_type": "stream",
     "text": [
      "Processing actigraphy: stat_51:  73%|███████▎  | 136/186 [01:25<00:09,  5.06it/s]"
     ]
    },
    {
     "name": "stdout",
     "output_type": "stream",
     "text": [
      "\n",
      "Processing actigraphy column: stat_50\n"
     ]
    },
    {
     "name": "stderr",
     "output_type": "stream",
     "text": [
      "Processing actigraphy: stat_52:  74%|███████▎  | 137/186 [01:25<00:09,  5.13it/s]"
     ]
    },
    {
     "name": "stdout",
     "output_type": "stream",
     "text": [
      "\n",
      "Processing actigraphy column: stat_51\n"
     ]
    },
    {
     "name": "stderr",
     "output_type": "stream",
     "text": [
      "Processing actigraphy: stat_53:  74%|███████▍  | 138/186 [01:25<00:09,  5.13it/s]"
     ]
    },
    {
     "name": "stdout",
     "output_type": "stream",
     "text": [
      "\n",
      "Processing actigraphy column: stat_52\n"
     ]
    },
    {
     "name": "stderr",
     "output_type": "stream",
     "text": [
      "Processing actigraphy: stat_54_boxcox:  75%|███████▍  | 139/186 [01:25<00:08,  5.28it/s]"
     ]
    },
    {
     "name": "stdout",
     "output_type": "stream",
     "text": [
      "\n",
      "Processing actigraphy column: stat_53\n"
     ]
    },
    {
     "name": "stderr",
     "output_type": "stream",
     "text": [
      "Processing actigraphy: stat_55:  75%|███████▌  | 140/186 [01:26<00:08,  5.23it/s]       "
     ]
    },
    {
     "name": "stdout",
     "output_type": "stream",
     "text": [
      "\n",
      "Processing actigraphy column: stat_54_boxcox\n"
     ]
    },
    {
     "name": "stderr",
     "output_type": "stream",
     "text": [
      "Processing actigraphy: stat_55:  76%|███████▌  | 141/186 [01:26<00:08,  5.10it/s]"
     ]
    },
    {
     "name": "stdout",
     "output_type": "stream",
     "text": [
      "\n",
      "Processing actigraphy column: stat_55\n"
     ]
    },
    {
     "name": "stderr",
     "output_type": "stream",
     "text": [
      "Processing actigraphy: stat_57:  76%|███████▋  | 142/186 [01:26<00:08,  5.17it/s]"
     ]
    },
    {
     "name": "stdout",
     "output_type": "stream",
     "text": [
      "\n",
      "Processing actigraphy column: stat_56\n"
     ]
    },
    {
     "name": "stderr",
     "output_type": "stream",
     "text": [
      "Processing actigraphy: stat_58:  77%|███████▋  | 143/186 [01:26<00:08,  5.16it/s]"
     ]
    },
    {
     "name": "stdout",
     "output_type": "stream",
     "text": [
      "\n",
      "Processing actigraphy column: stat_57\n"
     ]
    },
    {
     "name": "stderr",
     "output_type": "stream",
     "text": [
      "Processing actigraphy: stat_59:  77%|███████▋  | 144/186 [01:26<00:08,  5.22it/s]"
     ]
    },
    {
     "name": "stdout",
     "output_type": "stream",
     "text": [
      "\n",
      "Processing actigraphy column: stat_58\n"
     ]
    },
    {
     "name": "stderr",
     "output_type": "stream",
     "text": [
      "Processing actigraphy: stat_59:  78%|███████▊  | 145/186 [01:26<00:08,  5.10it/s]"
     ]
    },
    {
     "name": "stdout",
     "output_type": "stream",
     "text": [
      "\n",
      "Processing actigraphy column: stat_59\n"
     ]
    },
    {
     "name": "stderr",
     "output_type": "stream",
     "text": [
      "Processing actigraphy: stat_61:  78%|███████▊  | 146/186 [01:27<00:07,  5.17it/s]"
     ]
    },
    {
     "name": "stdout",
     "output_type": "stream",
     "text": [
      "\n",
      "Processing actigraphy column: stat_60\n"
     ]
    },
    {
     "name": "stderr",
     "output_type": "stream",
     "text": [
      "Processing actigraphy: stat_61:  79%|███████▉  | 147/186 [01:27<00:08,  4.80it/s]"
     ]
    },
    {
     "name": "stdout",
     "output_type": "stream",
     "text": [
      "\n",
      "Processing actigraphy column: stat_61\n"
     ]
    },
    {
     "name": "stderr",
     "output_type": "stream",
     "text": [
      "Processing actigraphy: stat_63:  80%|███████▉  | 148/186 [01:27<00:07,  4.92it/s]"
     ]
    },
    {
     "name": "stdout",
     "output_type": "stream",
     "text": [
      "\n",
      "Processing actigraphy column: stat_62\n"
     ]
    },
    {
     "name": "stderr",
     "output_type": "stream",
     "text": [
      "Processing actigraphy: stat_63:  80%|████████  | 149/186 [01:27<00:07,  5.03it/s]"
     ]
    },
    {
     "name": "stdout",
     "output_type": "stream",
     "text": [
      "\n",
      "Processing actigraphy column: stat_63\n"
     ]
    },
    {
     "name": "stderr",
     "output_type": "stream",
     "text": [
      "Processing actigraphy: stat_65:  81%|████████  | 150/186 [01:28<00:07,  5.05it/s]"
     ]
    },
    {
     "name": "stdout",
     "output_type": "stream",
     "text": [
      "\n",
      "Processing actigraphy column: stat_64\n"
     ]
    },
    {
     "name": "stderr",
     "output_type": "stream",
     "text": [
      "Processing actigraphy: stat_66_boxcox:  81%|████████  | 151/186 [01:28<00:06,  5.14it/s]"
     ]
    },
    {
     "name": "stdout",
     "output_type": "stream",
     "text": [
      "\n",
      "Processing actigraphy column: stat_65\n"
     ]
    },
    {
     "name": "stderr",
     "output_type": "stream",
     "text": [
      "Processing actigraphy: stat_67:  82%|████████▏ | 152/186 [01:28<00:06,  5.09it/s]       "
     ]
    },
    {
     "name": "stdout",
     "output_type": "stream",
     "text": [
      "\n",
      "Processing actigraphy column: stat_66_boxcox\n"
     ]
    },
    {
     "name": "stderr",
     "output_type": "stream",
     "text": [
      "Processing actigraphy: stat_68:  82%|████████▏ | 153/186 [01:28<00:06,  5.08it/s]"
     ]
    },
    {
     "name": "stdout",
     "output_type": "stream",
     "text": [
      "\n",
      "Processing actigraphy column: stat_67\n"
     ]
    },
    {
     "name": "stderr",
     "output_type": "stream",
     "text": [
      "Processing actigraphy: stat_69:  83%|████████▎ | 154/186 [01:28<00:06,  5.15it/s]"
     ]
    },
    {
     "name": "stdout",
     "output_type": "stream",
     "text": [
      "\n",
      "Processing actigraphy column: stat_68\n"
     ]
    },
    {
     "name": "stderr",
     "output_type": "stream",
     "text": [
      "Processing actigraphy: stat_70:  83%|████████▎ | 155/186 [01:28<00:06,  5.16it/s]"
     ]
    },
    {
     "name": "stdout",
     "output_type": "stream",
     "text": [
      "\n",
      "Processing actigraphy column: stat_69\n"
     ]
    },
    {
     "name": "stderr",
     "output_type": "stream",
     "text": [
      "Processing actigraphy: stat_71:  84%|████████▍ | 156/186 [01:29<00:05,  5.25it/s]"
     ]
    },
    {
     "name": "stdout",
     "output_type": "stream",
     "text": [
      "\n",
      "Processing actigraphy column: stat_70\n"
     ]
    },
    {
     "name": "stderr",
     "output_type": "stream",
     "text": [
      "Processing actigraphy: stat_71:  84%|████████▍ | 157/186 [01:29<00:05,  5.10it/s]"
     ]
    },
    {
     "name": "stdout",
     "output_type": "stream",
     "text": [
      "\n",
      "Processing actigraphy column: stat_71\n"
     ]
    },
    {
     "name": "stderr",
     "output_type": "stream",
     "text": [
      "Processing actigraphy: stat_73:  85%|████████▍ | 158/186 [01:29<00:05,  5.17it/s]"
     ]
    },
    {
     "name": "stdout",
     "output_type": "stream",
     "text": [
      "\n",
      "Processing actigraphy column: stat_72\n",
      "\n",
      "Processing actigraphy column: stat_73\n"
     ]
    },
    {
     "name": "stderr",
     "output_type": "stream",
     "text": [
      "Processing actigraphy: stat_74:  86%|████████▌ | 160/186 [01:29<00:05,  5.07it/s]"
     ]
    },
    {
     "name": "stdout",
     "output_type": "stream",
     "text": [
      "\n",
      "Processing actigraphy column: stat_74\n"
     ]
    },
    {
     "name": "stderr",
     "output_type": "stream",
     "text": [
      "Processing actigraphy: stat_76:  87%|████████▋ | 161/186 [01:30<00:04,  5.11it/s]"
     ]
    },
    {
     "name": "stdout",
     "output_type": "stream",
     "text": [
      "\n",
      "Processing actigraphy column: stat_75\n"
     ]
    },
    {
     "name": "stderr",
     "output_type": "stream",
     "text": [
      "Processing actigraphy: stat_76:  87%|████████▋ | 162/186 [01:30<00:04,  5.09it/s]"
     ]
    },
    {
     "name": "stdout",
     "output_type": "stream",
     "text": [
      "\n",
      "Processing actigraphy column: stat_76\n"
     ]
    },
    {
     "name": "stderr",
     "output_type": "stream",
     "text": [
      "Processing actigraphy: stat_78_boxcox:  88%|████████▊ | 163/186 [01:30<00:04,  5.09it/s]"
     ]
    },
    {
     "name": "stdout",
     "output_type": "stream",
     "text": [
      "\n",
      "Processing actigraphy column: stat_77\n"
     ]
    },
    {
     "name": "stderr",
     "output_type": "stream",
     "text": [
      "Processing actigraphy: stat_79:  88%|████████▊ | 164/186 [01:30<00:04,  5.08it/s]       "
     ]
    },
    {
     "name": "stdout",
     "output_type": "stream",
     "text": [
      "\n",
      "Processing actigraphy column: stat_78_boxcox\n"
     ]
    },
    {
     "name": "stderr",
     "output_type": "stream",
     "text": [
      "Processing actigraphy: stat_79:  89%|████████▊ | 165/186 [01:30<00:04,  5.02it/s]"
     ]
    },
    {
     "name": "stdout",
     "output_type": "stream",
     "text": [
      "\n",
      "Processing actigraphy column: stat_79\n"
     ]
    },
    {
     "name": "stderr",
     "output_type": "stream",
     "text": [
      "Processing actigraphy: stat_80_boxcox:  89%|████████▉ | 166/186 [01:31<00:04,  4.45it/s]"
     ]
    },
    {
     "name": "stdout",
     "output_type": "stream",
     "text": [
      "\n",
      "Processing actigraphy column: stat_80_boxcox\n"
     ]
    },
    {
     "name": "stderr",
     "output_type": "stream",
     "text": [
      "Processing actigraphy: stat_82:  90%|████████▉ | 167/186 [01:31<00:04,  4.69it/s]       "
     ]
    },
    {
     "name": "stdout",
     "output_type": "stream",
     "text": [
      "\n",
      "Processing actigraphy column: stat_81\n"
     ]
    },
    {
     "name": "stderr",
     "output_type": "stream",
     "text": [
      "Processing actigraphy: stat_83:  90%|█████████ | 168/186 [01:31<00:03,  4.88it/s]"
     ]
    },
    {
     "name": "stdout",
     "output_type": "stream",
     "text": [
      "\n",
      "Processing actigraphy column: stat_82\n",
      "\n",
      "Processing actigraphy column: stat_83\n"
     ]
    },
    {
     "name": "stderr",
     "output_type": "stream",
     "text": [
      "Processing actigraphy: stat_85:  91%|█████████▏| 170/186 [01:32<00:03,  4.89it/s]"
     ]
    },
    {
     "name": "stdout",
     "output_type": "stream",
     "text": [
      "\n",
      "Processing actigraphy column: stat_84\n"
     ]
    },
    {
     "name": "stderr",
     "output_type": "stream",
     "text": [
      "Processing actigraphy: stat_86:  92%|█████████▏| 171/186 [01:32<00:02,  5.00it/s]"
     ]
    },
    {
     "name": "stdout",
     "output_type": "stream",
     "text": [
      "\n",
      "Processing actigraphy column: stat_85\n"
     ]
    },
    {
     "name": "stderr",
     "output_type": "stream",
     "text": [
      "Processing actigraphy: stat_87:  92%|█████████▏| 172/186 [01:32<00:02,  5.01it/s]"
     ]
    },
    {
     "name": "stdout",
     "output_type": "stream",
     "text": [
      "\n",
      "Processing actigraphy column: stat_86\n"
     ]
    },
    {
     "name": "stderr",
     "output_type": "stream",
     "text": [
      "Processing actigraphy: stat_88_boxcox:  93%|█████████▎| 173/186 [01:32<00:02,  5.06it/s]"
     ]
    },
    {
     "name": "stdout",
     "output_type": "stream",
     "text": [
      "\n",
      "Processing actigraphy column: stat_87\n"
     ]
    },
    {
     "name": "stderr",
     "output_type": "stream",
     "text": [
      "Processing actigraphy: stat_89:  94%|█████████▎| 174/186 [01:32<00:02,  5.14it/s]       "
     ]
    },
    {
     "name": "stdout",
     "output_type": "stream",
     "text": [
      "\n",
      "Processing actigraphy column: stat_88_boxcox\n"
     ]
    },
    {
     "name": "stderr",
     "output_type": "stream",
     "text": [
      "Processing actigraphy: stat_90_boxcox:  94%|█████████▍| 175/186 [01:32<00:02,  5.26it/s]"
     ]
    },
    {
     "name": "stdout",
     "output_type": "stream",
     "text": [
      "\n",
      "Processing actigraphy column: stat_89\n",
      "\n",
      "Processing actigraphy column: stat_90_boxcox\n"
     ]
    },
    {
     "name": "stderr",
     "output_type": "stream",
     "text": [
      "Processing actigraphy: stat_91:  95%|█████████▍| 176/186 [01:33<00:02,  3.91it/s]       "
     ]
    },
    {
     "name": "stdout",
     "output_type": "stream",
     "text": [
      "\n",
      "Processing actigraphy column: stat_91\n"
     ]
    },
    {
     "name": "stderr",
     "output_type": "stream",
     "text": [
      "Processing actigraphy: stat_94:  96%|█████████▌| 178/186 [01:33<00:02,  3.82it/s]"
     ]
    },
    {
     "name": "stdout",
     "output_type": "stream",
     "text": [
      "\n",
      "Processing actigraphy column: stat_93\n"
     ]
    },
    {
     "name": "stderr",
     "output_type": "stream",
     "text": [
      "Processing actigraphy: stat_95:  96%|█████████▌| 179/186 [01:34<00:01,  4.20it/s]"
     ]
    },
    {
     "name": "stdout",
     "output_type": "stream",
     "text": [
      "\n",
      "Processing actigraphy column: stat_94\n"
     ]
    },
    {
     "name": "stderr",
     "output_type": "stream",
     "text": [
      "Processing actigraphy: PreInt_EduHx-computerinternet_hoursday:  97%|█████████▋| 180/186 [01:34<00:01,  4.41it/s]"
     ]
    },
    {
     "name": "stdout",
     "output_type": "stream",
     "text": [
      "\n",
      "Processing actigraphy column: stat_95\n"
     ]
    },
    {
     "name": "stderr",
     "output_type": "stream",
     "text": [
      "Processing actigraphy: BIA-BIA_Frame_num:  97%|█████████▋| 181/186 [01:34<00:01,  4.49it/s]                     "
     ]
    },
    {
     "name": "stdout",
     "output_type": "stream",
     "text": [
      "\n",
      "Processing actigraphy column: PreInt_EduHx-computerinternet_hoursday\n"
     ]
    },
    {
     "name": "stderr",
     "output_type": "stream",
     "text": [
      "Processing actigraphy: SDS-SDS_Total_T:  98%|█████████▊| 182/186 [01:34<00:00,  4.72it/s]  "
     ]
    },
    {
     "name": "stdout",
     "output_type": "stream",
     "text": [
      "\n",
      "Processing actigraphy column: BIA-BIA_Frame_num\n"
     ]
    },
    {
     "name": "stderr",
     "output_type": "stream",
     "text": [
      "Processing actigraphy: SDS-SDS_Total_T:  98%|█████████▊| 183/186 [01:34<00:00,  4.70it/s]"
     ]
    },
    {
     "name": "stdout",
     "output_type": "stream",
     "text": [
      "\n",
      "Processing actigraphy column: SDS-SDS_Total_T\n"
     ]
    },
    {
     "name": "stderr",
     "output_type": "stream",
     "text": [
      "Processing actigraphy: Physical-BMI:  99%|█████████▉| 184/186 [01:35<00:00,  4.77it/s]   "
     ]
    },
    {
     "name": "stdout",
     "output_type": "stream",
     "text": [
      "\n",
      "Processing actigraphy column: BIA-BIA_BMI\n"
     ]
    },
    {
     "name": "stderr",
     "output_type": "stream",
     "text": [
      "Processing actigraphy: Physical-BMI:  99%|█████████▉| 185/186 [01:35<00:00,  4.65it/s]"
     ]
    },
    {
     "name": "stdout",
     "output_type": "stream",
     "text": [
      "\n",
      "Processing actigraphy column: Physical-BMI\n"
     ]
    },
    {
     "name": "stderr",
     "output_type": "stream",
     "text": [
      "Processing actigraphy: sii: 100%|██████████| 186/186 [01:35<00:00,  4.77it/s]         "
     ]
    },
    {
     "name": "stdout",
     "output_type": "stream",
     "text": [
      "\n",
      "Processing actigraphy column: sii\n"
     ]
    },
    {
     "name": "stderr",
     "output_type": "stream",
     "text": [
      "Processing actigraphy: sii: 100%|██████████| 186/186 [01:35<00:00,  1.95it/s]"
     ]
    },
    {
     "name": "stdout",
     "output_type": "stream",
     "text": [
      "\n",
      "All analyses completed and saved to the 'analysis_output' folder.\n",
      "\n",
      "Summary of processed columns:\n",
      "\n",
      "PHYSICAL columns processed (28):\n",
      "- BMI_Age\n",
      "- Basic_Demos-Age\n",
      "- Basic_Demos-Sex\n",
      "- DEE_Weight\n",
      "- Physical-BMI\n",
      "- Internet_Hours_Age\n",
      "- Age_Internet_Hours\n",
      "- Physical-Height\n",
      "- Physical-Weight\n",
      "- Physical-Waist_Circumference\n",
      "- Physical-Diastolic_BP\n",
      "- Physical-HeartRate\n",
      "- Physical-Systolic_BP\n",
      "- BMI_Internet_Hours\n",
      "- BMR_Weight\n",
      "- fitness_score\n",
      "- BIA-BIA_Frame_num\n",
      "- BIA-BIA_BMI\n",
      "- PreInt_EduHx-computerinternet_hoursday\n",
      "- BIA_BMI_Internet_Hours_Age\n",
      "- Muscle_to_Fat\n",
      "- Hydration_Status\n",
      "- ICW_TBW\n",
      "- Age_Weight\n",
      "- Age_Weight_BMI\n",
      "- Sex_BMI\n",
      "- Sex_HeartRate\n",
      "- sii\n",
      "\n",
      "FITNESS columns processed (26):\n",
      "- Fitness_Endurance-Max_Stage\n",
      "- Fitness_Endurance-Time_Mins\n",
      "- SMM_Height\n",
      "- FGC-FGC_CU_Zone\n",
      "- FGC-FGC_SR\n",
      "- FGC-FGC_PU_Zone\n",
      "- FGC-FGC_TL\n",
      "- FGC-FGC_TL_Zone\n",
      "- FGC-FGC_GS\n",
      "- fitness_score\n",
      "- BIA-BIA_BMI\n",
      "- Physical-BMI\n",
      "- FMI_BFP\n",
      "- LST_TBW\n",
      "- SMM_Height\n",
      "- BIA-BIA_Frame_num\n",
      "- PreInt_EduHx-computerinternet_hoursday\n",
      "- FFMI_BFP\n",
      "- BFP_DEE\n",
      "- BMR_Weight\n",
      "- Muscle_to_Fat\n",
      "- Hydration_Status\n",
      "- ICW_TBW\n",
      "- Age_Weight_BMI\n",
      "- Sex_HeartRate\n",
      "- sii\n",
      "\n",
      "BIA columns processed (13):\n",
      "- BIA-BIA_Activity_Level_num\n",
      "- BIA-BIA_Frame_num\n",
      "- DEE_Weight\n",
      "- SMM_Height\n",
      "- BIA-BIA_BMI\n",
      "- fitness_score\n",
      "- Physical-BMI\n",
      "- PreInt_EduHx-computerinternet_hoursday\n",
      "- BMR_BMI\n",
      "- DEE_BMI\n",
      "- SMM_BMI\n",
      "- ICW_TBW\n",
      "- sii\n",
      "\n",
      "CHILD_INFO columns processed (33):\n",
      "- PreInt_EduHx-computerinternet_hoursday\n",
      "- PAQ_A-PAQ_A_Total\n",
      "- PAQ_C-PAQ_C_Total\n",
      "- PAQ_Total\n",
      "- PCIAT-PCIAT_01\n",
      "- PCIAT-PCIAT_02\n",
      "- PCIAT-PCIAT_03\n",
      "- PCIAT-PCIAT_04\n",
      "- PCIAT-PCIAT_05\n",
      "- PCIAT-PCIAT_06\n",
      "- PCIAT-PCIAT_07\n",
      "- PCIAT-PCIAT_08\n",
      "- PCIAT-PCIAT_09\n",
      "- PCIAT-PCIAT_10\n",
      "- PCIAT-PCIAT_11\n",
      "- PCIAT-PCIAT_12\n",
      "- PCIAT-PCIAT_13\n",
      "- PCIAT-PCIAT_14\n",
      "- PCIAT-PCIAT_15\n",
      "- PCIAT-PCIAT_16\n",
      "- PCIAT-PCIAT_17\n",
      "- PCIAT-PCIAT_18\n",
      "- PCIAT-PCIAT_19\n",
      "- PCIAT-PCIAT_20\n",
      "- PCIAT-PCIAT_Total\n",
      "- SDS-SDS_Total_Raw\n",
      "- SDS-SDS_Total_T\n",
      "- PreInt_EduHx-computerinternet_hoursday\n",
      "- BIA-BIA_BMI\n",
      "- fitness_score\n",
      "- Physical-BMI\n",
      "- Sex_BMI\n",
      "- sii\n",
      "\n",
      "ACTIGRAPHY columns processed (86):\n",
      "- stat_12\n",
      "- stat_13\n",
      "- stat_14\n",
      "- stat_15\n",
      "- stat_16\n",
      "- stat_17\n",
      "- stat_18\n",
      "- stat_19\n",
      "- stat_20\n",
      "- stat_21\n",
      "- stat_22\n",
      "- stat_23_boxcox\n",
      "- stat_24\n",
      "- stat_25\n",
      "- stat_26\n",
      "- stat_27\n",
      "- stat_28\n",
      "- stat_29\n",
      "- stat_30\n",
      "- stat_31\n",
      "- stat_32\n",
      "- stat_33\n",
      "- stat_34\n",
      "- stat_35_boxcox\n",
      "- stat_36\n",
      "- stat_37\n",
      "- stat_38_boxcox\n",
      "- stat_40_boxcox\n",
      "- stat_43\n",
      "- stat_44\n",
      "- stat_45\n",
      "- stat_46\n",
      "- stat_47_boxcox\n",
      "- stat_48\n",
      "- stat_49\n",
      "- stat_50\n",
      "- stat_51\n",
      "- stat_52\n",
      "- stat_53\n",
      "- stat_54_boxcox\n",
      "- stat_55\n",
      "- stat_56\n",
      "- stat_57\n",
      "- stat_58\n",
      "- stat_59\n",
      "- stat_60\n",
      "- stat_61\n",
      "- stat_62\n",
      "- stat_63\n",
      "- stat_64\n",
      "- stat_65\n",
      "- stat_66_boxcox\n",
      "- stat_67\n",
      "- stat_68\n",
      "- stat_69\n",
      "- stat_70\n",
      "- stat_71\n",
      "- stat_72\n",
      "- stat_73\n",
      "- stat_74\n",
      "- stat_75\n",
      "- stat_76\n",
      "- stat_77\n",
      "- stat_78_boxcox\n",
      "- stat_79\n",
      "- stat_80_boxcox\n",
      "- stat_81\n",
      "- stat_82\n",
      "- stat_83\n",
      "- stat_84\n",
      "- stat_85\n",
      "- stat_86\n",
      "- stat_87\n",
      "- stat_88_boxcox\n",
      "- stat_89\n",
      "- stat_90_boxcox\n",
      "- stat_91\n",
      "- stat_93\n",
      "- stat_94\n",
      "- stat_95\n",
      "- PreInt_EduHx-computerinternet_hoursday\n",
      "- BIA-BIA_Frame_num\n",
      "- SDS-SDS_Total_T\n",
      "- BIA-BIA_BMI\n",
      "- Physical-BMI\n",
      "- sii\n"
     ]
    },
    {
     "name": "stderr",
     "output_type": "stream",
     "text": [
      "\n"
     ]
    }
   ],
   "source": [
    "# Combine all columns into a single list\n",
    "all_columns = []\n",
    "all_columns.extend(physical_numeric_columns)\n",
    "all_columns.extend(fitness_numeric_columns)\n",
    "all_columns.extend(bia_numeric_columns)\n",
    "all_columns.extend(child_info_numeric_columns)\n",
    "all_columns.extend(actigraphy_numeric_columns)\n",
    "\n",
    "# Function to create and save distribution plot\n",
    "def create_distribution_plot(column, category, output_folder, data):\n",
    "    print(f\"\\nProcessing {category} column: {column}\")  # Print current column\n",
    "    plt.figure(figsize=(10, 6))\n",
    "    sns.histplot(data[column].dropna(), kde=True)\n",
    "    plt.title(f'Distribution of {category} {column}')\n",
    "    plt.xlabel(column)\n",
    "    plt.ylabel('Count')\n",
    "    plt.tight_layout()\n",
    "    plt.savefig(os.path.join(output_folder, f'{category}_{column}_distribution.png'))\n",
    "    plt.close()\n",
    "\n",
    "# Create a dictionary mapping columns to their categories and output folders\n",
    "column_info = {\n",
    "    'physical': (physical_numeric_columns, physical_analysis_output_folder),\n",
    "    'fitness': (fitness_numeric_columns, fitness_analysis_output_folder),\n",
    "    'bia': (bia_numeric_columns, bia_analysis_output_folder),\n",
    "    'child_info': (child_info_numeric_columns, child_info_analysis_output_folder),\n",
    "    'actigraphy': (actigraphy_numeric_columns, actigraphy_analysis_output_folder)\n",
    "}\n",
    "\n",
    "# Create progress bar for all columns\n",
    "with tqdm(total=len(all_columns), desc=\"Creating distribution plots\") as pbar:\n",
    "    # Process each category\n",
    "    for category, (columns, output_folder) in column_info.items():\n",
    "        for column in columns:\n",
    "            # Update progress description to show current column\n",
    "            pbar.set_description(f\"Processing {category}: {column}\")\n",
    "            \n",
    "            # Create and save plot\n",
    "            create_distribution_plot(column, category, output_folder, train_final)\n",
    "            \n",
    "            # Update progress bar\n",
    "            pbar.update(1)\n",
    "            \n",
    "            # Optional: Add a small delay to make the progress messages readable\n",
    "            time.sleep(0.1)\n",
    "\n",
    "print(\"\\nAll analyses completed and saved to the 'analysis_output' folder.\")\n",
    "\n",
    "# Print summary of processed columns\n",
    "print(\"\\nSummary of processed columns:\")\n",
    "for category, (columns, _) in column_info.items():\n",
    "    print(f\"\\n{category.upper()} columns processed ({len(columns)}):\")\n",
    "    for col in columns:\n",
    "        print(f\"- {col}\")"
   ]
  },
  {
   "cell_type": "code",
   "execution_count": 24,
   "metadata": {},
   "outputs": [],
   "source": [
    "# Enumerate category columns\n",
    "cat_columns = ['Basic_Demos-Enroll_Season', 'CGAS-Season', 'Physical-Season', \n",
    "          'Fitness_Endurance-Season', 'FGC-Season', 'BIA-Season', \n",
    "          'PAQ_A-Season', 'PAQ_C-Season', 'SDS-Season', 'PreInt_EduHx-Season']\n",
    "\n",
    "def replace_inf_nan(df):\n",
    "    \"\"\"Replace infinite values with NaN and then fill NaN with median for numeric columns\"\"\"\n",
    "    # Replace inf with NaN\n",
    "    df = df.replace([np.inf, -np.inf], np.nan)\n",
    "    \n",
    "    # Get numeric columns\n",
    "    numeric_cols = df.select_dtypes(include=['float64', 'int64']).columns\n",
    "    \n",
    "    # Fill NaN with median for numeric columns\n",
    "    for col in numeric_cols:\n",
    "        df[col] = df[col].fillna(df[col].median())\n",
    "    \n",
    "    return df\n",
    "\n",
    "def update(df):\n",
    "    global cat_columns\n",
    "    # First handle inf and NaN values\n",
    "    df = replace_inf_nan(df)\n",
    "    \n",
    "    # Then handle categorical columns\n",
    "    for c in cat_columns: \n",
    "        df[c] = df[c].fillna('Missing')\n",
    "        df[c] = df[c].astype('category')\n",
    "    return df\n",
    "        \n",
    "train_final = update(train_final)\n",
    "test_final = update(test_final)\n",
    "\n",
    "def create_mapping(column, dataset):\n",
    "    unique_values = dataset[column].unique()\n",
    "    return {value: idx for idx, value in enumerate(unique_values)}\n",
    "\n",
    "for col in cat_columns:\n",
    "    mapping = create_mapping(col, train_final)\n",
    "    mappingTe = create_mapping(col, test_final)\n",
    "    \n",
    "    train_final[col] = train_final[col].replace(mapping).astype(int)\n",
    "    test_final[col] = test_final[col].replace(mappingTe).astype(int)\n",
    "\n",
    "imputer = KNNImputer(n_neighbors=5)\n",
    "numeric_cols = train_final.select_dtypes(include=['float64', 'int64']).columns\n",
    "imputed_data = imputer.fit_transform(train_final[numeric_cols])\n",
    "train_imputed = pd.DataFrame(imputed_data, columns=numeric_cols)\n",
    "train_imputed['sii'] = train_imputed['sii'].round().astype(int)\n",
    "for col in train_final.columns:\n",
    "    if col not in numeric_cols:\n",
    "        train_imputed[col] = train_final[col]\n",
    "        \n",
    "train_final = train_imputed\n",
    "\n",
    "train_final = engineer_features(train_final)\n",
    "train_final = train_final.dropna(thresh=10, axis=0)\n",
    "test_final = engineer_features(test_final)"
   ]
  },
  {
   "cell_type": "code",
   "execution_count": 25,
   "metadata": {},
   "outputs": [
    {
     "data": {
      "text/html": [
       "<div>\n",
       "<style scoped>\n",
       "    .dataframe tbody tr th:only-of-type {\n",
       "        vertical-align: middle;\n",
       "    }\n",
       "\n",
       "    .dataframe tbody tr th {\n",
       "        vertical-align: top;\n",
       "    }\n",
       "\n",
       "    .dataframe thead th {\n",
       "        text-align: right;\n",
       "    }\n",
       "</style>\n",
       "<table border=\"1\" class=\"dataframe\">\n",
       "  <thead>\n",
       "    <tr style=\"text-align: right;\">\n",
       "      <th></th>\n",
       "      <th>Basic_Demos-Age</th>\n",
       "      <th>Basic_Demos-Sex</th>\n",
       "      <th>CGAS-CGAS_Score</th>\n",
       "      <th>Physical-BMI</th>\n",
       "      <th>Physical-Height</th>\n",
       "      <th>Physical-Weight</th>\n",
       "      <th>Physical-Waist_Circumference</th>\n",
       "      <th>Physical-Diastolic_BP</th>\n",
       "      <th>Physical-HeartRate</th>\n",
       "      <th>Physical-Systolic_BP</th>\n",
       "      <th>Fitness_Endurance-Max_Stage</th>\n",
       "      <th>Fitness_Endurance-Time_Mins</th>\n",
       "      <th>Fitness_Endurance-Time_Sec</th>\n",
       "      <th>FGC-FGC_CU</th>\n",
       "      <th>FGC-FGC_CU_Zone</th>\n",
       "      <th>FGC-FGC_GSND</th>\n",
       "      <th>FGC-FGC_GSND_Zone</th>\n",
       "      <th>FGC-FGC_GSD</th>\n",
       "      <th>FGC-FGC_GSD_Zone</th>\n",
       "      <th>FGC-FGC_PU</th>\n",
       "      <th>FGC-FGC_PU_Zone</th>\n",
       "      <th>FGC-FGC_SRL</th>\n",
       "      <th>FGC-FGC_SRL_Zone</th>\n",
       "      <th>FGC-FGC_SRR</th>\n",
       "      <th>FGC-FGC_SRR_Zone</th>\n",
       "      <th>FGC-FGC_TL</th>\n",
       "      <th>FGC-FGC_TL_Zone</th>\n",
       "      <th>BIA-BIA_Activity_Level_num</th>\n",
       "      <th>BIA-BIA_BMC</th>\n",
       "      <th>BIA-BIA_BMI</th>\n",
       "      <th>BIA-BIA_BMR</th>\n",
       "      <th>BIA-BIA_DEE</th>\n",
       "      <th>BIA-BIA_ECW</th>\n",
       "      <th>BIA-BIA_FFM</th>\n",
       "      <th>BIA-BIA_FFMI</th>\n",
       "      <th>BIA-BIA_FMI</th>\n",
       "      <th>BIA-BIA_Fat</th>\n",
       "      <th>BIA-BIA_Frame_num</th>\n",
       "      <th>BIA-BIA_ICW</th>\n",
       "      <th>BIA-BIA_LDM</th>\n",
       "      <th>BIA-BIA_LST</th>\n",
       "      <th>BIA-BIA_SMM</th>\n",
       "      <th>BIA-BIA_TBW</th>\n",
       "      <th>PAQ_A-PAQ_A_Total</th>\n",
       "      <th>PAQ_C-PAQ_C_Total</th>\n",
       "      <th>PCIAT-PCIAT_01</th>\n",
       "      <th>PCIAT-PCIAT_02</th>\n",
       "      <th>PCIAT-PCIAT_03</th>\n",
       "      <th>PCIAT-PCIAT_04</th>\n",
       "      <th>PCIAT-PCIAT_05</th>\n",
       "      <th>PCIAT-PCIAT_06</th>\n",
       "      <th>PCIAT-PCIAT_07</th>\n",
       "      <th>PCIAT-PCIAT_08</th>\n",
       "      <th>PCIAT-PCIAT_09</th>\n",
       "      <th>PCIAT-PCIAT_10</th>\n",
       "      <th>PCIAT-PCIAT_11</th>\n",
       "      <th>PCIAT-PCIAT_12</th>\n",
       "      <th>PCIAT-PCIAT_13</th>\n",
       "      <th>PCIAT-PCIAT_14</th>\n",
       "      <th>PCIAT-PCIAT_15</th>\n",
       "      <th>PCIAT-PCIAT_16</th>\n",
       "      <th>PCIAT-PCIAT_17</th>\n",
       "      <th>PCIAT-PCIAT_18</th>\n",
       "      <th>PCIAT-PCIAT_19</th>\n",
       "      <th>PCIAT-PCIAT_20</th>\n",
       "      <th>PCIAT-PCIAT_Total</th>\n",
       "      <th>SDS-SDS_Total_Raw</th>\n",
       "      <th>SDS-SDS_Total_T</th>\n",
       "      <th>PreInt_EduHx-computerinternet_hoursday</th>\n",
       "      <th>sii</th>\n",
       "      <th>ae_feature_0</th>\n",
       "      <th>ae_feature_1</th>\n",
       "      <th>ae_feature_2</th>\n",
       "      <th>ae_feature_3</th>\n",
       "      <th>ae_feature_4</th>\n",
       "      <th>ae_feature_5</th>\n",
       "      <th>ae_feature_6</th>\n",
       "      <th>ae_feature_7</th>\n",
       "      <th>ae_feature_8</th>\n",
       "      <th>ae_feature_9</th>\n",
       "      <th>ae_feature_10</th>\n",
       "      <th>ae_feature_11</th>\n",
       "      <th>ae_feature_12</th>\n",
       "      <th>ae_feature_13</th>\n",
       "      <th>ae_feature_14</th>\n",
       "      <th>ae_feature_15</th>\n",
       "      <th>ae_feature_16</th>\n",
       "      <th>ae_feature_17</th>\n",
       "      <th>ae_feature_18</th>\n",
       "      <th>ae_feature_19</th>\n",
       "      <th>ae_feature_20</th>\n",
       "      <th>ae_feature_21</th>\n",
       "      <th>ae_feature_22</th>\n",
       "      <th>ae_feature_23</th>\n",
       "      <th>ae_feature_24</th>\n",
       "      <th>ae_feature_25</th>\n",
       "      <th>ae_feature_26</th>\n",
       "      <th>ae_feature_27</th>\n",
       "      <th>ae_feature_28</th>\n",
       "      <th>ae_feature_29</th>\n",
       "      <th>ae_feature_30</th>\n",
       "      <th>ae_feature_31</th>\n",
       "      <th>stat_23_boxcox</th>\n",
       "      <th>stat_35_boxcox</th>\n",
       "      <th>stat_38_boxcox</th>\n",
       "      <th>stat_40_boxcox</th>\n",
       "      <th>stat_47_boxcox</th>\n",
       "      <th>stat_54_boxcox</th>\n",
       "      <th>stat_66_boxcox</th>\n",
       "      <th>stat_78_boxcox</th>\n",
       "      <th>stat_80_boxcox</th>\n",
       "      <th>stat_88_boxcox</th>\n",
       "      <th>stat_90_boxcox</th>\n",
       "      <th>stat_0</th>\n",
       "      <th>stat_1</th>\n",
       "      <th>stat_2</th>\n",
       "      <th>stat_3</th>\n",
       "      <th>stat_4</th>\n",
       "      <th>stat_5</th>\n",
       "      <th>stat_6</th>\n",
       "      <th>stat_7</th>\n",
       "      <th>stat_8</th>\n",
       "      <th>stat_9</th>\n",
       "      <th>stat_10</th>\n",
       "      <th>stat_11</th>\n",
       "      <th>stat_12</th>\n",
       "      <th>stat_13</th>\n",
       "      <th>stat_14</th>\n",
       "      <th>stat_15</th>\n",
       "      <th>stat_16</th>\n",
       "      <th>stat_17</th>\n",
       "      <th>stat_18</th>\n",
       "      <th>stat_19</th>\n",
       "      <th>stat_20</th>\n",
       "      <th>stat_21</th>\n",
       "      <th>stat_22</th>\n",
       "      <th>stat_23</th>\n",
       "      <th>stat_24</th>\n",
       "      <th>stat_25</th>\n",
       "      <th>stat_26</th>\n",
       "      <th>stat_27</th>\n",
       "      <th>stat_28</th>\n",
       "      <th>stat_29</th>\n",
       "      <th>stat_30</th>\n",
       "      <th>stat_31</th>\n",
       "      <th>stat_32</th>\n",
       "      <th>stat_33</th>\n",
       "      <th>stat_34</th>\n",
       "      <th>stat_35</th>\n",
       "      <th>stat_36</th>\n",
       "      <th>stat_37</th>\n",
       "      <th>stat_38</th>\n",
       "      <th>stat_39</th>\n",
       "      <th>stat_40</th>\n",
       "      <th>stat_41</th>\n",
       "      <th>stat_42</th>\n",
       "      <th>stat_43</th>\n",
       "      <th>stat_44</th>\n",
       "      <th>stat_45</th>\n",
       "      <th>stat_46</th>\n",
       "      <th>stat_47</th>\n",
       "      <th>stat_48</th>\n",
       "      <th>stat_49</th>\n",
       "      <th>stat_50</th>\n",
       "      <th>stat_51</th>\n",
       "      <th>stat_52</th>\n",
       "      <th>stat_53</th>\n",
       "      <th>stat_54</th>\n",
       "      <th>stat_55</th>\n",
       "      <th>stat_56</th>\n",
       "      <th>stat_57</th>\n",
       "      <th>stat_58</th>\n",
       "      <th>stat_59</th>\n",
       "      <th>stat_60</th>\n",
       "      <th>stat_61</th>\n",
       "      <th>stat_62</th>\n",
       "      <th>stat_63</th>\n",
       "      <th>stat_64</th>\n",
       "      <th>stat_65</th>\n",
       "      <th>stat_66</th>\n",
       "      <th>stat_67</th>\n",
       "      <th>stat_68</th>\n",
       "      <th>stat_69</th>\n",
       "      <th>stat_70</th>\n",
       "      <th>stat_71</th>\n",
       "      <th>stat_72</th>\n",
       "      <th>stat_73</th>\n",
       "      <th>stat_74</th>\n",
       "      <th>stat_75</th>\n",
       "      <th>stat_76</th>\n",
       "      <th>stat_77</th>\n",
       "      <th>stat_78</th>\n",
       "      <th>stat_79</th>\n",
       "      <th>stat_80</th>\n",
       "      <th>stat_81</th>\n",
       "      <th>stat_82</th>\n",
       "      <th>stat_83</th>\n",
       "      <th>stat_84</th>\n",
       "      <th>stat_85</th>\n",
       "      <th>stat_86</th>\n",
       "      <th>stat_87</th>\n",
       "      <th>stat_88</th>\n",
       "      <th>stat_89</th>\n",
       "      <th>stat_90</th>\n",
       "      <th>stat_91</th>\n",
       "      <th>stat_92</th>\n",
       "      <th>stat_93</th>\n",
       "      <th>stat_94</th>\n",
       "      <th>stat_95</th>\n",
       "      <th>FGC-FGC_GS</th>\n",
       "      <th>FGC-FGC_SR</th>\n",
       "      <th>fitness_score</th>\n",
       "      <th>PAQ_Total</th>\n",
       "      <th>BMI_Age</th>\n",
       "      <th>Internet_Hours_Age</th>\n",
       "      <th>Age_Internet_Hours</th>\n",
       "      <th>BMI_Internet_Hours</th>\n",
       "      <th>BIA_BMI_Internet_Hours_Age</th>\n",
       "      <th>FFMI_BFP</th>\n",
       "      <th>FMI_BFP</th>\n",
       "      <th>LST_TBW</th>\n",
       "      <th>BFP_DEE</th>\n",
       "      <th>BMR_Weight</th>\n",
       "      <th>DEE_Weight</th>\n",
       "      <th>SMM_Height</th>\n",
       "      <th>BMR_BMI</th>\n",
       "      <th>DEE_BMI</th>\n",
       "      <th>SMM_BMI</th>\n",
       "      <th>Muscle_to_Fat</th>\n",
       "      <th>Hydration_Status</th>\n",
       "      <th>ICW_TBW</th>\n",
       "      <th>Age_Weight</th>\n",
       "      <th>Age_Weight_BMI</th>\n",
       "      <th>Sex_BMI</th>\n",
       "      <th>Sex_HeartRate</th>\n",
       "      <th>Age_WaistCirc</th>\n",
       "      <th>Age_WaistCirc_BMI</th>\n",
       "      <th>BMI_FitnessMaxStage</th>\n",
       "      <th>Weight_GripStrengthDominant</th>\n",
       "      <th>Weight_GripStrengthNonDominant</th>\n",
       "      <th>HeartRate_FitnessTime</th>\n",
       "      <th>Age_PushUp</th>\n",
       "      <th>FFMI_Age</th>\n",
       "      <th>InternetUse_SleepDisturbance</th>\n",
       "      <th>InternetUse_SleepDisturbance_BMI</th>\n",
       "      <th>CGAS_BMI</th>\n",
       "      <th>CGAS_FitnessMaxStage</th>\n",
       "      <th>id</th>\n",
       "      <th>Basic_Demos-Enroll_Season</th>\n",
       "      <th>CGAS-Season</th>\n",
       "      <th>Physical-Season</th>\n",
       "      <th>Fitness_Endurance-Season</th>\n",
       "      <th>FGC-Season</th>\n",
       "      <th>BIA-Season</th>\n",
       "      <th>PAQ_A-Season</th>\n",
       "      <th>PAQ_C-Season</th>\n",
       "      <th>PCIAT-Season</th>\n",
       "      <th>SDS-Season</th>\n",
       "      <th>PreInt_EduHx-Season</th>\n",
       "    </tr>\n",
       "  </thead>\n",
       "  <tbody>\n",
       "    <tr>\n",
       "      <th>0</th>\n",
       "      <td>5.0</td>\n",
       "      <td>0.0</td>\n",
       "      <td>51.0</td>\n",
       "      <td>16.877316</td>\n",
       "      <td>46.00</td>\n",
       "      <td>50.80</td>\n",
       "      <td>33.62</td>\n",
       "      <td>68.0</td>\n",
       "      <td>81.0</td>\n",
       "      <td>114.0</td>\n",
       "      <td>5.0</td>\n",
       "      <td>7.0</td>\n",
       "      <td>28.0</td>\n",
       "      <td>0.0</td>\n",
       "      <td>0.0</td>\n",
       "      <td>20.05</td>\n",
       "      <td>2.0</td>\n",
       "      <td>21.2</td>\n",
       "      <td>2.0</td>\n",
       "      <td>0.0</td>\n",
       "      <td>0.0</td>\n",
       "      <td>7.0</td>\n",
       "      <td>0.0</td>\n",
       "      <td>6.0</td>\n",
       "      <td>0.0</td>\n",
       "      <td>6.0</td>\n",
       "      <td>1.0</td>\n",
       "      <td>2.0</td>\n",
       "      <td>2.66855</td>\n",
       "      <td>16.8792</td>\n",
       "      <td>932.498</td>\n",
       "      <td>1492.00</td>\n",
       "      <td>8.25598</td>\n",
       "      <td>41.5862</td>\n",
       "      <td>13.8177</td>\n",
       "      <td>3.06143</td>\n",
       "      <td>9.21377</td>\n",
       "      <td>1.0</td>\n",
       "      <td>24.4349</td>\n",
       "      <td>8.89536</td>\n",
       "      <td>38.9177</td>\n",
       "      <td>19.5413</td>\n",
       "      <td>32.6909</td>\n",
       "      <td>2.01</td>\n",
       "      <td>2.540</td>\n",
       "      <td>5.0</td>\n",
       "      <td>4.0</td>\n",
       "      <td>4.0</td>\n",
       "      <td>0.0</td>\n",
       "      <td>4.0</td>\n",
       "      <td>0.0</td>\n",
       "      <td>0.0</td>\n",
       "      <td>4.0</td>\n",
       "      <td>0.0</td>\n",
       "      <td>0.0</td>\n",
       "      <td>4.0</td>\n",
       "      <td>0.0</td>\n",
       "      <td>4.0</td>\n",
       "      <td>4.0</td>\n",
       "      <td>4.0</td>\n",
       "      <td>4.0</td>\n",
       "      <td>4.0</td>\n",
       "      <td>4.0</td>\n",
       "      <td>2.0</td>\n",
       "      <td>4.0</td>\n",
       "      <td>55.0</td>\n",
       "      <td>46.0</td>\n",
       "      <td>55.0</td>\n",
       "      <td>3.0</td>\n",
       "      <td>2</td>\n",
       "      <td>0.005313</td>\n",
       "      <td>0.012498</td>\n",
       "      <td>0.021012</td>\n",
       "      <td>-0.038549</td>\n",
       "      <td>0.037075</td>\n",
       "      <td>0.032568</td>\n",
       "      <td>0.037667</td>\n",
       "      <td>0.015577</td>\n",
       "      <td>-0.022526</td>\n",
       "      <td>0.026104</td>\n",
       "      <td>0.060829</td>\n",
       "      <td>-0.003556</td>\n",
       "      <td>-0.056725</td>\n",
       "      <td>0.011289</td>\n",
       "      <td>0.021776</td>\n",
       "      <td>0.085440</td>\n",
       "      <td>-0.020117</td>\n",
       "      <td>0.005509</td>\n",
       "      <td>-0.055012</td>\n",
       "      <td>0.007663</td>\n",
       "      <td>-0.044131</td>\n",
       "      <td>0.001736</td>\n",
       "      <td>0.027248</td>\n",
       "      <td>0.065766</td>\n",
       "      <td>0.064116</td>\n",
       "      <td>0.026046</td>\n",
       "      <td>-0.040287</td>\n",
       "      <td>0.020598</td>\n",
       "      <td>-0.079916</td>\n",
       "      <td>0.00162</td>\n",
       "      <td>0.017478</td>\n",
       "      <td>0.010183</td>\n",
       "      <td>8.013047</td>\n",
       "      <td>2.817810</td>\n",
       "      <td>1.072277e+60</td>\n",
       "      <td>0.169476</td>\n",
       "      <td>7.878179</td>\n",
       "      <td>0.975501</td>\n",
       "      <td>2.089126</td>\n",
       "      <td>3.213356</td>\n",
       "      <td>5.164341e+31</td>\n",
       "      <td>1.614097e+102</td>\n",
       "      <td>782.043344</td>\n",
       "      <td>383544.0</td>\n",
       "      <td>383544.0</td>\n",
       "      <td>383544.0</td>\n",
       "      <td>383544.0</td>\n",
       "      <td>383544.0</td>\n",
       "      <td>383544.0</td>\n",
       "      <td>383544.0</td>\n",
       "      <td>383544.0</td>\n",
       "      <td>383544.0</td>\n",
       "      <td>383544.0</td>\n",
       "      <td>383544.0</td>\n",
       "      <td>383544.0</td>\n",
       "      <td>-0.033658</td>\n",
       "      <td>0.008939</td>\n",
       "      <td>-0.141485</td>\n",
       "      <td>0.035104</td>\n",
       "      <td>-10.275450</td>\n",
       "      <td>0.051458</td>\n",
       "      <td>24.780988</td>\n",
       "      <td>3848.289673</td>\n",
       "      <td>4.340771e+13</td>\n",
       "      <td>4.001631</td>\n",
       "      <td>2.021691</td>\n",
       "      <td>33.756311</td>\n",
       "      <td>0.513798</td>\n",
       "      <td>0.476344</td>\n",
       "      <td>0.556131</td>\n",
       "      <td>0.091879</td>\n",
       "      <td>40.038872</td>\n",
       "      <td>0.208968</td>\n",
       "      <td>104.244904</td>\n",
       "      <td>160.041496</td>\n",
       "      <td>2.491238e+13</td>\n",
       "      <td>1.961505</td>\n",
       "      <td>0.0</td>\n",
       "      <td>6.741570</td>\n",
       "      <td>-1.771064</td>\n",
       "      <td>-2.412578</td>\n",
       "      <td>-1.016421</td>\n",
       "      <td>0.0</td>\n",
       "      <td>-89.748867</td>\n",
       "      <td>0.0</td>\n",
       "      <td>0.0</td>\n",
       "      <td>3098.166748</td>\n",
       "      <td>0.000000e+00</td>\n",
       "      <td>1.0</td>\n",
       "      <td>2.0</td>\n",
       "      <td>21.0</td>\n",
       "      <td>-0.488205</td>\n",
       "      <td>-0.287686</td>\n",
       "      <td>-0.608817</td>\n",
       "      <td>0.001030</td>\n",
       "      <td>-38.661846</td>\n",
       "      <td>0.0</td>\n",
       "      <td>2.336633</td>\n",
       "      <td>3747.000000</td>\n",
       "      <td>2.183250e+13</td>\n",
       "      <td>2.0</td>\n",
       "      <td>2.0</td>\n",
       "      <td>27.0</td>\n",
       "      <td>-0.013372</td>\n",
       "      <td>0.006974</td>\n",
       "      <td>-0.174688</td>\n",
       "      <td>0.010069</td>\n",
       "      <td>-10.770489</td>\n",
       "      <td>0.0</td>\n",
       "      <td>6.271717</td>\n",
       "      <td>3818.0</td>\n",
       "      <td>4.367875e+13</td>\n",
       "      <td>4.0</td>\n",
       "      <td>2.0</td>\n",
       "      <td>33.0</td>\n",
       "      <td>0.224109</td>\n",
       "      <td>0.316078</td>\n",
       "      <td>0.244292</td>\n",
       "      <td>0.029585</td>\n",
       "      <td>14.188232</td>\n",
       "      <td>0.0</td>\n",
       "      <td>15.806186</td>\n",
       "      <td>3970.0</td>\n",
       "      <td>6.496438e+13</td>\n",
       "      <td>6.0</td>\n",
       "      <td>2.0</td>\n",
       "      <td>40.0</td>\n",
       "      <td>1.486703</td>\n",
       "      <td>2.112647</td>\n",
       "      <td>1.740934</td>\n",
       "      <td>3.806256</td>\n",
       "      <td>89.377281</td>\n",
       "      <td>1.0</td>\n",
       "      <td>2613.625</td>\n",
       "      <td>4180.0</td>\n",
       "      <td>8.639500e+13</td>\n",
       "      <td>7.0</td>\n",
       "      <td>3.0</td>\n",
       "      <td>51.0</td>\n",
       "      <td>4.0</td>\n",
       "      <td>0.0</td>\n",
       "      <td>5.0</td>\n",
       "      <td>2.01</td>\n",
       "      <td>84.386578</td>\n",
       "      <td>15.0</td>\n",
       "      <td>0.600000</td>\n",
       "      <td>50.631947</td>\n",
       "      <td>10.127520</td>\n",
       "      <td>1.499679</td>\n",
       "      <td>0.332267</td>\n",
       "      <td>1.190475</td>\n",
       "      <td>13746.944840</td>\n",
       "      <td>18.356260</td>\n",
       "      <td>29.370079</td>\n",
       "      <td>0.424811</td>\n",
       "      <td>55.251559</td>\n",
       "      <td>88.402684</td>\n",
       "      <td>1.157844</td>\n",
       "      <td>6.383063</td>\n",
       "      <td>1.553949</td>\n",
       "      <td>0.747453</td>\n",
       "      <td>254.00</td>\n",
       "      <td>15.049787</td>\n",
       "      <td>0.000000</td>\n",
       "      <td>0.0</td>\n",
       "      <td>168.10</td>\n",
       "      <td>0.998264</td>\n",
       "      <td>84.386578</td>\n",
       "      <td>1076.960</td>\n",
       "      <td>1018.540</td>\n",
       "      <td>2835.0</td>\n",
       "      <td>0.0</td>\n",
       "      <td>69.0885</td>\n",
       "      <td>138.0</td>\n",
       "      <td>8.176656</td>\n",
       "      <td>860.743100</td>\n",
       "      <td>255.0</td>\n",
       "      <td>00008ff9</td>\n",
       "      <td>0</td>\n",
       "      <td>0</td>\n",
       "      <td>0</td>\n",
       "      <td>0</td>\n",
       "      <td>0</td>\n",
       "      <td>0</td>\n",
       "      <td>0</td>\n",
       "      <td>0</td>\n",
       "      <td>Fall</td>\n",
       "      <td>0</td>\n",
       "      <td>0</td>\n",
       "    </tr>\n",
       "    <tr>\n",
       "      <th>1</th>\n",
       "      <td>9.0</td>\n",
       "      <td>0.0</td>\n",
       "      <td>65.0</td>\n",
       "      <td>14.035590</td>\n",
       "      <td>48.00</td>\n",
       "      <td>46.00</td>\n",
       "      <td>22.00</td>\n",
       "      <td>75.0</td>\n",
       "      <td>70.0</td>\n",
       "      <td>122.0</td>\n",
       "      <td>5.0</td>\n",
       "      <td>7.0</td>\n",
       "      <td>28.0</td>\n",
       "      <td>3.0</td>\n",
       "      <td>0.0</td>\n",
       "      <td>20.05</td>\n",
       "      <td>2.0</td>\n",
       "      <td>21.2</td>\n",
       "      <td>2.0</td>\n",
       "      <td>5.0</td>\n",
       "      <td>0.0</td>\n",
       "      <td>11.0</td>\n",
       "      <td>1.0</td>\n",
       "      <td>11.0</td>\n",
       "      <td>1.0</td>\n",
       "      <td>3.0</td>\n",
       "      <td>0.0</td>\n",
       "      <td>2.0</td>\n",
       "      <td>2.57949</td>\n",
       "      <td>14.0371</td>\n",
       "      <td>936.656</td>\n",
       "      <td>1498.65</td>\n",
       "      <td>6.01993</td>\n",
       "      <td>42.0291</td>\n",
       "      <td>12.8254</td>\n",
       "      <td>1.21172</td>\n",
       "      <td>3.97085</td>\n",
       "      <td>1.0</td>\n",
       "      <td>21.0352</td>\n",
       "      <td>14.97400</td>\n",
       "      <td>39.4497</td>\n",
       "      <td>15.4107</td>\n",
       "      <td>27.0552</td>\n",
       "      <td>2.01</td>\n",
       "      <td>2.340</td>\n",
       "      <td>0.0</td>\n",
       "      <td>0.0</td>\n",
       "      <td>0.0</td>\n",
       "      <td>0.0</td>\n",
       "      <td>0.0</td>\n",
       "      <td>0.0</td>\n",
       "      <td>0.0</td>\n",
       "      <td>0.0</td>\n",
       "      <td>0.0</td>\n",
       "      <td>0.0</td>\n",
       "      <td>0.0</td>\n",
       "      <td>0.0</td>\n",
       "      <td>0.0</td>\n",
       "      <td>0.0</td>\n",
       "      <td>0.0</td>\n",
       "      <td>0.0</td>\n",
       "      <td>0.0</td>\n",
       "      <td>0.0</td>\n",
       "      <td>0.0</td>\n",
       "      <td>0.0</td>\n",
       "      <td>0.0</td>\n",
       "      <td>46.0</td>\n",
       "      <td>64.0</td>\n",
       "      <td>0.0</td>\n",
       "      <td>0</td>\n",
       "      <td>0.005313</td>\n",
       "      <td>0.012498</td>\n",
       "      <td>0.021012</td>\n",
       "      <td>-0.038549</td>\n",
       "      <td>0.037075</td>\n",
       "      <td>0.032568</td>\n",
       "      <td>0.037667</td>\n",
       "      <td>0.015577</td>\n",
       "      <td>-0.022526</td>\n",
       "      <td>0.026104</td>\n",
       "      <td>0.060829</td>\n",
       "      <td>-0.003556</td>\n",
       "      <td>-0.056725</td>\n",
       "      <td>0.011289</td>\n",
       "      <td>0.021776</td>\n",
       "      <td>0.085440</td>\n",
       "      <td>-0.020117</td>\n",
       "      <td>0.005509</td>\n",
       "      <td>-0.055012</td>\n",
       "      <td>0.007663</td>\n",
       "      <td>-0.044131</td>\n",
       "      <td>0.001736</td>\n",
       "      <td>0.027248</td>\n",
       "      <td>0.065766</td>\n",
       "      <td>0.064116</td>\n",
       "      <td>0.026046</td>\n",
       "      <td>-0.040287</td>\n",
       "      <td>0.020598</td>\n",
       "      <td>-0.079916</td>\n",
       "      <td>0.00162</td>\n",
       "      <td>0.017478</td>\n",
       "      <td>0.010183</td>\n",
       "      <td>8.013047</td>\n",
       "      <td>2.817810</td>\n",
       "      <td>1.072277e+60</td>\n",
       "      <td>0.169476</td>\n",
       "      <td>7.878179</td>\n",
       "      <td>0.975501</td>\n",
       "      <td>2.089126</td>\n",
       "      <td>3.213356</td>\n",
       "      <td>5.164341e+31</td>\n",
       "      <td>1.614097e+102</td>\n",
       "      <td>782.043344</td>\n",
       "      <td>383544.0</td>\n",
       "      <td>383544.0</td>\n",
       "      <td>383544.0</td>\n",
       "      <td>383544.0</td>\n",
       "      <td>383544.0</td>\n",
       "      <td>383544.0</td>\n",
       "      <td>383544.0</td>\n",
       "      <td>383544.0</td>\n",
       "      <td>383544.0</td>\n",
       "      <td>383544.0</td>\n",
       "      <td>383544.0</td>\n",
       "      <td>383544.0</td>\n",
       "      <td>-0.033658</td>\n",
       "      <td>0.008939</td>\n",
       "      <td>-0.141485</td>\n",
       "      <td>0.035104</td>\n",
       "      <td>-10.275450</td>\n",
       "      <td>0.051458</td>\n",
       "      <td>24.780988</td>\n",
       "      <td>3848.289673</td>\n",
       "      <td>4.340771e+13</td>\n",
       "      <td>4.001631</td>\n",
       "      <td>2.021691</td>\n",
       "      <td>33.756311</td>\n",
       "      <td>0.513798</td>\n",
       "      <td>0.476344</td>\n",
       "      <td>0.556131</td>\n",
       "      <td>0.091879</td>\n",
       "      <td>40.038872</td>\n",
       "      <td>0.208968</td>\n",
       "      <td>104.244904</td>\n",
       "      <td>160.041496</td>\n",
       "      <td>2.491238e+13</td>\n",
       "      <td>1.961505</td>\n",
       "      <td>0.0</td>\n",
       "      <td>6.741570</td>\n",
       "      <td>-1.771064</td>\n",
       "      <td>-2.412578</td>\n",
       "      <td>-1.016421</td>\n",
       "      <td>0.0</td>\n",
       "      <td>-89.748867</td>\n",
       "      <td>0.0</td>\n",
       "      <td>0.0</td>\n",
       "      <td>3098.166748</td>\n",
       "      <td>0.000000e+00</td>\n",
       "      <td>1.0</td>\n",
       "      <td>2.0</td>\n",
       "      <td>21.0</td>\n",
       "      <td>-0.488205</td>\n",
       "      <td>-0.287686</td>\n",
       "      <td>-0.608817</td>\n",
       "      <td>0.001030</td>\n",
       "      <td>-38.661846</td>\n",
       "      <td>0.0</td>\n",
       "      <td>2.336633</td>\n",
       "      <td>3747.000000</td>\n",
       "      <td>2.183250e+13</td>\n",
       "      <td>2.0</td>\n",
       "      <td>2.0</td>\n",
       "      <td>27.0</td>\n",
       "      <td>-0.013372</td>\n",
       "      <td>0.006974</td>\n",
       "      <td>-0.174688</td>\n",
       "      <td>0.010069</td>\n",
       "      <td>-10.770489</td>\n",
       "      <td>0.0</td>\n",
       "      <td>6.271717</td>\n",
       "      <td>3818.0</td>\n",
       "      <td>4.367875e+13</td>\n",
       "      <td>4.0</td>\n",
       "      <td>2.0</td>\n",
       "      <td>33.0</td>\n",
       "      <td>0.224109</td>\n",
       "      <td>0.316078</td>\n",
       "      <td>0.244292</td>\n",
       "      <td>0.029585</td>\n",
       "      <td>14.188232</td>\n",
       "      <td>0.0</td>\n",
       "      <td>15.806186</td>\n",
       "      <td>3970.0</td>\n",
       "      <td>6.496438e+13</td>\n",
       "      <td>6.0</td>\n",
       "      <td>2.0</td>\n",
       "      <td>40.0</td>\n",
       "      <td>1.486703</td>\n",
       "      <td>2.112647</td>\n",
       "      <td>1.740934</td>\n",
       "      <td>3.806256</td>\n",
       "      <td>89.377281</td>\n",
       "      <td>1.0</td>\n",
       "      <td>2613.625</td>\n",
       "      <td>4180.0</td>\n",
       "      <td>8.639500e+13</td>\n",
       "      <td>7.0</td>\n",
       "      <td>3.0</td>\n",
       "      <td>51.0</td>\n",
       "      <td>4.0</td>\n",
       "      <td>2.0</td>\n",
       "      <td>6.0</td>\n",
       "      <td>2.01</td>\n",
       "      <td>126.320313</td>\n",
       "      <td>0.0</td>\n",
       "      <td>0.000000</td>\n",
       "      <td>0.000000</td>\n",
       "      <td>0.000000</td>\n",
       "      <td>3.229888</td>\n",
       "      <td>0.305154</td>\n",
       "      <td>1.458119</td>\n",
       "      <td>5950.914352</td>\n",
       "      <td>20.362087</td>\n",
       "      <td>32.579348</td>\n",
       "      <td>0.321056</td>\n",
       "      <td>66.734350</td>\n",
       "      <td>106.774989</td>\n",
       "      <td>1.097973</td>\n",
       "      <td>12.718037</td>\n",
       "      <td>1.700228</td>\n",
       "      <td>0.777492</td>\n",
       "      <td>414.00</td>\n",
       "      <td>29.496444</td>\n",
       "      <td>0.000000</td>\n",
       "      <td>0.0</td>\n",
       "      <td>198.00</td>\n",
       "      <td>1.149435</td>\n",
       "      <td>70.177951</td>\n",
       "      <td>975.200</td>\n",
       "      <td>922.300</td>\n",
       "      <td>2450.0</td>\n",
       "      <td>45.0</td>\n",
       "      <td>115.4286</td>\n",
       "      <td>0.0</td>\n",
       "      <td>0.000000</td>\n",
       "      <td>912.313368</td>\n",
       "      <td>325.0</td>\n",
       "      <td>000fd460</td>\n",
       "      <td>1</td>\n",
       "      <td>1</td>\n",
       "      <td>0</td>\n",
       "      <td>0</td>\n",
       "      <td>0</td>\n",
       "      <td>1</td>\n",
       "      <td>0</td>\n",
       "      <td>1</td>\n",
       "      <td>Fall</td>\n",
       "      <td>1</td>\n",
       "      <td>1</td>\n",
       "    </tr>\n",
       "    <tr>\n",
       "      <th>2</th>\n",
       "      <td>10.0</td>\n",
       "      <td>1.0</td>\n",
       "      <td>71.0</td>\n",
       "      <td>16.648696</td>\n",
       "      <td>56.50</td>\n",
       "      <td>75.60</td>\n",
       "      <td>46.19</td>\n",
       "      <td>65.0</td>\n",
       "      <td>94.0</td>\n",
       "      <td>117.0</td>\n",
       "      <td>5.0</td>\n",
       "      <td>7.0</td>\n",
       "      <td>33.0</td>\n",
       "      <td>20.0</td>\n",
       "      <td>1.0</td>\n",
       "      <td>10.20</td>\n",
       "      <td>1.0</td>\n",
       "      <td>14.7</td>\n",
       "      <td>2.0</td>\n",
       "      <td>7.0</td>\n",
       "      <td>1.0</td>\n",
       "      <td>10.0</td>\n",
       "      <td>1.0</td>\n",
       "      <td>10.0</td>\n",
       "      <td>1.0</td>\n",
       "      <td>5.0</td>\n",
       "      <td>0.0</td>\n",
       "      <td>3.0</td>\n",
       "      <td>3.92272</td>\n",
       "      <td>17.9665</td>\n",
       "      <td>1115.380</td>\n",
       "      <td>1863.98</td>\n",
       "      <td>15.92800</td>\n",
       "      <td>61.0662</td>\n",
       "      <td>14.0925</td>\n",
       "      <td>3.69863</td>\n",
       "      <td>16.88000</td>\n",
       "      <td>2.0</td>\n",
       "      <td>28.8558</td>\n",
       "      <td>16.43880</td>\n",
       "      <td>56.9964</td>\n",
       "      <td>27.4151</td>\n",
       "      <td>44.9870</td>\n",
       "      <td>2.01</td>\n",
       "      <td>2.170</td>\n",
       "      <td>5.0</td>\n",
       "      <td>2.0</td>\n",
       "      <td>2.0</td>\n",
       "      <td>1.0</td>\n",
       "      <td>2.0</td>\n",
       "      <td>1.0</td>\n",
       "      <td>1.0</td>\n",
       "      <td>2.0</td>\n",
       "      <td>1.0</td>\n",
       "      <td>1.0</td>\n",
       "      <td>1.0</td>\n",
       "      <td>0.0</td>\n",
       "      <td>1.0</td>\n",
       "      <td>1.0</td>\n",
       "      <td>1.0</td>\n",
       "      <td>0.0</td>\n",
       "      <td>2.0</td>\n",
       "      <td>2.0</td>\n",
       "      <td>1.0</td>\n",
       "      <td>1.0</td>\n",
       "      <td>28.0</td>\n",
       "      <td>38.0</td>\n",
       "      <td>54.0</td>\n",
       "      <td>2.0</td>\n",
       "      <td>0</td>\n",
       "      <td>0.005313</td>\n",
       "      <td>0.012498</td>\n",
       "      <td>0.021012</td>\n",
       "      <td>-0.038549</td>\n",
       "      <td>0.037075</td>\n",
       "      <td>0.032568</td>\n",
       "      <td>0.037667</td>\n",
       "      <td>0.015577</td>\n",
       "      <td>-0.022526</td>\n",
       "      <td>0.026104</td>\n",
       "      <td>0.060829</td>\n",
       "      <td>-0.003556</td>\n",
       "      <td>-0.056725</td>\n",
       "      <td>0.011289</td>\n",
       "      <td>0.021776</td>\n",
       "      <td>0.085440</td>\n",
       "      <td>-0.020117</td>\n",
       "      <td>0.005509</td>\n",
       "      <td>-0.055012</td>\n",
       "      <td>0.007663</td>\n",
       "      <td>-0.044131</td>\n",
       "      <td>0.001736</td>\n",
       "      <td>0.027248</td>\n",
       "      <td>0.065766</td>\n",
       "      <td>0.064116</td>\n",
       "      <td>0.026046</td>\n",
       "      <td>-0.040287</td>\n",
       "      <td>0.020598</td>\n",
       "      <td>-0.079916</td>\n",
       "      <td>0.00162</td>\n",
       "      <td>0.017478</td>\n",
       "      <td>0.010183</td>\n",
       "      <td>8.013047</td>\n",
       "      <td>2.817810</td>\n",
       "      <td>1.072277e+60</td>\n",
       "      <td>0.169476</td>\n",
       "      <td>7.878179</td>\n",
       "      <td>0.975501</td>\n",
       "      <td>2.089126</td>\n",
       "      <td>3.213356</td>\n",
       "      <td>5.164341e+31</td>\n",
       "      <td>1.614097e+102</td>\n",
       "      <td>782.043344</td>\n",
       "      <td>383544.0</td>\n",
       "      <td>383544.0</td>\n",
       "      <td>383544.0</td>\n",
       "      <td>383544.0</td>\n",
       "      <td>383544.0</td>\n",
       "      <td>383544.0</td>\n",
       "      <td>383544.0</td>\n",
       "      <td>383544.0</td>\n",
       "      <td>383544.0</td>\n",
       "      <td>383544.0</td>\n",
       "      <td>383544.0</td>\n",
       "      <td>383544.0</td>\n",
       "      <td>-0.033658</td>\n",
       "      <td>0.008939</td>\n",
       "      <td>-0.141485</td>\n",
       "      <td>0.035104</td>\n",
       "      <td>-10.275450</td>\n",
       "      <td>0.051458</td>\n",
       "      <td>24.780988</td>\n",
       "      <td>3848.289673</td>\n",
       "      <td>4.340771e+13</td>\n",
       "      <td>4.001631</td>\n",
       "      <td>2.021691</td>\n",
       "      <td>33.756311</td>\n",
       "      <td>0.513798</td>\n",
       "      <td>0.476344</td>\n",
       "      <td>0.556131</td>\n",
       "      <td>0.091879</td>\n",
       "      <td>40.038872</td>\n",
       "      <td>0.208968</td>\n",
       "      <td>104.244904</td>\n",
       "      <td>160.041496</td>\n",
       "      <td>2.491238e+13</td>\n",
       "      <td>1.961505</td>\n",
       "      <td>0.0</td>\n",
       "      <td>6.741570</td>\n",
       "      <td>-1.771064</td>\n",
       "      <td>-2.412578</td>\n",
       "      <td>-1.016421</td>\n",
       "      <td>0.0</td>\n",
       "      <td>-89.748867</td>\n",
       "      <td>0.0</td>\n",
       "      <td>0.0</td>\n",
       "      <td>3098.166748</td>\n",
       "      <td>0.000000e+00</td>\n",
       "      <td>1.0</td>\n",
       "      <td>2.0</td>\n",
       "      <td>21.0</td>\n",
       "      <td>-0.488205</td>\n",
       "      <td>-0.287686</td>\n",
       "      <td>-0.608817</td>\n",
       "      <td>0.001030</td>\n",
       "      <td>-38.661846</td>\n",
       "      <td>0.0</td>\n",
       "      <td>2.336633</td>\n",
       "      <td>3747.000000</td>\n",
       "      <td>2.183250e+13</td>\n",
       "      <td>2.0</td>\n",
       "      <td>2.0</td>\n",
       "      <td>27.0</td>\n",
       "      <td>-0.013372</td>\n",
       "      <td>0.006974</td>\n",
       "      <td>-0.174688</td>\n",
       "      <td>0.010069</td>\n",
       "      <td>-10.770489</td>\n",
       "      <td>0.0</td>\n",
       "      <td>6.271717</td>\n",
       "      <td>3818.0</td>\n",
       "      <td>4.367875e+13</td>\n",
       "      <td>4.0</td>\n",
       "      <td>2.0</td>\n",
       "      <td>33.0</td>\n",
       "      <td>0.224109</td>\n",
       "      <td>0.316078</td>\n",
       "      <td>0.244292</td>\n",
       "      <td>0.029585</td>\n",
       "      <td>14.188232</td>\n",
       "      <td>0.0</td>\n",
       "      <td>15.806186</td>\n",
       "      <td>3970.0</td>\n",
       "      <td>6.496438e+13</td>\n",
       "      <td>6.0</td>\n",
       "      <td>2.0</td>\n",
       "      <td>40.0</td>\n",
       "      <td>1.486703</td>\n",
       "      <td>2.112647</td>\n",
       "      <td>1.740934</td>\n",
       "      <td>3.806256</td>\n",
       "      <td>89.377281</td>\n",
       "      <td>1.0</td>\n",
       "      <td>2613.625</td>\n",
       "      <td>4180.0</td>\n",
       "      <td>8.639500e+13</td>\n",
       "      <td>7.0</td>\n",
       "      <td>3.0</td>\n",
       "      <td>51.0</td>\n",
       "      <td>3.0</td>\n",
       "      <td>2.0</td>\n",
       "      <td>7.0</td>\n",
       "      <td>2.01</td>\n",
       "      <td>166.486961</td>\n",
       "      <td>20.0</td>\n",
       "      <td>0.200000</td>\n",
       "      <td>33.297392</td>\n",
       "      <td>3.593300</td>\n",
       "      <td>0.834864</td>\n",
       "      <td>0.219113</td>\n",
       "      <td>1.266953</td>\n",
       "      <td>31463.982400</td>\n",
       "      <td>14.753704</td>\n",
       "      <td>24.655820</td>\n",
       "      <td>0.485223</td>\n",
       "      <td>66.995036</td>\n",
       "      <td>111.959519</td>\n",
       "      <td>1.646682</td>\n",
       "      <td>7.412231</td>\n",
       "      <td>1.680485</td>\n",
       "      <td>0.641425</td>\n",
       "      <td>756.00</td>\n",
       "      <td>45.408962</td>\n",
       "      <td>16.648696</td>\n",
       "      <td>94.0</td>\n",
       "      <td>461.90</td>\n",
       "      <td>1.443168</td>\n",
       "      <td>83.243480</td>\n",
       "      <td>1111.320</td>\n",
       "      <td>771.120</td>\n",
       "      <td>3760.0</td>\n",
       "      <td>70.0</td>\n",
       "      <td>140.9250</td>\n",
       "      <td>76.0</td>\n",
       "      <td>4.564922</td>\n",
       "      <td>1182.057420</td>\n",
       "      <td>355.0</td>\n",
       "      <td>00105258</td>\n",
       "      <td>1</td>\n",
       "      <td>2</td>\n",
       "      <td>0</td>\n",
       "      <td>1</td>\n",
       "      <td>0</td>\n",
       "      <td>2</td>\n",
       "      <td>0</td>\n",
       "      <td>2</td>\n",
       "      <td>Fall</td>\n",
       "      <td>1</td>\n",
       "      <td>1</td>\n",
       "    </tr>\n",
       "    <tr>\n",
       "      <th>3</th>\n",
       "      <td>9.0</td>\n",
       "      <td>0.0</td>\n",
       "      <td>71.0</td>\n",
       "      <td>18.292347</td>\n",
       "      <td>56.00</td>\n",
       "      <td>81.60</td>\n",
       "      <td>48.54</td>\n",
       "      <td>60.0</td>\n",
       "      <td>97.0</td>\n",
       "      <td>117.0</td>\n",
       "      <td>6.0</td>\n",
       "      <td>9.0</td>\n",
       "      <td>37.0</td>\n",
       "      <td>18.0</td>\n",
       "      <td>1.0</td>\n",
       "      <td>20.05</td>\n",
       "      <td>2.0</td>\n",
       "      <td>21.2</td>\n",
       "      <td>2.0</td>\n",
       "      <td>5.0</td>\n",
       "      <td>0.0</td>\n",
       "      <td>7.0</td>\n",
       "      <td>0.0</td>\n",
       "      <td>7.0</td>\n",
       "      <td>0.0</td>\n",
       "      <td>7.0</td>\n",
       "      <td>1.0</td>\n",
       "      <td>3.0</td>\n",
       "      <td>3.84191</td>\n",
       "      <td>18.2943</td>\n",
       "      <td>1131.430</td>\n",
       "      <td>1923.44</td>\n",
       "      <td>15.59250</td>\n",
       "      <td>62.7757</td>\n",
       "      <td>14.0740</td>\n",
       "      <td>4.22033</td>\n",
       "      <td>18.82430</td>\n",
       "      <td>2.0</td>\n",
       "      <td>30.4041</td>\n",
       "      <td>16.77900</td>\n",
       "      <td>58.9338</td>\n",
       "      <td>26.4798</td>\n",
       "      <td>45.9966</td>\n",
       "      <td>2.01</td>\n",
       "      <td>2.451</td>\n",
       "      <td>4.0</td>\n",
       "      <td>2.0</td>\n",
       "      <td>4.0</td>\n",
       "      <td>0.0</td>\n",
       "      <td>5.0</td>\n",
       "      <td>1.0</td>\n",
       "      <td>0.0</td>\n",
       "      <td>3.0</td>\n",
       "      <td>2.0</td>\n",
       "      <td>2.0</td>\n",
       "      <td>3.0</td>\n",
       "      <td>0.0</td>\n",
       "      <td>3.0</td>\n",
       "      <td>0.0</td>\n",
       "      <td>0.0</td>\n",
       "      <td>3.0</td>\n",
       "      <td>4.0</td>\n",
       "      <td>3.0</td>\n",
       "      <td>4.0</td>\n",
       "      <td>1.0</td>\n",
       "      <td>44.0</td>\n",
       "      <td>31.0</td>\n",
       "      <td>45.0</td>\n",
       "      <td>0.0</td>\n",
       "      <td>1</td>\n",
       "      <td>0.587671</td>\n",
       "      <td>-1.036325</td>\n",
       "      <td>0.608426</td>\n",
       "      <td>-2.259224</td>\n",
       "      <td>0.172130</td>\n",
       "      <td>-0.822569</td>\n",
       "      <td>1.328282</td>\n",
       "      <td>1.238078</td>\n",
       "      <td>-0.646493</td>\n",
       "      <td>-0.263914</td>\n",
       "      <td>0.950456</td>\n",
       "      <td>0.758038</td>\n",
       "      <td>-0.472496</td>\n",
       "      <td>1.023212</td>\n",
       "      <td>0.082439</td>\n",
       "      <td>-0.795746</td>\n",
       "      <td>-1.025998</td>\n",
       "      <td>-0.864955</td>\n",
       "      <td>1.680336</td>\n",
       "      <td>0.039639</td>\n",
       "      <td>0.266968</td>\n",
       "      <td>0.007842</td>\n",
       "      <td>0.822864</td>\n",
       "      <td>0.698698</td>\n",
       "      <td>-0.005968</td>\n",
       "      <td>-0.749741</td>\n",
       "      <td>-0.045138</td>\n",
       "      <td>-0.130245</td>\n",
       "      <td>0.607070</td>\n",
       "      <td>-0.82167</td>\n",
       "      <td>1.739423</td>\n",
       "      <td>-0.138876</td>\n",
       "      <td>8.272084</td>\n",
       "      <td>4.197842</td>\n",
       "      <td>8.161620e+59</td>\n",
       "      <td>0.126963</td>\n",
       "      <td>8.138407</td>\n",
       "      <td>0.986268</td>\n",
       "      <td>2.184901</td>\n",
       "      <td>3.150090</td>\n",
       "      <td>5.434934e+31</td>\n",
       "      <td>2.016626e+102</td>\n",
       "      <td>786.874140</td>\n",
       "      <td>43330.0</td>\n",
       "      <td>43330.0</td>\n",
       "      <td>43330.0</td>\n",
       "      <td>43330.0</td>\n",
       "      <td>43330.0</td>\n",
       "      <td>43330.0</td>\n",
       "      <td>43330.0</td>\n",
       "      <td>43330.0</td>\n",
       "      <td>43330.0</td>\n",
       "      <td>43330.0</td>\n",
       "      <td>43330.0</td>\n",
       "      <td>43330.0</td>\n",
       "      <td>-0.316384</td>\n",
       "      <td>0.016009</td>\n",
       "      <td>-0.167890</td>\n",
       "      <td>0.047388</td>\n",
       "      <td>-10.580416</td>\n",
       "      <td>0.000000</td>\n",
       "      <td>42.296310</td>\n",
       "      <td>4053.579102</td>\n",
       "      <td>5.046215e+13</td>\n",
       "      <td>4.470182</td>\n",
       "      <td>3.000000</td>\n",
       "      <td>53.201683</td>\n",
       "      <td>0.453665</td>\n",
       "      <td>0.502702</td>\n",
       "      <td>0.585710</td>\n",
       "      <td>0.106351</td>\n",
       "      <td>42.947170</td>\n",
       "      <td>0.000000</td>\n",
       "      <td>208.168976</td>\n",
       "      <td>112.404045</td>\n",
       "      <td>1.942842e+13</td>\n",
       "      <td>1.931421</td>\n",
       "      <td>0.0</td>\n",
       "      <td>14.244914</td>\n",
       "      <td>-1.746094</td>\n",
       "      <td>-2.905339</td>\n",
       "      <td>-1.048372</td>\n",
       "      <td>0.0</td>\n",
       "      <td>-89.833092</td>\n",
       "      <td>0.0</td>\n",
       "      <td>0.0</td>\n",
       "      <td>3824.000000</td>\n",
       "      <td>5.500000e+10</td>\n",
       "      <td>1.0</td>\n",
       "      <td>3.0</td>\n",
       "      <td>41.0</td>\n",
       "      <td>-0.684180</td>\n",
       "      <td>-0.309863</td>\n",
       "      <td>-0.649974</td>\n",
       "      <td>0.006432</td>\n",
       "      <td>-41.541863</td>\n",
       "      <td>0.0</td>\n",
       "      <td>2.392969</td>\n",
       "      <td>4028.666748</td>\n",
       "      <td>3.689000e+13</td>\n",
       "      <td>3.0</td>\n",
       "      <td>3.0</td>\n",
       "      <td>42.0</td>\n",
       "      <td>-0.366849</td>\n",
       "      <td>0.024974</td>\n",
       "      <td>-0.245378</td>\n",
       "      <td>0.023637</td>\n",
       "      <td>-15.086617</td>\n",
       "      <td>0.0</td>\n",
       "      <td>6.926828</td>\n",
       "      <td>4070.0</td>\n",
       "      <td>5.347750e+13</td>\n",
       "      <td>5.0</td>\n",
       "      <td>3.0</td>\n",
       "      <td>50.0</td>\n",
       "      <td>-0.010677</td>\n",
       "      <td>0.400677</td>\n",
       "      <td>0.204727</td>\n",
       "      <td>0.041420</td>\n",
       "      <td>12.220764</td>\n",
       "      <td>0.0</td>\n",
       "      <td>15.000000</td>\n",
       "      <td>4147.0</td>\n",
       "      <td>6.640875e+13</td>\n",
       "      <td>6.0</td>\n",
       "      <td>3.0</td>\n",
       "      <td>53.0</td>\n",
       "      <td>1.507865</td>\n",
       "      <td>1.666354</td>\n",
       "      <td>1.546979</td>\n",
       "      <td>4.004276</td>\n",
       "      <td>89.751656</td>\n",
       "      <td>0.0</td>\n",
       "      <td>2633.250</td>\n",
       "      <td>4188.5</td>\n",
       "      <td>8.611000e+13</td>\n",
       "      <td>7.0</td>\n",
       "      <td>3.0</td>\n",
       "      <td>85.0</td>\n",
       "      <td>4.0</td>\n",
       "      <td>0.0</td>\n",
       "      <td>6.0</td>\n",
       "      <td>2.01</td>\n",
       "      <td>164.631122</td>\n",
       "      <td>0.0</td>\n",
       "      <td>0.000000</td>\n",
       "      <td>0.000000</td>\n",
       "      <td>0.000000</td>\n",
       "      <td>0.747651</td>\n",
       "      <td>0.224196</td>\n",
       "      <td>1.281264</td>\n",
       "      <td>36207.411592</td>\n",
       "      <td>13.865564</td>\n",
       "      <td>23.571569</td>\n",
       "      <td>0.472854</td>\n",
       "      <td>61.852643</td>\n",
       "      <td>105.149985</td>\n",
       "      <td>1.447589</td>\n",
       "      <td>6.274343</td>\n",
       "      <td>1.774044</td>\n",
       "      <td>0.661008</td>\n",
       "      <td>734.40</td>\n",
       "      <td>40.147937</td>\n",
       "      <td>0.000000</td>\n",
       "      <td>0.0</td>\n",
       "      <td>436.86</td>\n",
       "      <td>1.378073</td>\n",
       "      <td>109.754082</td>\n",
       "      <td>1729.920</td>\n",
       "      <td>1636.080</td>\n",
       "      <td>4462.0</td>\n",
       "      <td>45.0</td>\n",
       "      <td>126.6660</td>\n",
       "      <td>0.0</td>\n",
       "      <td>0.000000</td>\n",
       "      <td>1298.756633</td>\n",
       "      <td>426.0</td>\n",
       "      <td>00115b9f</td>\n",
       "      <td>2</td>\n",
       "      <td>2</td>\n",
       "      <td>1</td>\n",
       "      <td>2</td>\n",
       "      <td>1</td>\n",
       "      <td>3</td>\n",
       "      <td>0</td>\n",
       "      <td>3</td>\n",
       "      <td>Summer</td>\n",
       "      <td>2</td>\n",
       "      <td>2</td>\n",
       "    </tr>\n",
       "    <tr>\n",
       "      <th>4</th>\n",
       "      <td>18.0</td>\n",
       "      <td>1.0</td>\n",
       "      <td>65.0</td>\n",
       "      <td>21.319732</td>\n",
       "      <td>64.22</td>\n",
       "      <td>125.06</td>\n",
       "      <td>67.49</td>\n",
       "      <td>68.0</td>\n",
       "      <td>81.0</td>\n",
       "      <td>114.0</td>\n",
       "      <td>5.0</td>\n",
       "      <td>7.0</td>\n",
       "      <td>28.0</td>\n",
       "      <td>9.0</td>\n",
       "      <td>0.0</td>\n",
       "      <td>20.05</td>\n",
       "      <td>2.0</td>\n",
       "      <td>21.2</td>\n",
       "      <td>2.0</td>\n",
       "      <td>3.0</td>\n",
       "      <td>0.0</td>\n",
       "      <td>9.0</td>\n",
       "      <td>1.0</td>\n",
       "      <td>9.0</td>\n",
       "      <td>1.0</td>\n",
       "      <td>10.0</td>\n",
       "      <td>1.0</td>\n",
       "      <td>3.0</td>\n",
       "      <td>3.92272</td>\n",
       "      <td>17.9665</td>\n",
       "      <td>1115.380</td>\n",
       "      <td>1863.98</td>\n",
       "      <td>15.92800</td>\n",
       "      <td>61.0662</td>\n",
       "      <td>14.0925</td>\n",
       "      <td>3.69863</td>\n",
       "      <td>24.32000</td>\n",
       "      <td>2.0</td>\n",
       "      <td>28.8558</td>\n",
       "      <td>16.43880</td>\n",
       "      <td>56.9964</td>\n",
       "      <td>27.4151</td>\n",
       "      <td>44.9870</td>\n",
       "      <td>1.04</td>\n",
       "      <td>2.540</td>\n",
       "      <td>2.0</td>\n",
       "      <td>2.0</td>\n",
       "      <td>2.0</td>\n",
       "      <td>0.0</td>\n",
       "      <td>2.0</td>\n",
       "      <td>1.0</td>\n",
       "      <td>0.0</td>\n",
       "      <td>1.0</td>\n",
       "      <td>1.0</td>\n",
       "      <td>1.0</td>\n",
       "      <td>2.0</td>\n",
       "      <td>0.0</td>\n",
       "      <td>1.0</td>\n",
       "      <td>1.0</td>\n",
       "      <td>1.0</td>\n",
       "      <td>1.0</td>\n",
       "      <td>1.0</td>\n",
       "      <td>1.0</td>\n",
       "      <td>1.0</td>\n",
       "      <td>1.0</td>\n",
       "      <td>26.0</td>\n",
       "      <td>48.0</td>\n",
       "      <td>57.0</td>\n",
       "      <td>1.0</td>\n",
       "      <td>0</td>\n",
       "      <td>0.005313</td>\n",
       "      <td>0.012498</td>\n",
       "      <td>0.021012</td>\n",
       "      <td>-0.038549</td>\n",
       "      <td>0.037075</td>\n",
       "      <td>0.032568</td>\n",
       "      <td>0.037667</td>\n",
       "      <td>0.015577</td>\n",
       "      <td>-0.022526</td>\n",
       "      <td>0.026104</td>\n",
       "      <td>0.060829</td>\n",
       "      <td>-0.003556</td>\n",
       "      <td>-0.056725</td>\n",
       "      <td>0.011289</td>\n",
       "      <td>0.021776</td>\n",
       "      <td>0.085440</td>\n",
       "      <td>-0.020117</td>\n",
       "      <td>0.005509</td>\n",
       "      <td>-0.055012</td>\n",
       "      <td>0.007663</td>\n",
       "      <td>-0.044131</td>\n",
       "      <td>0.001736</td>\n",
       "      <td>0.027248</td>\n",
       "      <td>0.065766</td>\n",
       "      <td>0.064116</td>\n",
       "      <td>0.026046</td>\n",
       "      <td>-0.040287</td>\n",
       "      <td>0.020598</td>\n",
       "      <td>-0.079916</td>\n",
       "      <td>0.00162</td>\n",
       "      <td>0.017478</td>\n",
       "      <td>0.010183</td>\n",
       "      <td>8.013047</td>\n",
       "      <td>2.817810</td>\n",
       "      <td>1.072277e+60</td>\n",
       "      <td>0.169476</td>\n",
       "      <td>7.878179</td>\n",
       "      <td>0.975501</td>\n",
       "      <td>2.089126</td>\n",
       "      <td>3.213356</td>\n",
       "      <td>5.164341e+31</td>\n",
       "      <td>1.614097e+102</td>\n",
       "      <td>782.043344</td>\n",
       "      <td>383544.0</td>\n",
       "      <td>383544.0</td>\n",
       "      <td>383544.0</td>\n",
       "      <td>383544.0</td>\n",
       "      <td>383544.0</td>\n",
       "      <td>383544.0</td>\n",
       "      <td>383544.0</td>\n",
       "      <td>383544.0</td>\n",
       "      <td>383544.0</td>\n",
       "      <td>383544.0</td>\n",
       "      <td>383544.0</td>\n",
       "      <td>383544.0</td>\n",
       "      <td>-0.033658</td>\n",
       "      <td>0.008939</td>\n",
       "      <td>-0.141485</td>\n",
       "      <td>0.035104</td>\n",
       "      <td>-10.275450</td>\n",
       "      <td>0.051458</td>\n",
       "      <td>24.780988</td>\n",
       "      <td>3848.289673</td>\n",
       "      <td>4.340771e+13</td>\n",
       "      <td>4.001631</td>\n",
       "      <td>2.021691</td>\n",
       "      <td>33.756311</td>\n",
       "      <td>0.513798</td>\n",
       "      <td>0.476344</td>\n",
       "      <td>0.556131</td>\n",
       "      <td>0.091879</td>\n",
       "      <td>40.038872</td>\n",
       "      <td>0.208968</td>\n",
       "      <td>104.244904</td>\n",
       "      <td>160.041496</td>\n",
       "      <td>2.491238e+13</td>\n",
       "      <td>1.961505</td>\n",
       "      <td>0.0</td>\n",
       "      <td>6.741570</td>\n",
       "      <td>-1.771064</td>\n",
       "      <td>-2.412578</td>\n",
       "      <td>-1.016421</td>\n",
       "      <td>0.0</td>\n",
       "      <td>-89.748867</td>\n",
       "      <td>0.0</td>\n",
       "      <td>0.0</td>\n",
       "      <td>3098.166748</td>\n",
       "      <td>0.000000e+00</td>\n",
       "      <td>1.0</td>\n",
       "      <td>2.0</td>\n",
       "      <td>21.0</td>\n",
       "      <td>-0.488205</td>\n",
       "      <td>-0.287686</td>\n",
       "      <td>-0.608817</td>\n",
       "      <td>0.001030</td>\n",
       "      <td>-38.661846</td>\n",
       "      <td>0.0</td>\n",
       "      <td>2.336633</td>\n",
       "      <td>3747.000000</td>\n",
       "      <td>2.183250e+13</td>\n",
       "      <td>2.0</td>\n",
       "      <td>2.0</td>\n",
       "      <td>27.0</td>\n",
       "      <td>-0.013372</td>\n",
       "      <td>0.006974</td>\n",
       "      <td>-0.174688</td>\n",
       "      <td>0.010069</td>\n",
       "      <td>-10.770489</td>\n",
       "      <td>0.0</td>\n",
       "      <td>6.271717</td>\n",
       "      <td>3818.0</td>\n",
       "      <td>4.367875e+13</td>\n",
       "      <td>4.0</td>\n",
       "      <td>2.0</td>\n",
       "      <td>33.0</td>\n",
       "      <td>0.224109</td>\n",
       "      <td>0.316078</td>\n",
       "      <td>0.244292</td>\n",
       "      <td>0.029585</td>\n",
       "      <td>14.188232</td>\n",
       "      <td>0.0</td>\n",
       "      <td>15.806186</td>\n",
       "      <td>3970.0</td>\n",
       "      <td>6.496438e+13</td>\n",
       "      <td>6.0</td>\n",
       "      <td>2.0</td>\n",
       "      <td>40.0</td>\n",
       "      <td>1.486703</td>\n",
       "      <td>2.112647</td>\n",
       "      <td>1.740934</td>\n",
       "      <td>3.806256</td>\n",
       "      <td>89.377281</td>\n",
       "      <td>1.0</td>\n",
       "      <td>2613.625</td>\n",
       "      <td>4180.0</td>\n",
       "      <td>8.639500e+13</td>\n",
       "      <td>7.0</td>\n",
       "      <td>3.0</td>\n",
       "      <td>51.0</td>\n",
       "      <td>4.0</td>\n",
       "      <td>2.0</td>\n",
       "      <td>7.0</td>\n",
       "      <td>1.04</td>\n",
       "      <td>383.755177</td>\n",
       "      <td>18.0</td>\n",
       "      <td>0.055556</td>\n",
       "      <td>21.319732</td>\n",
       "      <td>0.998139</td>\n",
       "      <td>0.579461</td>\n",
       "      <td>0.152082</td>\n",
       "      <td>1.266953</td>\n",
       "      <td>45331.993600</td>\n",
       "      <td>8.918759</td>\n",
       "      <td>14.904686</td>\n",
       "      <td>0.426893</td>\n",
       "      <td>52.316793</td>\n",
       "      <td>87.429804</td>\n",
       "      <td>1.285903</td>\n",
       "      <td>7.412231</td>\n",
       "      <td>2.779914</td>\n",
       "      <td>0.641425</td>\n",
       "      <td>2251.08</td>\n",
       "      <td>105.586693</td>\n",
       "      <td>21.319732</td>\n",
       "      <td>81.0</td>\n",
       "      <td>1214.82</td>\n",
       "      <td>1.755730</td>\n",
       "      <td>106.598660</td>\n",
       "      <td>2651.272</td>\n",
       "      <td>2507.453</td>\n",
       "      <td>2835.0</td>\n",
       "      <td>54.0</td>\n",
       "      <td>253.6650</td>\n",
       "      <td>48.0</td>\n",
       "      <td>2.251435</td>\n",
       "      <td>1385.782585</td>\n",
       "      <td>325.0</td>\n",
       "      <td>0016bb22</td>\n",
       "      <td>3</td>\n",
       "      <td>3</td>\n",
       "      <td>2</td>\n",
       "      <td>0</td>\n",
       "      <td>2</td>\n",
       "      <td>2</td>\n",
       "      <td>1</td>\n",
       "      <td>0</td>\n",
       "      <td>NaN</td>\n",
       "      <td>0</td>\n",
       "      <td>3</td>\n",
       "    </tr>\n",
       "  </tbody>\n",
       "</table>\n",
       "</div>"
      ],
      "text/plain": [
       "   Basic_Demos-Age  Basic_Demos-Sex  CGAS-CGAS_Score  Physical-BMI  \\\n",
       "0              5.0              0.0             51.0     16.877316   \n",
       "1              9.0              0.0             65.0     14.035590   \n",
       "2             10.0              1.0             71.0     16.648696   \n",
       "3              9.0              0.0             71.0     18.292347   \n",
       "4             18.0              1.0             65.0     21.319732   \n",
       "\n",
       "   Physical-Height  Physical-Weight  Physical-Waist_Circumference  \\\n",
       "0            46.00            50.80                         33.62   \n",
       "1            48.00            46.00                         22.00   \n",
       "2            56.50            75.60                         46.19   \n",
       "3            56.00            81.60                         48.54   \n",
       "4            64.22           125.06                         67.49   \n",
       "\n",
       "   Physical-Diastolic_BP  Physical-HeartRate  Physical-Systolic_BP  \\\n",
       "0                   68.0                81.0                 114.0   \n",
       "1                   75.0                70.0                 122.0   \n",
       "2                   65.0                94.0                 117.0   \n",
       "3                   60.0                97.0                 117.0   \n",
       "4                   68.0                81.0                 114.0   \n",
       "\n",
       "   Fitness_Endurance-Max_Stage  Fitness_Endurance-Time_Mins  \\\n",
       "0                          5.0                          7.0   \n",
       "1                          5.0                          7.0   \n",
       "2                          5.0                          7.0   \n",
       "3                          6.0                          9.0   \n",
       "4                          5.0                          7.0   \n",
       "\n",
       "   Fitness_Endurance-Time_Sec  FGC-FGC_CU  FGC-FGC_CU_Zone  FGC-FGC_GSND  \\\n",
       "0                        28.0         0.0              0.0         20.05   \n",
       "1                        28.0         3.0              0.0         20.05   \n",
       "2                        33.0        20.0              1.0         10.20   \n",
       "3                        37.0        18.0              1.0         20.05   \n",
       "4                        28.0         9.0              0.0         20.05   \n",
       "\n",
       "   FGC-FGC_GSND_Zone  FGC-FGC_GSD  FGC-FGC_GSD_Zone  FGC-FGC_PU  \\\n",
       "0                2.0         21.2               2.0         0.0   \n",
       "1                2.0         21.2               2.0         5.0   \n",
       "2                1.0         14.7               2.0         7.0   \n",
       "3                2.0         21.2               2.0         5.0   \n",
       "4                2.0         21.2               2.0         3.0   \n",
       "\n",
       "   FGC-FGC_PU_Zone  FGC-FGC_SRL  FGC-FGC_SRL_Zone  FGC-FGC_SRR  \\\n",
       "0              0.0          7.0               0.0          6.0   \n",
       "1              0.0         11.0               1.0         11.0   \n",
       "2              1.0         10.0               1.0         10.0   \n",
       "3              0.0          7.0               0.0          7.0   \n",
       "4              0.0          9.0               1.0          9.0   \n",
       "\n",
       "   FGC-FGC_SRR_Zone  FGC-FGC_TL  FGC-FGC_TL_Zone  BIA-BIA_Activity_Level_num  \\\n",
       "0               0.0         6.0              1.0                         2.0   \n",
       "1               1.0         3.0              0.0                         2.0   \n",
       "2               1.0         5.0              0.0                         3.0   \n",
       "3               0.0         7.0              1.0                         3.0   \n",
       "4               1.0        10.0              1.0                         3.0   \n",
       "\n",
       "   BIA-BIA_BMC  BIA-BIA_BMI  BIA-BIA_BMR  BIA-BIA_DEE  BIA-BIA_ECW  \\\n",
       "0      2.66855      16.8792      932.498      1492.00      8.25598   \n",
       "1      2.57949      14.0371      936.656      1498.65      6.01993   \n",
       "2      3.92272      17.9665     1115.380      1863.98     15.92800   \n",
       "3      3.84191      18.2943     1131.430      1923.44     15.59250   \n",
       "4      3.92272      17.9665     1115.380      1863.98     15.92800   \n",
       "\n",
       "   BIA-BIA_FFM  BIA-BIA_FFMI  BIA-BIA_FMI  BIA-BIA_Fat  BIA-BIA_Frame_num  \\\n",
       "0      41.5862       13.8177      3.06143      9.21377                1.0   \n",
       "1      42.0291       12.8254      1.21172      3.97085                1.0   \n",
       "2      61.0662       14.0925      3.69863     16.88000                2.0   \n",
       "3      62.7757       14.0740      4.22033     18.82430                2.0   \n",
       "4      61.0662       14.0925      3.69863     24.32000                2.0   \n",
       "\n",
       "   BIA-BIA_ICW  BIA-BIA_LDM  BIA-BIA_LST  BIA-BIA_SMM  BIA-BIA_TBW  \\\n",
       "0      24.4349      8.89536      38.9177      19.5413      32.6909   \n",
       "1      21.0352     14.97400      39.4497      15.4107      27.0552   \n",
       "2      28.8558     16.43880      56.9964      27.4151      44.9870   \n",
       "3      30.4041     16.77900      58.9338      26.4798      45.9966   \n",
       "4      28.8558     16.43880      56.9964      27.4151      44.9870   \n",
       "\n",
       "   PAQ_A-PAQ_A_Total  PAQ_C-PAQ_C_Total  PCIAT-PCIAT_01  PCIAT-PCIAT_02  \\\n",
       "0               2.01              2.540             5.0             4.0   \n",
       "1               2.01              2.340             0.0             0.0   \n",
       "2               2.01              2.170             5.0             2.0   \n",
       "3               2.01              2.451             4.0             2.0   \n",
       "4               1.04              2.540             2.0             2.0   \n",
       "\n",
       "   PCIAT-PCIAT_03  PCIAT-PCIAT_04  PCIAT-PCIAT_05  PCIAT-PCIAT_06  \\\n",
       "0             4.0             0.0             4.0             0.0   \n",
       "1             0.0             0.0             0.0             0.0   \n",
       "2             2.0             1.0             2.0             1.0   \n",
       "3             4.0             0.0             5.0             1.0   \n",
       "4             2.0             0.0             2.0             1.0   \n",
       "\n",
       "   PCIAT-PCIAT_07  PCIAT-PCIAT_08  PCIAT-PCIAT_09  PCIAT-PCIAT_10  \\\n",
       "0             0.0             4.0             0.0             0.0   \n",
       "1             0.0             0.0             0.0             0.0   \n",
       "2             1.0             2.0             1.0             1.0   \n",
       "3             0.0             3.0             2.0             2.0   \n",
       "4             0.0             1.0             1.0             1.0   \n",
       "\n",
       "   PCIAT-PCIAT_11  PCIAT-PCIAT_12  PCIAT-PCIAT_13  PCIAT-PCIAT_14  \\\n",
       "0             4.0             0.0             4.0             4.0   \n",
       "1             0.0             0.0             0.0             0.0   \n",
       "2             1.0             0.0             1.0             1.0   \n",
       "3             3.0             0.0             3.0             0.0   \n",
       "4             2.0             0.0             1.0             1.0   \n",
       "\n",
       "   PCIAT-PCIAT_15  PCIAT-PCIAT_16  PCIAT-PCIAT_17  PCIAT-PCIAT_18  \\\n",
       "0             4.0             4.0             4.0             4.0   \n",
       "1             0.0             0.0             0.0             0.0   \n",
       "2             1.0             0.0             2.0             2.0   \n",
       "3             0.0             3.0             4.0             3.0   \n",
       "4             1.0             1.0             1.0             1.0   \n",
       "\n",
       "   PCIAT-PCIAT_19  PCIAT-PCIAT_20  PCIAT-PCIAT_Total  SDS-SDS_Total_Raw  \\\n",
       "0             2.0             4.0               55.0               46.0   \n",
       "1             0.0             0.0                0.0               46.0   \n",
       "2             1.0             1.0               28.0               38.0   \n",
       "3             4.0             1.0               44.0               31.0   \n",
       "4             1.0             1.0               26.0               48.0   \n",
       "\n",
       "   SDS-SDS_Total_T  PreInt_EduHx-computerinternet_hoursday  sii  ae_feature_0  \\\n",
       "0             55.0                                     3.0    2      0.005313   \n",
       "1             64.0                                     0.0    0      0.005313   \n",
       "2             54.0                                     2.0    0      0.005313   \n",
       "3             45.0                                     0.0    1      0.587671   \n",
       "4             57.0                                     1.0    0      0.005313   \n",
       "\n",
       "   ae_feature_1  ae_feature_2  ae_feature_3  ae_feature_4  ae_feature_5  \\\n",
       "0      0.012498      0.021012     -0.038549      0.037075      0.032568   \n",
       "1      0.012498      0.021012     -0.038549      0.037075      0.032568   \n",
       "2      0.012498      0.021012     -0.038549      0.037075      0.032568   \n",
       "3     -1.036325      0.608426     -2.259224      0.172130     -0.822569   \n",
       "4      0.012498      0.021012     -0.038549      0.037075      0.032568   \n",
       "\n",
       "   ae_feature_6  ae_feature_7  ae_feature_8  ae_feature_9  ae_feature_10  \\\n",
       "0      0.037667      0.015577     -0.022526      0.026104       0.060829   \n",
       "1      0.037667      0.015577     -0.022526      0.026104       0.060829   \n",
       "2      0.037667      0.015577     -0.022526      0.026104       0.060829   \n",
       "3      1.328282      1.238078     -0.646493     -0.263914       0.950456   \n",
       "4      0.037667      0.015577     -0.022526      0.026104       0.060829   \n",
       "\n",
       "   ae_feature_11  ae_feature_12  ae_feature_13  ae_feature_14  ae_feature_15  \\\n",
       "0      -0.003556      -0.056725       0.011289       0.021776       0.085440   \n",
       "1      -0.003556      -0.056725       0.011289       0.021776       0.085440   \n",
       "2      -0.003556      -0.056725       0.011289       0.021776       0.085440   \n",
       "3       0.758038      -0.472496       1.023212       0.082439      -0.795746   \n",
       "4      -0.003556      -0.056725       0.011289       0.021776       0.085440   \n",
       "\n",
       "   ae_feature_16  ae_feature_17  ae_feature_18  ae_feature_19  ae_feature_20  \\\n",
       "0      -0.020117       0.005509      -0.055012       0.007663      -0.044131   \n",
       "1      -0.020117       0.005509      -0.055012       0.007663      -0.044131   \n",
       "2      -0.020117       0.005509      -0.055012       0.007663      -0.044131   \n",
       "3      -1.025998      -0.864955       1.680336       0.039639       0.266968   \n",
       "4      -0.020117       0.005509      -0.055012       0.007663      -0.044131   \n",
       "\n",
       "   ae_feature_21  ae_feature_22  ae_feature_23  ae_feature_24  ae_feature_25  \\\n",
       "0       0.001736       0.027248       0.065766       0.064116       0.026046   \n",
       "1       0.001736       0.027248       0.065766       0.064116       0.026046   \n",
       "2       0.001736       0.027248       0.065766       0.064116       0.026046   \n",
       "3       0.007842       0.822864       0.698698      -0.005968      -0.749741   \n",
       "4       0.001736       0.027248       0.065766       0.064116       0.026046   \n",
       "\n",
       "   ae_feature_26  ae_feature_27  ae_feature_28  ae_feature_29  ae_feature_30  \\\n",
       "0      -0.040287       0.020598      -0.079916        0.00162       0.017478   \n",
       "1      -0.040287       0.020598      -0.079916        0.00162       0.017478   \n",
       "2      -0.040287       0.020598      -0.079916        0.00162       0.017478   \n",
       "3      -0.045138      -0.130245       0.607070       -0.82167       1.739423   \n",
       "4      -0.040287       0.020598      -0.079916        0.00162       0.017478   \n",
       "\n",
       "   ae_feature_31  stat_23_boxcox  stat_35_boxcox  stat_38_boxcox  \\\n",
       "0       0.010183        8.013047        2.817810    1.072277e+60   \n",
       "1       0.010183        8.013047        2.817810    1.072277e+60   \n",
       "2       0.010183        8.013047        2.817810    1.072277e+60   \n",
       "3      -0.138876        8.272084        4.197842    8.161620e+59   \n",
       "4       0.010183        8.013047        2.817810    1.072277e+60   \n",
       "\n",
       "   stat_40_boxcox  stat_47_boxcox  stat_54_boxcox  stat_66_boxcox  \\\n",
       "0        0.169476        7.878179        0.975501        2.089126   \n",
       "1        0.169476        7.878179        0.975501        2.089126   \n",
       "2        0.169476        7.878179        0.975501        2.089126   \n",
       "3        0.126963        8.138407        0.986268        2.184901   \n",
       "4        0.169476        7.878179        0.975501        2.089126   \n",
       "\n",
       "   stat_78_boxcox  stat_80_boxcox  stat_88_boxcox  stat_90_boxcox    stat_0  \\\n",
       "0        3.213356    5.164341e+31   1.614097e+102      782.043344  383544.0   \n",
       "1        3.213356    5.164341e+31   1.614097e+102      782.043344  383544.0   \n",
       "2        3.213356    5.164341e+31   1.614097e+102      782.043344  383544.0   \n",
       "3        3.150090    5.434934e+31   2.016626e+102      786.874140   43330.0   \n",
       "4        3.213356    5.164341e+31   1.614097e+102      782.043344  383544.0   \n",
       "\n",
       "     stat_1    stat_2    stat_3    stat_4    stat_5    stat_6    stat_7  \\\n",
       "0  383544.0  383544.0  383544.0  383544.0  383544.0  383544.0  383544.0   \n",
       "1  383544.0  383544.0  383544.0  383544.0  383544.0  383544.0  383544.0   \n",
       "2  383544.0  383544.0  383544.0  383544.0  383544.0  383544.0  383544.0   \n",
       "3   43330.0   43330.0   43330.0   43330.0   43330.0   43330.0   43330.0   \n",
       "4  383544.0  383544.0  383544.0  383544.0  383544.0  383544.0  383544.0   \n",
       "\n",
       "     stat_8    stat_9   stat_10   stat_11   stat_12   stat_13   stat_14  \\\n",
       "0  383544.0  383544.0  383544.0  383544.0 -0.033658  0.008939 -0.141485   \n",
       "1  383544.0  383544.0  383544.0  383544.0 -0.033658  0.008939 -0.141485   \n",
       "2  383544.0  383544.0  383544.0  383544.0 -0.033658  0.008939 -0.141485   \n",
       "3   43330.0   43330.0   43330.0   43330.0 -0.316384  0.016009 -0.167890   \n",
       "4  383544.0  383544.0  383544.0  383544.0 -0.033658  0.008939 -0.141485   \n",
       "\n",
       "    stat_15    stat_16   stat_17    stat_18      stat_19       stat_20  \\\n",
       "0  0.035104 -10.275450  0.051458  24.780988  3848.289673  4.340771e+13   \n",
       "1  0.035104 -10.275450  0.051458  24.780988  3848.289673  4.340771e+13   \n",
       "2  0.035104 -10.275450  0.051458  24.780988  3848.289673  4.340771e+13   \n",
       "3  0.047388 -10.580416  0.000000  42.296310  4053.579102  5.046215e+13   \n",
       "4  0.035104 -10.275450  0.051458  24.780988  3848.289673  4.340771e+13   \n",
       "\n",
       "    stat_21   stat_22    stat_23   stat_24   stat_25   stat_26   stat_27  \\\n",
       "0  4.001631  2.021691  33.756311  0.513798  0.476344  0.556131  0.091879   \n",
       "1  4.001631  2.021691  33.756311  0.513798  0.476344  0.556131  0.091879   \n",
       "2  4.001631  2.021691  33.756311  0.513798  0.476344  0.556131  0.091879   \n",
       "3  4.470182  3.000000  53.201683  0.453665  0.502702  0.585710  0.106351   \n",
       "4  4.001631  2.021691  33.756311  0.513798  0.476344  0.556131  0.091879   \n",
       "\n",
       "     stat_28   stat_29     stat_30     stat_31       stat_32   stat_33  \\\n",
       "0  40.038872  0.208968  104.244904  160.041496  2.491238e+13  1.961505   \n",
       "1  40.038872  0.208968  104.244904  160.041496  2.491238e+13  1.961505   \n",
       "2  40.038872  0.208968  104.244904  160.041496  2.491238e+13  1.961505   \n",
       "3  42.947170  0.000000  208.168976  112.404045  1.942842e+13  1.931421   \n",
       "4  40.038872  0.208968  104.244904  160.041496  2.491238e+13  1.961505   \n",
       "\n",
       "   stat_34    stat_35   stat_36   stat_37   stat_38  stat_39    stat_40  \\\n",
       "0      0.0   6.741570 -1.771064 -2.412578 -1.016421      0.0 -89.748867   \n",
       "1      0.0   6.741570 -1.771064 -2.412578 -1.016421      0.0 -89.748867   \n",
       "2      0.0   6.741570 -1.771064 -2.412578 -1.016421      0.0 -89.748867   \n",
       "3      0.0  14.244914 -1.746094 -2.905339 -1.048372      0.0 -89.833092   \n",
       "4      0.0   6.741570 -1.771064 -2.412578 -1.016421      0.0 -89.748867   \n",
       "\n",
       "   stat_41  stat_42      stat_43       stat_44  stat_45  stat_46  stat_47  \\\n",
       "0      0.0      0.0  3098.166748  0.000000e+00      1.0      2.0     21.0   \n",
       "1      0.0      0.0  3098.166748  0.000000e+00      1.0      2.0     21.0   \n",
       "2      0.0      0.0  3098.166748  0.000000e+00      1.0      2.0     21.0   \n",
       "3      0.0      0.0  3824.000000  5.500000e+10      1.0      3.0     41.0   \n",
       "4      0.0      0.0  3098.166748  0.000000e+00      1.0      2.0     21.0   \n",
       "\n",
       "    stat_48   stat_49   stat_50   stat_51    stat_52  stat_53   stat_54  \\\n",
       "0 -0.488205 -0.287686 -0.608817  0.001030 -38.661846      0.0  2.336633   \n",
       "1 -0.488205 -0.287686 -0.608817  0.001030 -38.661846      0.0  2.336633   \n",
       "2 -0.488205 -0.287686 -0.608817  0.001030 -38.661846      0.0  2.336633   \n",
       "3 -0.684180 -0.309863 -0.649974  0.006432 -41.541863      0.0  2.392969   \n",
       "4 -0.488205 -0.287686 -0.608817  0.001030 -38.661846      0.0  2.336633   \n",
       "\n",
       "       stat_55       stat_56  stat_57  stat_58  stat_59   stat_60   stat_61  \\\n",
       "0  3747.000000  2.183250e+13      2.0      2.0     27.0 -0.013372  0.006974   \n",
       "1  3747.000000  2.183250e+13      2.0      2.0     27.0 -0.013372  0.006974   \n",
       "2  3747.000000  2.183250e+13      2.0      2.0     27.0 -0.013372  0.006974   \n",
       "3  4028.666748  3.689000e+13      3.0      3.0     42.0 -0.366849  0.024974   \n",
       "4  3747.000000  2.183250e+13      2.0      2.0     27.0 -0.013372  0.006974   \n",
       "\n",
       "    stat_62   stat_63    stat_64  stat_65   stat_66  stat_67       stat_68  \\\n",
       "0 -0.174688  0.010069 -10.770489      0.0  6.271717   3818.0  4.367875e+13   \n",
       "1 -0.174688  0.010069 -10.770489      0.0  6.271717   3818.0  4.367875e+13   \n",
       "2 -0.174688  0.010069 -10.770489      0.0  6.271717   3818.0  4.367875e+13   \n",
       "3 -0.245378  0.023637 -15.086617      0.0  6.926828   4070.0  5.347750e+13   \n",
       "4 -0.174688  0.010069 -10.770489      0.0  6.271717   3818.0  4.367875e+13   \n",
       "\n",
       "   stat_69  stat_70  stat_71   stat_72   stat_73   stat_74   stat_75  \\\n",
       "0      4.0      2.0     33.0  0.224109  0.316078  0.244292  0.029585   \n",
       "1      4.0      2.0     33.0  0.224109  0.316078  0.244292  0.029585   \n",
       "2      4.0      2.0     33.0  0.224109  0.316078  0.244292  0.029585   \n",
       "3      5.0      3.0     50.0 -0.010677  0.400677  0.204727  0.041420   \n",
       "4      4.0      2.0     33.0  0.224109  0.316078  0.244292  0.029585   \n",
       "\n",
       "     stat_76  stat_77    stat_78  stat_79       stat_80  stat_81  stat_82  \\\n",
       "0  14.188232      0.0  15.806186   3970.0  6.496438e+13      6.0      2.0   \n",
       "1  14.188232      0.0  15.806186   3970.0  6.496438e+13      6.0      2.0   \n",
       "2  14.188232      0.0  15.806186   3970.0  6.496438e+13      6.0      2.0   \n",
       "3  12.220764      0.0  15.000000   4147.0  6.640875e+13      6.0      3.0   \n",
       "4  14.188232      0.0  15.806186   3970.0  6.496438e+13      6.0      2.0   \n",
       "\n",
       "   stat_83   stat_84   stat_85   stat_86   stat_87    stat_88  stat_89  \\\n",
       "0     40.0  1.486703  2.112647  1.740934  3.806256  89.377281      1.0   \n",
       "1     40.0  1.486703  2.112647  1.740934  3.806256  89.377281      1.0   \n",
       "2     40.0  1.486703  2.112647  1.740934  3.806256  89.377281      1.0   \n",
       "3     53.0  1.507865  1.666354  1.546979  4.004276  89.751656      0.0   \n",
       "4     40.0  1.486703  2.112647  1.740934  3.806256  89.377281      1.0   \n",
       "\n",
       "    stat_90  stat_91       stat_92  stat_93  stat_94  stat_95  FGC-FGC_GS  \\\n",
       "0  2613.625   4180.0  8.639500e+13      7.0      3.0     51.0         4.0   \n",
       "1  2613.625   4180.0  8.639500e+13      7.0      3.0     51.0         4.0   \n",
       "2  2613.625   4180.0  8.639500e+13      7.0      3.0     51.0         3.0   \n",
       "3  2633.250   4188.5  8.611000e+13      7.0      3.0     85.0         4.0   \n",
       "4  2613.625   4180.0  8.639500e+13      7.0      3.0     51.0         4.0   \n",
       "\n",
       "   FGC-FGC_SR  fitness_score  PAQ_Total     BMI_Age  Internet_Hours_Age  \\\n",
       "0         0.0            5.0       2.01   84.386578                15.0   \n",
       "1         2.0            6.0       2.01  126.320313                 0.0   \n",
       "2         2.0            7.0       2.01  166.486961                20.0   \n",
       "3         0.0            6.0       2.01  164.631122                 0.0   \n",
       "4         2.0            7.0       1.04  383.755177                18.0   \n",
       "\n",
       "   Age_Internet_Hours  BMI_Internet_Hours  BIA_BMI_Internet_Hours_Age  \\\n",
       "0            0.600000           50.631947                   10.127520   \n",
       "1            0.000000            0.000000                    0.000000   \n",
       "2            0.200000           33.297392                    3.593300   \n",
       "3            0.000000            0.000000                    0.000000   \n",
       "4            0.055556           21.319732                    0.998139   \n",
       "\n",
       "   FFMI_BFP   FMI_BFP   LST_TBW       BFP_DEE  BMR_Weight  DEE_Weight  \\\n",
       "0  1.499679  0.332267  1.190475  13746.944840   18.356260   29.370079   \n",
       "1  3.229888  0.305154  1.458119   5950.914352   20.362087   32.579348   \n",
       "2  0.834864  0.219113  1.266953  31463.982400   14.753704   24.655820   \n",
       "3  0.747651  0.224196  1.281264  36207.411592   13.865564   23.571569   \n",
       "4  0.579461  0.152082  1.266953  45331.993600    8.918759   14.904686   \n",
       "\n",
       "   SMM_Height    BMR_BMI     DEE_BMI   SMM_BMI  Muscle_to_Fat  \\\n",
       "0    0.424811  55.251559   88.402684  1.157844       6.383063   \n",
       "1    0.321056  66.734350  106.774989  1.097973      12.718037   \n",
       "2    0.485223  66.995036  111.959519  1.646682       7.412231   \n",
       "3    0.472854  61.852643  105.149985  1.447589       6.274343   \n",
       "4    0.426893  52.316793   87.429804  1.285903       7.412231   \n",
       "\n",
       "   Hydration_Status   ICW_TBW  Age_Weight  Age_Weight_BMI    Sex_BMI  \\\n",
       "0          1.553949  0.747453      254.00       15.049787   0.000000   \n",
       "1          1.700228  0.777492      414.00       29.496444   0.000000   \n",
       "2          1.680485  0.641425      756.00       45.408962  16.648696   \n",
       "3          1.774044  0.661008      734.40       40.147937   0.000000   \n",
       "4          2.779914  0.641425     2251.08      105.586693  21.319732   \n",
       "\n",
       "   Sex_HeartRate  Age_WaistCirc  Age_WaistCirc_BMI  BMI_FitnessMaxStage  \\\n",
       "0            0.0         168.10           0.998264            84.386578   \n",
       "1            0.0         198.00           1.149435            70.177951   \n",
       "2           94.0         461.90           1.443168            83.243480   \n",
       "3            0.0         436.86           1.378073           109.754082   \n",
       "4           81.0        1214.82           1.755730           106.598660   \n",
       "\n",
       "   Weight_GripStrengthDominant  Weight_GripStrengthNonDominant  \\\n",
       "0                     1076.960                        1018.540   \n",
       "1                      975.200                         922.300   \n",
       "2                     1111.320                         771.120   \n",
       "3                     1729.920                        1636.080   \n",
       "4                     2651.272                        2507.453   \n",
       "\n",
       "   HeartRate_FitnessTime  Age_PushUp  FFMI_Age  InternetUse_SleepDisturbance  \\\n",
       "0                 2835.0         0.0   69.0885                         138.0   \n",
       "1                 2450.0        45.0  115.4286                           0.0   \n",
       "2                 3760.0        70.0  140.9250                          76.0   \n",
       "3                 4462.0        45.0  126.6660                           0.0   \n",
       "4                 2835.0        54.0  253.6650                          48.0   \n",
       "\n",
       "   InternetUse_SleepDisturbance_BMI     CGAS_BMI  CGAS_FitnessMaxStage  \\\n",
       "0                          8.176656   860.743100                 255.0   \n",
       "1                          0.000000   912.313368                 325.0   \n",
       "2                          4.564922  1182.057420                 355.0   \n",
       "3                          0.000000  1298.756633                 426.0   \n",
       "4                          2.251435  1385.782585                 325.0   \n",
       "\n",
       "         id  Basic_Demos-Enroll_Season  CGAS-Season  Physical-Season  \\\n",
       "0  00008ff9                          0            0                0   \n",
       "1  000fd460                          1            1                0   \n",
       "2  00105258                          1            2                0   \n",
       "3  00115b9f                          2            2                1   \n",
       "4  0016bb22                          3            3                2   \n",
       "\n",
       "   Fitness_Endurance-Season  FGC-Season  BIA-Season  PAQ_A-Season  \\\n",
       "0                         0           0           0             0   \n",
       "1                         0           0           1             0   \n",
       "2                         1           0           2             0   \n",
       "3                         2           1           3             0   \n",
       "4                         0           2           2             1   \n",
       "\n",
       "   PAQ_C-Season PCIAT-Season  SDS-Season  PreInt_EduHx-Season  \n",
       "0             0         Fall           0                    0  \n",
       "1             1         Fall           1                    1  \n",
       "2             2         Fall           1                    1  \n",
       "3             3       Summer           2                    2  \n",
       "4             0          NaN           0                    3  "
      ]
     },
     "execution_count": 25,
     "metadata": {},
     "output_type": "execute_result"
    }
   ],
   "source": [
    "train_final.head()"
   ]
  }
 ],
 "metadata": {
  "kernelspec": {
   "display_name": ".venv",
   "language": "python",
   "name": "python3"
  },
  "language_info": {
   "codemirror_mode": {
    "name": "ipython",
    "version": 3
   },
   "file_extension": ".py",
   "mimetype": "text/x-python",
   "name": "python",
   "nbconvert_exporter": "python",
   "pygments_lexer": "ipython3",
   "version": "3.12.7"
  }
 },
 "nbformat": 4,
 "nbformat_minor": 2
}
